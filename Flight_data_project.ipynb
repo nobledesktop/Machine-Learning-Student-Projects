{
  "nbformat": 4,
  "nbformat_minor": 0,
  "metadata": {
    "colab": {
      "name": "Roberta Last Draft.ipynb",
      "provenance": [],
      "collapsed_sections": [
        "OKR_MWQjq3-a",
        "ksubC7PdGGkg",
        "_7ie2H-80gSH",
        "Ck9hieY86QEb",
        "nutPaoxPz_eV",
        "XFd7PnRE1Ag0",
        "f6yT-RD01rqr"
      ],
      "mount_file_id": "1zcUMVfjaKivTIXgDG74AbS-3zGtSGyfH",
      "authorship_tag": "ABX9TyOcReelFtTKx+A3dehKKSa6",
      "include_colab_link": true
    },
    "kernelspec": {
      "name": "python3",
      "display_name": "Python 3"
    },
    "language_info": {
      "name": "python"
    }
  },
  "cells": [
    {
      "cell_type": "markdown",
      "metadata": {
        "id": "view-in-github",
        "colab_type": "text"
      },
      "source": [
        "<a href=\"https://colab.research.google.com/github/RoCas9/ML_final_project/blob/main/Roberta_Last_Draft.ipynb\" target=\"_parent\"><img src=\"https://colab.research.google.com/assets/colab-badge.svg\" alt=\"Open In Colab\"/></a>"
      ]
    },
    {
      "cell_type": "markdown",
      "metadata": {
        "id": "F84aVCKBpCz4"
      },
      "source": [
        "## **Forecasting Jet Demand as a function of flights volume and industrial production**\n",
        "\n",
        "Dataset:\n",
        "Monthly time series data range 2018-2020.             \n",
        "\n",
        "1) Eurozone Jet Demand, source: JODI \n",
        "\n",
        "2) European number of flights scheduled and % operated, source: Eurocontrol\n",
        "\n",
        "3) Eurozone Industrial production index, source: Bloomberg"
      ]
    },
    {
      "cell_type": "code",
      "metadata": {
        "id": "um9k4r8doH5b"
      },
      "source": [
        "import pandas as pd\n",
        "import numpy as np \n",
        "import matplotlib.pyplot as plt\n",
        "import seaborn as sns \n",
        "%matplotlib inline"
      ],
      "execution_count": 181,
      "outputs": []
    },
    {
      "cell_type": "code",
      "metadata": {
        "id": "cn0hfyq7cuPe"
      },
      "source": [
        "flights = pd.read_excel(\"/content/drive/MyDrive/data/Eurocontrol dataset/data-snapshot-1.xlsx\",sheet_name=\"Data\")"
      ],
      "execution_count": 182,
      "outputs": []
    },
    {
      "cell_type": "markdown",
      "metadata": {
        "id": "OKR_MWQjq3-a"
      },
      "source": [
        "### **- Analysing Flights Dataframe**"
      ]
    },
    {
      "cell_type": "code",
      "metadata": {
        "colab": {
          "base_uri": "https://localhost:8080/",
          "height": 240
        },
        "id": "b-L1J-hndCXr",
        "outputId": "d6b864e8-81fd-4926-e665-91264303c017"
      },
      "source": [
        "flights.head()"
      ],
      "execution_count": 183,
      "outputs": [
        {
          "output_type": "execute_result",
          "data": {
            "text/html": [
              "<div>\n",
              "<style scoped>\n",
              "    .dataframe tbody tr th:only-of-type {\n",
              "        vertical-align: middle;\n",
              "    }\n",
              "\n",
              "    .dataframe tbody tr th {\n",
              "        vertical-align: top;\n",
              "    }\n",
              "\n",
              "    .dataframe thead th {\n",
              "        text-align: right;\n",
              "    }\n",
              "</style>\n",
              "<table border=\"1\" class=\"dataframe\">\n",
              "  <thead>\n",
              "    <tr style=\"text-align: right;\">\n",
              "      <th></th>\n",
              "      <th>Date</th>\n",
              "      <th>NON_MATCHED_SCHEDULES</th>\n",
              "      <th>TOTAL_FLIGHT_PLANS</th>\n",
              "      <th>FLIGHT_PLANS_WITH_SCHEDULE</th>\n",
              "      <th>Total Schedules</th>\n",
              "      <th>NON_OPERATED_SCHED</th>\n",
              "      <th>% Operated</th>\n",
              "      <th>Unnamed: 7</th>\n",
              "    </tr>\n",
              "  </thead>\n",
              "  <tbody>\n",
              "    <tr>\n",
              "      <th>0</th>\n",
              "      <td>2018-01-01</td>\n",
              "      <td>915</td>\n",
              "      <td>20350</td>\n",
              "      <td>18703</td>\n",
              "      <td>19618</td>\n",
              "      <td>0.046641</td>\n",
              "      <td>0.953359</td>\n",
              "      <td>NaN</td>\n",
              "    </tr>\n",
              "    <tr>\n",
              "      <th>1</th>\n",
              "      <td>2018-01-02</td>\n",
              "      <td>1005</td>\n",
              "      <td>25493</td>\n",
              "      <td>22513</td>\n",
              "      <td>23518</td>\n",
              "      <td>0.042733</td>\n",
              "      <td>0.957267</td>\n",
              "      <td>NaN</td>\n",
              "    </tr>\n",
              "    <tr>\n",
              "      <th>2</th>\n",
              "      <td>2018-01-03</td>\n",
              "      <td>1356</td>\n",
              "      <td>24590</td>\n",
              "      <td>21943</td>\n",
              "      <td>23299</td>\n",
              "      <td>0.058200</td>\n",
              "      <td>0.941800</td>\n",
              "      <td>NaN</td>\n",
              "    </tr>\n",
              "    <tr>\n",
              "      <th>3</th>\n",
              "      <td>2018-01-04</td>\n",
              "      <td>1083</td>\n",
              "      <td>25131</td>\n",
              "      <td>22307</td>\n",
              "      <td>23390</td>\n",
              "      <td>0.046302</td>\n",
              "      <td>0.953698</td>\n",
              "      <td>NaN</td>\n",
              "    </tr>\n",
              "    <tr>\n",
              "      <th>4</th>\n",
              "      <td>2018-01-05</td>\n",
              "      <td>998</td>\n",
              "      <td>25996</td>\n",
              "      <td>22886</td>\n",
              "      <td>23884</td>\n",
              "      <td>0.041785</td>\n",
              "      <td>0.958215</td>\n",
              "      <td>NaN</td>\n",
              "    </tr>\n",
              "  </tbody>\n",
              "</table>\n",
              "</div>"
            ],
            "text/plain": [
              "        Date  NON_MATCHED_SCHEDULES  ...  % Operated  Unnamed: 7\n",
              "0 2018-01-01                    915  ...    0.953359         NaN\n",
              "1 2018-01-02                   1005  ...    0.957267         NaN\n",
              "2 2018-01-03                   1356  ...    0.941800         NaN\n",
              "3 2018-01-04                   1083  ...    0.953698         NaN\n",
              "4 2018-01-05                    998  ...    0.958215         NaN\n",
              "\n",
              "[5 rows x 8 columns]"
            ]
          },
          "metadata": {},
          "execution_count": 183
        }
      ]
    },
    {
      "cell_type": "code",
      "metadata": {
        "colab": {
          "base_uri": "https://localhost:8080/"
        },
        "id": "M1qxJTdddQzP",
        "outputId": "67bab76c-8d39-479e-9a85-d431993becb2"
      },
      "source": [
        "tf=flights[\"TOTAL_FLIGHT_PLANS\"]\n",
        "tf"
      ],
      "execution_count": 184,
      "outputs": [
        {
          "output_type": "execute_result",
          "data": {
            "text/plain": [
              "0       20350\n",
              "1       25493\n",
              "2       24590\n",
              "3       25131\n",
              "4       25996\n",
              "        ...  \n",
              "1094    10892\n",
              "1095     6962\n",
              "1096     6529\n",
              "1097     9821\n",
              "1098    12196\n",
              "Name: TOTAL_FLIGHT_PLANS, Length: 1099, dtype: int64"
            ]
          },
          "metadata": {},
          "execution_count": 184
        }
      ]
    },
    {
      "cell_type": "code",
      "metadata": {
        "id": "tbNkFMG4fysz",
        "colab": {
          "base_uri": "https://localhost:8080/"
        },
        "outputId": "4651b20b-dd0d-42b7-ff10-7da2c31c841f"
      },
      "source": [
        "tfn = tf.astype(int)\n",
        "print(\"The total number of flights from 2018 to 2020 is\",tfn.sum())\n",
        "#how to change the format of the number?"
      ],
      "execution_count": 185,
      "outputs": [
        {
          "output_type": "stream",
          "text": [
            "The total number of flights from 2018 to 2020 is 27134161\n"
          ],
          "name": "stdout"
        }
      ]
    },
    {
      "cell_type": "markdown",
      "metadata": {
        "id": "ksubC7PdGGkg"
      },
      "source": [
        "### **- Creating a Datetime index**"
      ]
    },
    {
      "cell_type": "code",
      "metadata": {
        "id": "gL1B2jurywBX"
      },
      "source": [
        "flights.set_index(\"Date\",inplace=True)\n"
      ],
      "execution_count": 186,
      "outputs": []
    },
    {
      "cell_type": "code",
      "metadata": {
        "id": "m41II9Y6yuGj"
      },
      "source": [
        "flights.index=pd.to_datetime(flights.index)"
      ],
      "execution_count": 187,
      "outputs": []
    },
    {
      "cell_type": "markdown",
      "metadata": {
        "id": "_7ie2H-80gSH"
      },
      "source": [
        "### **- Switching Datatime Index Frequency from daily to monthly**\n"
      ]
    },
    {
      "cell_type": "code",
      "metadata": {
        "id": "7t25aszcnJiv"
      },
      "source": [
        "Month=flights.resample(\"1M\").mean()"
      ],
      "execution_count": 188,
      "outputs": []
    },
    {
      "cell_type": "code",
      "metadata": {
        "colab": {
          "base_uri": "https://localhost:8080/",
          "height": 262
        },
        "id": "XS3v1B54nY1T",
        "outputId": "4d6b815c-f8d6-4c26-b341-964aa5307320"
      },
      "source": [
        "Month.head()"
      ],
      "execution_count": 189,
      "outputs": [
        {
          "output_type": "execute_result",
          "data": {
            "text/html": [
              "<div>\n",
              "<style scoped>\n",
              "    .dataframe tbody tr th:only-of-type {\n",
              "        vertical-align: middle;\n",
              "    }\n",
              "\n",
              "    .dataframe tbody tr th {\n",
              "        vertical-align: top;\n",
              "    }\n",
              "\n",
              "    .dataframe thead th {\n",
              "        text-align: right;\n",
              "    }\n",
              "</style>\n",
              "<table border=\"1\" class=\"dataframe\">\n",
              "  <thead>\n",
              "    <tr style=\"text-align: right;\">\n",
              "      <th></th>\n",
              "      <th>NON_MATCHED_SCHEDULES</th>\n",
              "      <th>TOTAL_FLIGHT_PLANS</th>\n",
              "      <th>FLIGHT_PLANS_WITH_SCHEDULE</th>\n",
              "      <th>Total Schedules</th>\n",
              "      <th>NON_OPERATED_SCHED</th>\n",
              "      <th>% Operated</th>\n",
              "      <th>Unnamed: 7</th>\n",
              "    </tr>\n",
              "    <tr>\n",
              "      <th>Date</th>\n",
              "      <th></th>\n",
              "      <th></th>\n",
              "      <th></th>\n",
              "      <th></th>\n",
              "      <th></th>\n",
              "      <th></th>\n",
              "      <th></th>\n",
              "    </tr>\n",
              "  </thead>\n",
              "  <tbody>\n",
              "    <tr>\n",
              "      <th>2018-01-31</th>\n",
              "      <td>970.870968</td>\n",
              "      <td>24742.580645</td>\n",
              "      <td>21687.193548</td>\n",
              "      <td>22658.064516</td>\n",
              "      <td>0.042760</td>\n",
              "      <td>0.957240</td>\n",
              "      <td>NaN</td>\n",
              "    </tr>\n",
              "    <tr>\n",
              "      <th>2018-02-28</th>\n",
              "      <td>1087.714286</td>\n",
              "      <td>25667.607143</td>\n",
              "      <td>22333.321429</td>\n",
              "      <td>23421.035714</td>\n",
              "      <td>0.046320</td>\n",
              "      <td>0.953680</td>\n",
              "      <td>NaN</td>\n",
              "    </tr>\n",
              "    <tr>\n",
              "      <th>2018-03-31</th>\n",
              "      <td>1324.806452</td>\n",
              "      <td>26976.290323</td>\n",
              "      <td>23276.129032</td>\n",
              "      <td>24600.935484</td>\n",
              "      <td>0.053773</td>\n",
              "      <td>0.946227</td>\n",
              "      <td>NaN</td>\n",
              "    </tr>\n",
              "    <tr>\n",
              "      <th>2018-04-30</th>\n",
              "      <td>1365.433333</td>\n",
              "      <td>29889.733333</td>\n",
              "      <td>25944.033333</td>\n",
              "      <td>27309.466667</td>\n",
              "      <td>0.050097</td>\n",
              "      <td>0.949903</td>\n",
              "      <td>NaN</td>\n",
              "    </tr>\n",
              "    <tr>\n",
              "      <th>2018-05-31</th>\n",
              "      <td>1420.935484</td>\n",
              "      <td>31502.000000</td>\n",
              "      <td>27299.806452</td>\n",
              "      <td>28720.741935</td>\n",
              "      <td>0.049410</td>\n",
              "      <td>0.950590</td>\n",
              "      <td>NaN</td>\n",
              "    </tr>\n",
              "  </tbody>\n",
              "</table>\n",
              "</div>"
            ],
            "text/plain": [
              "            NON_MATCHED_SCHEDULES  TOTAL_FLIGHT_PLANS  ...  % Operated  Unnamed: 7\n",
              "Date                                                   ...                        \n",
              "2018-01-31             970.870968        24742.580645  ...    0.957240         NaN\n",
              "2018-02-28            1087.714286        25667.607143  ...    0.953680         NaN\n",
              "2018-03-31            1324.806452        26976.290323  ...    0.946227         NaN\n",
              "2018-04-30            1365.433333        29889.733333  ...    0.949903         NaN\n",
              "2018-05-31            1420.935484        31502.000000  ...    0.950590         NaN\n",
              "\n",
              "[5 rows x 7 columns]"
            ]
          },
          "metadata": {},
          "execution_count": 189
        }
      ]
    },
    {
      "cell_type": "markdown",
      "metadata": {
        "id": "Ck9hieY86QEb"
      },
      "source": [
        "### **- Seasonality check**"
      ]
    },
    {
      "cell_type": "code",
      "metadata": {
        "id": "hH9cdLMnEZL0"
      },
      "source": [
        "Month[\"TOTAL_FLIGHT_PLANS\"] = Month[\"TOTAL_FLIGHT_PLANS\"].astype(int)"
      ],
      "execution_count": 190,
      "outputs": []
    },
    {
      "cell_type": "code",
      "metadata": {
        "id": "IgqXN-LHEZj9"
      },
      "source": [
        "Month[\"DATES\"] = Month.index.astype(str)"
      ],
      "execution_count": 191,
      "outputs": []
    },
    {
      "cell_type": "code",
      "metadata": {
        "id": "Z76CJxDjEm9h"
      },
      "source": [
        "Month[\"Months\"] = Month.DATES.str.split(\"-\").apply(lambda x : x[1])"
      ],
      "execution_count": 192,
      "outputs": []
    },
    {
      "cell_type": "code",
      "metadata": {
        "colab": {
          "base_uri": "https://localhost:8080/",
          "height": 466
        },
        "id": "lrg4b9ZfE1q9",
        "outputId": "9c4a8f61-81dd-45fc-ba80-65cc7771766b"
      },
      "source": [
        "plt.figure(figsize=(12,8))\n",
        "plt.pie(Month[\"TOTAL_FLIGHT_PLANS\"], labels=Month[\"Months\"]);"
      ],
      "execution_count": 193,
      "outputs": [
        {
          "output_type": "display_data",
          "data": {
            "image/png": "[encoded data removed]",
            "text/plain": [
              "<Figure size 864x576 with 1 Axes>"
            ]
          },
          "metadata": {}
        }
      ]
    },
    {
      "cell_type": "code",
      "metadata": {
        "colab": {
          "base_uri": "https://localhost:8080/"
        },
        "id": "0JGi03GYFQSs",
        "outputId": "1c0bff6d-02de-43a3-e231-d44d5571c599"
      },
      "source": [
        "number_of_flights_monthly = Month.groupby(\"Months\")[\"TOTAL_FLIGHT_PLANS\"].sum()\n",
        "number_of_flights_monthly"
      ],
      "execution_count": 194,
      "outputs": [
        {
          "output_type": "execute_result",
          "data": {
            "text/plain": [
              "Months\n",
              "01    85118\n",
              "02    77810\n",
              "03    70449\n",
              "04    63763\n",
              "05    67824\n",
              "06    76091\n",
              "07    84127\n",
              "08    86550\n",
              "09    84728\n",
              "10    77223\n",
              "11    64393\n",
              "12    61818\n",
              "Name: TOTAL_FLIGHT_PLANS, dtype: int64"
            ]
          },
          "metadata": {},
          "execution_count": 194
        }
      ]
    },
    {
      "cell_type": "code",
      "metadata": {
        "colab": {
          "base_uri": "https://localhost:8080/",
          "height": 265
        },
        "id": "C2fKkUpdFXxa",
        "outputId": "4986896c-4e0c-4749-9962-9513cfb24690"
      },
      "source": [
        "plt.bar(number_of_flights_monthly.index, number_of_flights_monthly,);"
      ],
      "execution_count": 195,
      "outputs": [
        {
          "output_type": "display_data",
          "data": {
            "image/png": "[encoded data removed]",
            "text/plain": [
              "<Figure size 432x288 with 1 Axes>"
            ]
          },
          "metadata": {
            "needs_background": "light"
          }
        }
      ]
    },
    {
      "cell_type": "code",
      "metadata": {
        "id": "vtg2M-_hFkur"
      },
      "source": [
        "#it would be interesting to double check the seasonality for a subset of the timeframe ie. 2018 to 2020 with 2020 excluded, thus excludig covid shock"
      ],
      "execution_count": 196,
      "outputs": []
    },
    {
      "cell_type": "markdown",
      "metadata": {
        "id": "nutPaoxPz_eV"
      },
      "source": [
        "### **- Adding a new dataframe with Jet Demand and Industrial Production**\n"
      ]
    },
    {
      "cell_type": "code",
      "metadata": {
        "id": "4BE2nYjbnqbu"
      },
      "source": [
        "JetandIndustry = pd.read_excel(\"/content/drive/MyDrive/data/EU Jet Fuel Demand EUO5DEEA Index Industrial Production EUIPEMU Index   .xlsx\")"
      ],
      "execution_count": 197,
      "outputs": []
    },
    {
      "cell_type": "code",
      "metadata": {
        "colab": {
          "base_uri": "https://localhost:8080/",
          "height": 192
        },
        "id": "syONQLIw48Md",
        "outputId": "57fe47a9-bdd8-44b4-dbf6-b0aaaaa6742b"
      },
      "source": [
        "JetandIndustry.head()"
      ],
      "execution_count": 198,
      "outputs": [
        {
          "output_type": "execute_result",
          "data": {
            "text/html": [
              "<div>\n",
              "<style scoped>\n",
              "    .dataframe tbody tr th:only-of-type {\n",
              "        vertical-align: middle;\n",
              "    }\n",
              "\n",
              "    .dataframe tbody tr th {\n",
              "        vertical-align: top;\n",
              "    }\n",
              "\n",
              "    .dataframe thead th {\n",
              "        text-align: right;\n",
              "    }\n",
              "</style>\n",
              "<table border=\"1\" class=\"dataframe\">\n",
              "  <thead>\n",
              "    <tr style=\"text-align: right;\">\n",
              "      <th></th>\n",
              "      <th>Date</th>\n",
              "      <th>Jet Demand MT</th>\n",
              "      <th>Industrial Production</th>\n",
              "    </tr>\n",
              "  </thead>\n",
              "  <tbody>\n",
              "    <tr>\n",
              "      <th>0</th>\n",
              "      <td>12/31/2020</td>\n",
              "      <td>1872.0</td>\n",
              "      <td>95.6</td>\n",
              "    </tr>\n",
              "    <tr>\n",
              "      <th>1</th>\n",
              "      <td>11/30/2020</td>\n",
              "      <td>1397.0</td>\n",
              "      <td>107.9</td>\n",
              "    </tr>\n",
              "    <tr>\n",
              "      <th>2</th>\n",
              "      <td>10/31/2020</td>\n",
              "      <td>1511.0</td>\n",
              "      <td>106.9</td>\n",
              "    </tr>\n",
              "    <tr>\n",
              "      <th>3</th>\n",
              "      <td>9/30/2020</td>\n",
              "      <td>1644.0</td>\n",
              "      <td>102.1</td>\n",
              "    </tr>\n",
              "    <tr>\n",
              "      <th>4</th>\n",
              "      <td>8/31/2020</td>\n",
              "      <td>1935.0</td>\n",
              "      <td>81.8</td>\n",
              "    </tr>\n",
              "  </tbody>\n",
              "</table>\n",
              "</div>"
            ],
            "text/plain": [
              "         Date  Jet Demand MT   Industrial Production \n",
              "0  12/31/2020          1872.0                    95.6\n",
              "1  11/30/2020          1397.0                   107.9\n",
              "2  10/31/2020          1511.0                   106.9\n",
              "3   9/30/2020          1644.0                   102.1\n",
              "4   8/31/2020          1935.0                    81.8"
            ]
          },
          "metadata": {},
          "execution_count": 198
        }
      ]
    },
    {
      "cell_type": "code",
      "metadata": {
        "id": "a75qNtrd5Ubr"
      },
      "source": [
        "JetandIndustry.set_index(\"Date\",inplace=True)"
      ],
      "execution_count": 199,
      "outputs": []
    },
    {
      "cell_type": "code",
      "metadata": {
        "id": "GmM5OFCm5iCj"
      },
      "source": [
        "JetandIndustry.index=pd.to_datetime(JetandIndustry.index)"
      ],
      "execution_count": 200,
      "outputs": []
    },
    {
      "cell_type": "code",
      "metadata": {
        "id": "e4yenAgS6_Ru"
      },
      "source": [
        "JandI=JetandIndustry.sort_index(ascending=True)"
      ],
      "execution_count": 201,
      "outputs": []
    },
    {
      "cell_type": "code",
      "metadata": {
        "colab": {
          "base_uri": "https://localhost:8080/",
          "height": 274
        },
        "id": "0Up0d16p7VZ0",
        "outputId": "20125d4f-7057-42e4-ec97-168e4e08753d"
      },
      "source": [
        "JandI.head()"
      ],
      "execution_count": 202,
      "outputs": [
        {
          "output_type": "execute_result",
          "data": {
            "text/html": [
              "<div>\n",
              "<style scoped>\n",
              "    .dataframe tbody tr th:only-of-type {\n",
              "        vertical-align: middle;\n",
              "    }\n",
              "\n",
              "    .dataframe tbody tr th {\n",
              "        vertical-align: top;\n",
              "    }\n",
              "\n",
              "    .dataframe thead th {\n",
              "        text-align: right;\n",
              "    }\n",
              "</style>\n",
              "<table border=\"1\" class=\"dataframe\">\n",
              "  <thead>\n",
              "    <tr style=\"text-align: right;\">\n",
              "      <th></th>\n",
              "      <th>Jet Demand MT</th>\n",
              "      <th>Industrial Production</th>\n",
              "    </tr>\n",
              "    <tr>\n",
              "      <th>Date</th>\n",
              "      <th></th>\n",
              "      <th></th>\n",
              "    </tr>\n",
              "  </thead>\n",
              "  <tbody>\n",
              "    <tr>\n",
              "      <th>2018-01-31</th>\n",
              "      <td>3272.0</td>\n",
              "      <td>102.6</td>\n",
              "    </tr>\n",
              "    <tr>\n",
              "      <th>2018-02-28</th>\n",
              "      <td>3075.0</td>\n",
              "      <td>102.0</td>\n",
              "    </tr>\n",
              "    <tr>\n",
              "      <th>2018-03-31</th>\n",
              "      <td>3315.0</td>\n",
              "      <td>112.9</td>\n",
              "    </tr>\n",
              "    <tr>\n",
              "      <th>2018-04-30</th>\n",
              "      <td>3386.0</td>\n",
              "      <td>103.8</td>\n",
              "    </tr>\n",
              "    <tr>\n",
              "      <th>2018-05-31</th>\n",
              "      <td>3673.0</td>\n",
              "      <td>105.9</td>\n",
              "    </tr>\n",
              "  </tbody>\n",
              "</table>\n",
              "</div>"
            ],
            "text/plain": [
              "            Jet Demand MT   Industrial Production \n",
              "Date                                              \n",
              "2018-01-31          3272.0                   102.6\n",
              "2018-02-28          3075.0                   102.0\n",
              "2018-03-31          3315.0                   112.9\n",
              "2018-04-30          3386.0                   103.8\n",
              "2018-05-31          3673.0                   105.9"
            ]
          },
          "metadata": {},
          "execution_count": 202
        }
      ]
    },
    {
      "cell_type": "markdown",
      "metadata": {
        "id": "XFd7PnRE1Ag0"
      },
      "source": [
        "### **- Merging the two datasets**"
      ]
    },
    {
      "cell_type": "code",
      "metadata": {
        "id": "uGZEq5EK7XEu"
      },
      "source": [
        "Month[\"Jet\"]=JandI['Jet Demand MT ']"
      ],
      "execution_count": 203,
      "outputs": []
    },
    {
      "cell_type": "code",
      "metadata": {
        "id": "GDwMTDQz8xME"
      },
      "source": [
        "Month[\"Ind\"]=JandI['Industrial Production ']"
      ],
      "execution_count": 204,
      "outputs": []
    },
    {
      "cell_type": "code",
      "metadata": {
        "colab": {
          "base_uri": "https://localhost:8080/",
          "height": 262
        },
        "id": "NMP1VaUv9A6X",
        "outputId": "97930c37-bb9c-4046-be44-a2624aae16ab"
      },
      "source": [
        "Month.head()"
      ],
      "execution_count": 205,
      "outputs": [
        {
          "output_type": "execute_result",
          "data": {
            "text/html": [
              "<div>\n",
              "<style scoped>\n",
              "    .dataframe tbody tr th:only-of-type {\n",
              "        vertical-align: middle;\n",
              "    }\n",
              "\n",
              "    .dataframe tbody tr th {\n",
              "        vertical-align: top;\n",
              "    }\n",
              "\n",
              "    .dataframe thead th {\n",
              "        text-align: right;\n",
              "    }\n",
              "</style>\n",
              "<table border=\"1\" class=\"dataframe\">\n",
              "  <thead>\n",
              "    <tr style=\"text-align: right;\">\n",
              "      <th></th>\n",
              "      <th>NON_MATCHED_SCHEDULES</th>\n",
              "      <th>TOTAL_FLIGHT_PLANS</th>\n",
              "      <th>FLIGHT_PLANS_WITH_SCHEDULE</th>\n",
              "      <th>Total Schedules</th>\n",
              "      <th>NON_OPERATED_SCHED</th>\n",
              "      <th>% Operated</th>\n",
              "      <th>Unnamed: 7</th>\n",
              "      <th>DATES</th>\n",
              "      <th>Months</th>\n",
              "      <th>Jet</th>\n",
              "      <th>Ind</th>\n",
              "    </tr>\n",
              "    <tr>\n",
              "      <th>Date</th>\n",
              "      <th></th>\n",
              "      <th></th>\n",
              "      <th></th>\n",
              "      <th></th>\n",
              "      <th></th>\n",
              "      <th></th>\n",
              "      <th></th>\n",
              "      <th></th>\n",
              "      <th></th>\n",
              "      <th></th>\n",
              "      <th></th>\n",
              "    </tr>\n",
              "  </thead>\n",
              "  <tbody>\n",
              "    <tr>\n",
              "      <th>2018-01-31</th>\n",
              "      <td>970.870968</td>\n",
              "      <td>24742</td>\n",
              "      <td>21687.193548</td>\n",
              "      <td>22658.064516</td>\n",
              "      <td>0.042760</td>\n",
              "      <td>0.957240</td>\n",
              "      <td>NaN</td>\n",
              "      <td>2018-01-31</td>\n",
              "      <td>01</td>\n",
              "      <td>3272.0</td>\n",
              "      <td>102.6</td>\n",
              "    </tr>\n",
              "    <tr>\n",
              "      <th>2018-02-28</th>\n",
              "      <td>1087.714286</td>\n",
              "      <td>25667</td>\n",
              "      <td>22333.321429</td>\n",
              "      <td>23421.035714</td>\n",
              "      <td>0.046320</td>\n",
              "      <td>0.953680</td>\n",
              "      <td>NaN</td>\n",
              "      <td>2018-02-28</td>\n",
              "      <td>02</td>\n",
              "      <td>3075.0</td>\n",
              "      <td>102.0</td>\n",
              "    </tr>\n",
              "    <tr>\n",
              "      <th>2018-03-31</th>\n",
              "      <td>1324.806452</td>\n",
              "      <td>26976</td>\n",
              "      <td>23276.129032</td>\n",
              "      <td>24600.935484</td>\n",
              "      <td>0.053773</td>\n",
              "      <td>0.946227</td>\n",
              "      <td>NaN</td>\n",
              "      <td>2018-03-31</td>\n",
              "      <td>03</td>\n",
              "      <td>3315.0</td>\n",
              "      <td>112.9</td>\n",
              "    </tr>\n",
              "    <tr>\n",
              "      <th>2018-04-30</th>\n",
              "      <td>1365.433333</td>\n",
              "      <td>29889</td>\n",
              "      <td>25944.033333</td>\n",
              "      <td>27309.466667</td>\n",
              "      <td>0.050097</td>\n",
              "      <td>0.949903</td>\n",
              "      <td>NaN</td>\n",
              "      <td>2018-04-30</td>\n",
              "      <td>04</td>\n",
              "      <td>3386.0</td>\n",
              "      <td>103.8</td>\n",
              "    </tr>\n",
              "    <tr>\n",
              "      <th>2018-05-31</th>\n",
              "      <td>1420.935484</td>\n",
              "      <td>31502</td>\n",
              "      <td>27299.806452</td>\n",
              "      <td>28720.741935</td>\n",
              "      <td>0.049410</td>\n",
              "      <td>0.950590</td>\n",
              "      <td>NaN</td>\n",
              "      <td>2018-05-31</td>\n",
              "      <td>05</td>\n",
              "      <td>3673.0</td>\n",
              "      <td>105.9</td>\n",
              "    </tr>\n",
              "  </tbody>\n",
              "</table>\n",
              "</div>"
            ],
            "text/plain": [
              "            NON_MATCHED_SCHEDULES  TOTAL_FLIGHT_PLANS  ...     Jet    Ind\n",
              "Date                                                   ...               \n",
              "2018-01-31             970.870968               24742  ...  3272.0  102.6\n",
              "2018-02-28            1087.714286               25667  ...  3075.0  102.0\n",
              "2018-03-31            1324.806452               26976  ...  3315.0  112.9\n",
              "2018-04-30            1365.433333               29889  ...  3386.0  103.8\n",
              "2018-05-31            1420.935484               31502  ...  3673.0  105.9\n",
              "\n",
              "[5 rows x 11 columns]"
            ]
          },
          "metadata": {},
          "execution_count": 205
        }
      ]
    },
    {
      "cell_type": "markdown",
      "metadata": {
        "id": "f6yT-RD01rqr"
      },
      "source": [
        "### **- Renaming and cleaning the dataset**"
      ]
    },
    {
      "cell_type": "code",
      "metadata": {
        "id": "V4LvZbp-9CZP"
      },
      "source": [
        "DATA = Month.drop(columns=[\"TOTAL_FLIGHT_PLANS\",\"NON_MATCHED_SCHEDULES\",\"FLIGHT_PLANS_WITH_SCHEDULE\",\"NON_OPERATED_SCHED\",\"Unnamed: 7\"])\n"
      ],
      "execution_count": 206,
      "outputs": []
    },
    {
      "cell_type": "code",
      "metadata": {
        "colab": {
          "base_uri": "https://localhost:8080/",
          "height": 170
        },
        "id": "e_rwPmsy9g6A",
        "outputId": "1e983d9f-f362-41cf-c0bb-bfcbfd9884a4"
      },
      "source": [
        "DATA.head()"
      ],
      "execution_count": 207,
      "outputs": [
        {
          "output_type": "execute_result",
          "data": {
            "text/html": [
              "<div>\n",
              "<style scoped>\n",
              "    .dataframe tbody tr th:only-of-type {\n",
              "        vertical-align: middle;\n",
              "    }\n",
              "\n",
              "    .dataframe tbody tr th {\n",
              "        vertical-align: top;\n",
              "    }\n",
              "\n",
              "    .dataframe thead th {\n",
              "        text-align: right;\n",
              "    }\n",
              "</style>\n",
              "<table border=\"1\" class=\"dataframe\">\n",
              "  <thead>\n",
              "    <tr style=\"text-align: right;\">\n",
              "      <th></th>\n",
              "      <th>Total Schedules</th>\n",
              "      <th>% Operated</th>\n",
              "      <th>DATES</th>\n",
              "      <th>Months</th>\n",
              "      <th>Jet</th>\n",
              "      <th>Ind</th>\n",
              "    </tr>\n",
              "    <tr>\n",
              "      <th>Date</th>\n",
              "      <th></th>\n",
              "      <th></th>\n",
              "      <th></th>\n",
              "      <th></th>\n",
              "      <th></th>\n",
              "      <th></th>\n",
              "    </tr>\n",
              "  </thead>\n",
              "  <tbody>\n",
              "    <tr>\n",
              "      <th>2018-01-31</th>\n",
              "      <td>22658.064516</td>\n",
              "      <td>0.957240</td>\n",
              "      <td>2018-01-31</td>\n",
              "      <td>01</td>\n",
              "      <td>3272.0</td>\n",
              "      <td>102.6</td>\n",
              "    </tr>\n",
              "    <tr>\n",
              "      <th>2018-02-28</th>\n",
              "      <td>23421.035714</td>\n",
              "      <td>0.953680</td>\n",
              "      <td>2018-02-28</td>\n",
              "      <td>02</td>\n",
              "      <td>3075.0</td>\n",
              "      <td>102.0</td>\n",
              "    </tr>\n",
              "    <tr>\n",
              "      <th>2018-03-31</th>\n",
              "      <td>24600.935484</td>\n",
              "      <td>0.946227</td>\n",
              "      <td>2018-03-31</td>\n",
              "      <td>03</td>\n",
              "      <td>3315.0</td>\n",
              "      <td>112.9</td>\n",
              "    </tr>\n",
              "    <tr>\n",
              "      <th>2018-04-30</th>\n",
              "      <td>27309.466667</td>\n",
              "      <td>0.949903</td>\n",
              "      <td>2018-04-30</td>\n",
              "      <td>04</td>\n",
              "      <td>3386.0</td>\n",
              "      <td>103.8</td>\n",
              "    </tr>\n",
              "    <tr>\n",
              "      <th>2018-05-31</th>\n",
              "      <td>28720.741935</td>\n",
              "      <td>0.950590</td>\n",
              "      <td>2018-05-31</td>\n",
              "      <td>05</td>\n",
              "      <td>3673.0</td>\n",
              "      <td>105.9</td>\n",
              "    </tr>\n",
              "  </tbody>\n",
              "</table>\n",
              "</div>"
            ],
            "text/plain": [
              "            Total Schedules  % Operated       DATES Months     Jet    Ind\n",
              "Date                                                                     \n",
              "2018-01-31     22658.064516    0.957240  2018-01-31     01  3272.0  102.6\n",
              "2018-02-28     23421.035714    0.953680  2018-02-28     02  3075.0  102.0\n",
              "2018-03-31     24600.935484    0.946227  2018-03-31     03  3315.0  112.9\n",
              "2018-04-30     27309.466667    0.949903  2018-04-30     04  3386.0  103.8\n",
              "2018-05-31     28720.741935    0.950590  2018-05-31     05  3673.0  105.9"
            ]
          },
          "metadata": {},
          "execution_count": 207
        }
      ]
    },
    {
      "cell_type": "code",
      "metadata": {
        "id": "nSomxfkrnUOb"
      },
      "source": [
        "#DATA> 0\n",
        "#before working now giving me an error"
      ],
      "execution_count": 208,
      "outputs": []
    },
    {
      "cell_type": "code",
      "metadata": {
        "colab": {
          "base_uri": "https://localhost:8080/",
          "height": 345
        },
        "id": "xR69LYHg2ehC",
        "outputId": "282389e2-54ff-4d00-8bb9-33c0f24a37ca"
      },
      "source": [
        "sns.heatmap(DATA.isnull(),yticklabels=False,cbar=False,cmap=\"viridis\")"
      ],
      "execution_count": 209,
      "outputs": [
        {
          "output_type": "execute_result",
          "data": {
            "text/plain": [
              "<matplotlib.axes._subplots.AxesSubplot at 0x7f2f3aa41a50>"
            ]
          },
          "metadata": {},
          "execution_count": 209
        },
        {
          "output_type": "display_data",
          "data": {
            "image/png": "[encoded data removed]",
            "text/plain": [
              "<Figure size 432x288 with 1 Axes>"
            ]
          },
          "metadata": {
            "needs_background": "light"
          }
        }
      ]
    },
    {
      "cell_type": "code",
      "metadata": {
        "colab": {
          "base_uri": "https://localhost:8080/"
        },
        "id": "awezbt-zGqBD",
        "outputId": "269fedec-46fc-4758-d5f2-20d60fbb5834"
      },
      "source": [
        "DATA.loc[\"2021-01-31\"]"
      ],
      "execution_count": 210,
      "outputs": [
        {
          "output_type": "execute_result",
          "data": {
            "text/plain": [
              "Total Schedules       9563.67\n",
              "% Operated           0.815931\n",
              "DATES              2021-01-31\n",
              "Months                     01\n",
              "Jet                       NaN\n",
              "Ind                       NaN\n",
              "Name: 2021-01-31 00:00:00, dtype: object"
            ]
          },
          "metadata": {},
          "execution_count": 210
        }
      ]
    },
    {
      "cell_type": "code",
      "metadata": {
        "id": "70JvoTnpuCaS"
      },
      "source": [
        "DATA.drop(pd.Timestamp('2021-01-31'),inplace=True)"
      ],
      "execution_count": 211,
      "outputs": []
    },
    {
      "cell_type": "code",
      "metadata": {
        "colab": {
          "base_uri": "https://localhost:8080/",
          "height": 345
        },
        "id": "EQY9pgJ12jig",
        "outputId": "37f3d4c6-c8f3-4218-f210-c386cdce0807"
      },
      "source": [
        "sns.heatmap(DATA.isnull(),yticklabels=False,cbar=False,cmap=\"viridis\")"
      ],
      "execution_count": 212,
      "outputs": [
        {
          "output_type": "execute_result",
          "data": {
            "text/plain": [
              "<matplotlib.axes._subplots.AxesSubplot at 0x7f2f3a9a7650>"
            ]
          },
          "metadata": {},
          "execution_count": 212
        },
        {
          "output_type": "display_data",
          "data": {
            "image/png": "[encoded data removed]",
            "text/plain": [
              "<Figure size 432x288 with 1 Axes>"
            ]
          },
          "metadata": {
            "needs_background": "light"
          }
        }
      ]
    },
    {
      "cell_type": "code",
      "metadata": {
        "id": "jaH9fS_F2Mim"
      },
      "source": [
        "operated=DATA['% Operated'].astype(float)"
      ],
      "execution_count": 213,
      "outputs": []
    },
    {
      "cell_type": "code",
      "metadata": {
        "colab": {
          "base_uri": "https://localhost:8080/"
        },
        "id": "L0UZbJNGLzcn",
        "outputId": "01647e0f-7626-4644-9479-509407aea6d7"
      },
      "source": [
        "operated.mean()\n",
        "print(\"On average the % operated of the number of flights plan is\",operated.mean())"
      ],
      "execution_count": 214,
      "outputs": [
        {
          "output_type": "stream",
          "text": [
            "On average the % operated of the number of flights plan is 0.9011482522093313\n"
          ],
          "name": "stdout"
        }
      ]
    },
    {
      "cell_type": "code",
      "metadata": {
        "id": "Fg1977NF3Ez5"
      },
      "source": [
        "# DATA[(DATA['% Operated'] > 0.94)]\n",
        "# how to count the number of % operated with a value greater than 0.94 , value count ? iteration? "
      ],
      "execution_count": 215,
      "outputs": []
    },
    {
      "cell_type": "markdown",
      "metadata": {
        "id": "eOEEfuXk6DWL"
      },
      "source": [
        "### **- Linear Regression**"
      ]
    },
    {
      "cell_type": "code",
      "metadata": {
        "id": "--aPwHko5YeH"
      },
      "source": [
        "import statsmodels.formula.api as smf \n",
        "from sklearn.linear_model import LinearRegression\n"
      ],
      "execution_count": 216,
      "outputs": []
    },
    {
      "cell_type": "code",
      "metadata": {
        "id": "id1pOb8HOoWO"
      },
      "source": [
        "DATA['FLIGHTS']=DATA['Total Schedules']"
      ],
      "execution_count": 217,
      "outputs": []
    },
    {
      "cell_type": "code",
      "metadata": {
        "colab": {
          "base_uri": "https://localhost:8080/",
          "height": 170
        },
        "id": "W0p_npKyYS7e",
        "outputId": "962c0ddf-02d7-4297-c43c-1bd2bb97d4a9"
      },
      "source": [
        "DATA.head()"
      ],
      "execution_count": 218,
      "outputs": [
        {
          "output_type": "execute_result",
          "data": {
            "text/html": [
              "<div>\n",
              "<style scoped>\n",
              "    .dataframe tbody tr th:only-of-type {\n",
              "        vertical-align: middle;\n",
              "    }\n",
              "\n",
              "    .dataframe tbody tr th {\n",
              "        vertical-align: top;\n",
              "    }\n",
              "\n",
              "    .dataframe thead th {\n",
              "        text-align: right;\n",
              "    }\n",
              "</style>\n",
              "<table border=\"1\" class=\"dataframe\">\n",
              "  <thead>\n",
              "    <tr style=\"text-align: right;\">\n",
              "      <th></th>\n",
              "      <th>Total Schedules</th>\n",
              "      <th>% Operated</th>\n",
              "      <th>DATES</th>\n",
              "      <th>Months</th>\n",
              "      <th>Jet</th>\n",
              "      <th>Ind</th>\n",
              "      <th>FLIGHTS</th>\n",
              "    </tr>\n",
              "    <tr>\n",
              "      <th>Date</th>\n",
              "      <th></th>\n",
              "      <th></th>\n",
              "      <th></th>\n",
              "      <th></th>\n",
              "      <th></th>\n",
              "      <th></th>\n",
              "      <th></th>\n",
              "    </tr>\n",
              "  </thead>\n",
              "  <tbody>\n",
              "    <tr>\n",
              "      <th>2018-01-31</th>\n",
              "      <td>22658.064516</td>\n",
              "      <td>0.957240</td>\n",
              "      <td>2018-01-31</td>\n",
              "      <td>01</td>\n",
              "      <td>3272.0</td>\n",
              "      <td>102.6</td>\n",
              "      <td>22658.064516</td>\n",
              "    </tr>\n",
              "    <tr>\n",
              "      <th>2018-02-28</th>\n",
              "      <td>23421.035714</td>\n",
              "      <td>0.953680</td>\n",
              "      <td>2018-02-28</td>\n",
              "      <td>02</td>\n",
              "      <td>3075.0</td>\n",
              "      <td>102.0</td>\n",
              "      <td>23421.035714</td>\n",
              "    </tr>\n",
              "    <tr>\n",
              "      <th>2018-03-31</th>\n",
              "      <td>24600.935484</td>\n",
              "      <td>0.946227</td>\n",
              "      <td>2018-03-31</td>\n",
              "      <td>03</td>\n",
              "      <td>3315.0</td>\n",
              "      <td>112.9</td>\n",
              "      <td>24600.935484</td>\n",
              "    </tr>\n",
              "    <tr>\n",
              "      <th>2018-04-30</th>\n",
              "      <td>27309.466667</td>\n",
              "      <td>0.949903</td>\n",
              "      <td>2018-04-30</td>\n",
              "      <td>04</td>\n",
              "      <td>3386.0</td>\n",
              "      <td>103.8</td>\n",
              "      <td>27309.466667</td>\n",
              "    </tr>\n",
              "    <tr>\n",
              "      <th>2018-05-31</th>\n",
              "      <td>28720.741935</td>\n",
              "      <td>0.950590</td>\n",
              "      <td>2018-05-31</td>\n",
              "      <td>05</td>\n",
              "      <td>3673.0</td>\n",
              "      <td>105.9</td>\n",
              "      <td>28720.741935</td>\n",
              "    </tr>\n",
              "  </tbody>\n",
              "</table>\n",
              "</div>"
            ],
            "text/plain": [
              "            Total Schedules  % Operated  ...    Ind       FLIGHTS\n",
              "Date                                     ...                     \n",
              "2018-01-31     22658.064516    0.957240  ...  102.6  22658.064516\n",
              "2018-02-28     23421.035714    0.953680  ...  102.0  23421.035714\n",
              "2018-03-31     24600.935484    0.946227  ...  112.9  24600.935484\n",
              "2018-04-30     27309.466667    0.949903  ...  103.8  27309.466667\n",
              "2018-05-31     28720.741935    0.950590  ...  105.9  28720.741935\n",
              "\n",
              "[5 rows x 7 columns]"
            ]
          },
          "metadata": {},
          "execution_count": 218
        }
      ]
    },
    {
      "cell_type": "code",
      "metadata": {
        "id": "Op_Xu6oLYU1S"
      },
      "source": [
        "\n",
        "model = smf.ols(formula='FLIGHTS ~ Jet', data=DATA)\n",
        "model = model.fit()"
      ],
      "execution_count": 225,
      "outputs": []
    },
    {
      "cell_type": "code",
      "metadata": {
        "colab": {
          "base_uri": "https://localhost:8080/"
        },
        "id": "c4Ky-WtFYgWK",
        "outputId": "43d49a63-b2d8-4991-b01a-7839d0a88618"
      },
      "source": [
        "model.params"
      ],
      "execution_count": 220,
      "outputs": [
        {
          "output_type": "execute_result",
          "data": {
            "text/plain": [
              "Intercept   -1105.214670\n",
              "Jet             7.798795\n",
              "dtype: float64"
            ]
          },
          "metadata": {},
          "execution_count": 220
        }
      ]
    },
    {
      "cell_type": "code",
      "metadata": {
        "id": "en5jaVepYjOF"
      },
      "source": [
        "jet_pred = model.predict()"
      ],
      "execution_count": 221,
      "outputs": []
    },
    {
      "cell_type": "code",
      "metadata": {
        "colab": {
          "base_uri": "https://localhost:8080/"
        },
        "id": "92W-xMfyY0L-",
        "outputId": "235146a7-de0e-4018-c9de-323fbd0a964e"
      },
      "source": [
        "type(DATA['FLIGHTS'])"
      ],
      "execution_count": 228,
      "outputs": [
        {
          "output_type": "execute_result",
          "data": {
            "text/plain": [
              "pandas.core.series.Series"
            ]
          },
          "metadata": {},
          "execution_count": 228
        }
      ]
    },
    {
      "cell_type": "code",
      "metadata": {
        "id": "D5i6gc1XR50i"
      },
      "source": [
        "new_X=25000\n",
        "\n",
        "model.predict({\"FLIGHTS\": new_X})\n",
        "#error weirf functioning of ols "
      ],
      "execution_count": null,
      "outputs": []
    },
    {
      "cell_type": "code",
      "metadata": {
        "id": "st7bBPw9n3qJ"
      },
      "source": [
        "predictors = [\"Ind\",\"FLIGHTS\"]\n",
        "X =DATA[predictors]\n",
        "y = DATA[\"Jet\"]"
      ],
      "execution_count": 229,
      "outputs": []
    },
    {
      "cell_type": "code",
      "metadata": {
        "id": "dy3Ba8aHpIgU"
      },
      "source": [
        "lm = LinearRegression()\n",
        "model = lm.fit(X,y)"
      ],
      "execution_count": 230,
      "outputs": []
    },
    {
      "cell_type": "code",
      "metadata": {
        "colab": {
          "base_uri": "https://localhost:8080/"
        },
        "id": "viT3COtzpPYL",
        "outputId": "de8b4b9e-7765-43b1-8576-2f9ff4f1e7f6"
      },
      "source": [
        "print(f'alpha = {model.intercept_}')\n",
        "print(f'betas = {model.coef_}')"
      ],
      "execution_count": 231,
      "outputs": [
        {
          "output_type": "stream",
          "text": [
            "alpha = 776.8080673104032\n",
            "betas = [-5.43698879  0.12453291]\n"
          ],
          "name": "stdout"
        }
      ]
    },
    {
      "cell_type": "markdown",
      "metadata": {
        "id": "t1D7xdeEpr3h"
      },
      "source": [
        "Model : Jet Demand = 776.8  -5.43(IndustrialProduction) +0.12(Flightsvolume)"
      ]
    },
    {
      "cell_type": "code",
      "metadata": {
        "colab": {
          "base_uri": "https://localhost:8080/"
        },
        "id": "7q2IuJUXqQlF",
        "outputId": "7cf9d1ae-3ab9-4f2f-cdf5-abd327adc9ff"
      },
      "source": [
        "model.predict(X)"
      ],
      "execution_count": 232,
      "outputs": [
        {
          "output_type": "execute_result",
          "data": {
            "text/plain": [
              "array([3040.64762646, 3138.9248399 , 3226.59800871, 3613.37586468,\n",
              "       3777.708398  , 4024.92430853, 4159.92375374, 4237.27719073,\n",
              "       4082.8215525 , 3777.20355147, 3276.52023328, 3194.69623815,\n",
              "       3162.21860176, 3235.68690753, 3263.09441901, 3629.90496349,\n",
              "       3811.80276296, 4074.06677393, 4175.79488171, 4248.2395465 ,\n",
              "       4101.55006898, 3739.70917724, 3222.9324915 , 3194.72300967,\n",
              "       3115.98557732, 3182.72163229, 2582.74350483,  852.92178994,\n",
              "        890.03475095, 1005.1740214 , 1654.05594348, 2169.36463259,\n",
              "       1929.97164427, 1707.76088357, 1309.05192495, 1400.49709539])"
            ]
          },
          "metadata": {},
          "execution_count": 232
        }
      ]
    },
    {
      "cell_type": "code",
      "metadata": {
        "colab": {
          "base_uri": "https://localhost:8080/"
        },
        "id": "mwJHBDTqqSky",
        "outputId": "6ade97c9-f0ae-4b6b-9a1d-e6aae9dd6ea0"
      },
      "source": [
        "newValuesToAdjust_X = [[101, 22500]]\n",
        "print(\"If IndustrialProductionIndex hits 112 and flights volume 25k, the monthly Jet Demand could be around\", model.predict(newValuesToAdjust_X))"
      ],
      "execution_count": 233,
      "outputs": [
        {
          "output_type": "stream",
          "text": [
            "If IndustrialProductionIndex hits 112 and flights volume 25k, the monthly Jet Demand could be around [3029.66257506]\n"
          ],
          "name": "stdout"
        }
      ]
    },
    {
      "cell_type": "code",
      "metadata": {
        "colab": {
          "base_uri": "https://localhost:8080/"
        },
        "id": "Xlb6w_CHqghE",
        "outputId": "0f3ba8cd-493f-4de9-e7d2-bb5bffa32cee"
      },
      "source": [
        "DATA[\"Jet\"].mean()"
      ],
      "execution_count": 234,
      "outputs": [
        {
          "output_type": "execute_result",
          "data": {
            "text/plain": [
              "3033.6285714285714"
            ]
          },
          "metadata": {},
          "execution_count": 234
        }
      ]
    },
    {
      "cell_type": "code",
      "metadata": {
        "colab": {
          "base_uri": "https://localhost:8080/"
        },
        "id": "juk_QuEoqpBi",
        "outputId": "cc206aaa-637c-4b04-c93f-62812e7cbb93"
      },
      "source": [
        "DATA[\"FLIGHTS\"].mean()"
      ],
      "execution_count": 235,
      "outputs": [
        {
          "output_type": "execute_result",
          "data": {
            "text/plain": [
              "22553.43395174532"
            ]
          },
          "metadata": {},
          "execution_count": 235
        }
      ]
    },
    {
      "cell_type": "code",
      "metadata": {
        "colab": {
          "base_uri": "https://localhost:8080/"
        },
        "id": "10LX-XsIr_TT",
        "outputId": "ec5ea8d9-1822-47b9-de25-8015db7a229c"
      },
      "source": [
        "DATA['Ind'].mean()"
      ],
      "execution_count": 236,
      "outputs": [
        {
          "output_type": "execute_result",
          "data": {
            "text/plain": [
              "101.49444444444445"
            ]
          },
          "metadata": {},
          "execution_count": 236
        }
      ]
    },
    {
      "cell_type": "code",
      "metadata": {
        "colab": {
          "base_uri": "https://localhost:8080/",
          "height": 335
        },
        "id": "RDUdrwpAsEYm",
        "outputId": "8a4ea30b-45d1-45ff-fdbf-1f856e32e8a8"
      },
      "source": [
        "sns.distplot(DATA[\"Ind\"],kde=False, color=\"darkred\",bins=3)"
      ],
      "execution_count": 237,
      "outputs": [
        {
          "output_type": "stream",
          "text": [
            "/usr/local/lib/python3.7/dist-packages/seaborn/distributions.py:2557: FutureWarning: `distplot` is a deprecated function and will be removed in a future version. Please adapt your code to use either `displot` (a figure-level function with similar flexibility) or `histplot` (an axes-level function for histograms).\n",
            "  warnings.warn(msg, FutureWarning)\n"
          ],
          "name": "stderr"
        },
        {
          "output_type": "execute_result",
          "data": {
            "text/plain": [
              "<matplotlib.axes._subplots.AxesSubplot at 0x7f2f3a8e46d0>"
            ]
          },
          "metadata": {},
          "execution_count": 237
        },
        {
          "output_type": "display_data",
          "data": {
            "image/png": "[encoded data removed]",
            "text/plain": [
              "<Figure size 432x288 with 1 Axes>"
            ]
          },
          "metadata": {
            "needs_background": "light"
          }
        }
      ]
    },
    {
      "cell_type": "code",
      "metadata": {
        "colab": {
          "base_uri": "https://localhost:8080/",
          "height": 335
        },
        "id": "99yGjgplyrSq",
        "outputId": "1ab16ee9-818e-4463-fbef-59842656b8ec"
      },
      "source": [
        "sns.distplot(DATA[\"FLIGHTS\"],kde=False, color=\"darkred\",bins=60 )\n"
      ],
      "execution_count": 240,
      "outputs": [
        {
          "output_type": "stream",
          "text": [
            "/usr/local/lib/python3.7/dist-packages/seaborn/distributions.py:2557: FutureWarning: `distplot` is a deprecated function and will be removed in a future version. Please adapt your code to use either `displot` (a figure-level function with similar flexibility) or `histplot` (an axes-level function for histograms).\n",
            "  warnings.warn(msg, FutureWarning)\n"
          ],
          "name": "stderr"
        },
        {
          "output_type": "execute_result",
          "data": {
            "text/plain": [
              "<matplotlib.axes._subplots.AxesSubplot at 0x7f2f3a8b37d0>"
            ]
          },
          "metadata": {},
          "execution_count": 240
        },
        {
          "output_type": "display_data",
          "data": {
            "image/png": "[encoded data removed]",
            "text/plain": [
              "<Figure size 432x288 with 1 Axes>"
            ]
          },
          "metadata": {
            "needs_background": "light"
          }
        }
      ]
    },
    {
      "cell_type": "code",
      "metadata": {
        "colab": {
          "base_uri": "https://localhost:8080/",
          "height": 106
        },
        "id": "vHi-AH8r1cye",
        "outputId": "60cc4431-b53c-4f0e-a34e-9d86218854a6"
      },
      "source": [
        "def impute_season(cols):\n",
        "  Date=cols[0]\n",
        "  Season=cols[1]\n",
        "  if Date ==\"2018-01-31\"\n",
        "    return winter \n",
        "# how to adapt for a datetime.index and for intervals"
      ],
      "execution_count": 241,
      "outputs": [
        {
          "output_type": "error",
          "ename": "SyntaxError",
          "evalue": "ignored",
          "traceback": [
            "\u001b[0;36m  File \u001b[0;32m\"<ipython-input-241-431dd7eff81c>\"\u001b[0;36m, line \u001b[0;32m4\u001b[0m\n\u001b[0;31m    if Date ==\"2018-01-31\"\u001b[0m\n\u001b[0m                          ^\u001b[0m\n\u001b[0;31mSyntaxError\u001b[0m\u001b[0;31m:\u001b[0m invalid syntax\n"
          ]
        }
      ]
    },
    {
      "cell_type": "markdown",
      "metadata": {
        "id": "QdFBigU724op"
      },
      "source": [
        "### **- Training,testing and evaluation**"
      ]
    },
    {
      "cell_type": "code",
      "metadata": {
        "id": "zaQozCRP27am"
      },
      "source": [
        "from sklearn.model_selection import train_test_split"
      ],
      "execution_count": 242,
      "outputs": []
    },
    {
      "cell_type": "code",
      "metadata": {
        "id": "54As9XwH3-yA"
      },
      "source": [
        "X_train, X_test, y_train, y_test = train_test_split(DATA.drop(\"Jet\",axis=1),DATA[\"Jet\"],test_size=0.30,random_state=101)"
      ],
      "execution_count": 243,
      "outputs": []
    },
    {
      "cell_type": "code",
      "metadata": {
        "colab": {
          "base_uri": "https://localhost:8080/",
          "height": 170
        },
        "id": "iTya554c9mJ8",
        "outputId": "eaa8a6dc-d4fe-4420-94cf-989253e04ade"
      },
      "source": [
        "DATA.head()"
      ],
      "execution_count": 245,
      "outputs": [
        {
          "output_type": "execute_result",
          "data": {
            "text/html": [
              "<div>\n",
              "<style scoped>\n",
              "    .dataframe tbody tr th:only-of-type {\n",
              "        vertical-align: middle;\n",
              "    }\n",
              "\n",
              "    .dataframe tbody tr th {\n",
              "        vertical-align: top;\n",
              "    }\n",
              "\n",
              "    .dataframe thead th {\n",
              "        text-align: right;\n",
              "    }\n",
              "</style>\n",
              "<table border=\"1\" class=\"dataframe\">\n",
              "  <thead>\n",
              "    <tr style=\"text-align: right;\">\n",
              "      <th></th>\n",
              "      <th>Total Schedules</th>\n",
              "      <th>% Operated</th>\n",
              "      <th>DATES</th>\n",
              "      <th>Months</th>\n",
              "      <th>Jet</th>\n",
              "      <th>Ind</th>\n",
              "      <th>FLIGHTS</th>\n",
              "    </tr>\n",
              "    <tr>\n",
              "      <th>Date</th>\n",
              "      <th></th>\n",
              "      <th></th>\n",
              "      <th></th>\n",
              "      <th></th>\n",
              "      <th></th>\n",
              "      <th></th>\n",
              "      <th></th>\n",
              "    </tr>\n",
              "  </thead>\n",
              "  <tbody>\n",
              "    <tr>\n",
              "      <th>2018-01-31</th>\n",
              "      <td>22658.064516</td>\n",
              "      <td>0.957240</td>\n",
              "      <td>2018-01-31</td>\n",
              "      <td>01</td>\n",
              "      <td>3272.0</td>\n",
              "      <td>102.6</td>\n",
              "      <td>22658.064516</td>\n",
              "    </tr>\n",
              "    <tr>\n",
              "      <th>2018-02-28</th>\n",
              "      <td>23421.035714</td>\n",
              "      <td>0.953680</td>\n",
              "      <td>2018-02-28</td>\n",
              "      <td>02</td>\n",
              "      <td>3075.0</td>\n",
              "      <td>102.0</td>\n",
              "      <td>23421.035714</td>\n",
              "    </tr>\n",
              "    <tr>\n",
              "      <th>2018-03-31</th>\n",
              "      <td>24600.935484</td>\n",
              "      <td>0.946227</td>\n",
              "      <td>2018-03-31</td>\n",
              "      <td>03</td>\n",
              "      <td>3315.0</td>\n",
              "      <td>112.9</td>\n",
              "      <td>24600.935484</td>\n",
              "    </tr>\n",
              "    <tr>\n",
              "      <th>2018-04-30</th>\n",
              "      <td>27309.466667</td>\n",
              "      <td>0.949903</td>\n",
              "      <td>2018-04-30</td>\n",
              "      <td>04</td>\n",
              "      <td>3386.0</td>\n",
              "      <td>103.8</td>\n",
              "      <td>27309.466667</td>\n",
              "    </tr>\n",
              "    <tr>\n",
              "      <th>2018-05-31</th>\n",
              "      <td>28720.741935</td>\n",
              "      <td>0.950590</td>\n",
              "      <td>2018-05-31</td>\n",
              "      <td>05</td>\n",
              "      <td>3673.0</td>\n",
              "      <td>105.9</td>\n",
              "      <td>28720.741935</td>\n",
              "    </tr>\n",
              "  </tbody>\n",
              "</table>\n",
              "</div>"
            ],
            "text/plain": [
              "            Total Schedules  % Operated  ...    Ind       FLIGHTS\n",
              "Date                                     ...                     \n",
              "2018-01-31     22658.064516    0.957240  ...  102.6  22658.064516\n",
              "2018-02-28     23421.035714    0.953680  ...  102.0  23421.035714\n",
              "2018-03-31     24600.935484    0.946227  ...  112.9  24600.935484\n",
              "2018-04-30     27309.466667    0.949903  ...  103.8  27309.466667\n",
              "2018-05-31     28720.741935    0.950590  ...  105.9  28720.741935\n",
              "\n",
              "[5 rows x 7 columns]"
            ]
          },
          "metadata": {},
          "execution_count": 245
        }
      ]
    },
    {
      "cell_type": "code",
      "metadata": {
        "id": "0XFcLBTDEgbv"
      },
      "source": [
        "columns=[\"FLIGHTS\",\"Ind\",\"Jet\"]\n",
        "DATA1 = DATA[columns]\n",
        "DATA2 = pd.DataFrame(DATA1)"
      ],
      "execution_count": 262,
      "outputs": []
    },
    {
      "cell_type": "code",
      "metadata": {
        "colab": {
          "base_uri": "https://localhost:8080/",
          "height": 148
        },
        "id": "o-csj33YUWj5",
        "outputId": "f724f271-80e0-4298-c0fb-3c9e01784b04"
      },
      "source": [
        "DATA2.head()\n",
        "\n"
      ],
      "execution_count": 264,
      "outputs": [
        {
          "output_type": "execute_result",
          "data": {
            "text/html": [
              "<div>\n",
              "<style scoped>\n",
              "    .dataframe tbody tr th:only-of-type {\n",
              "        vertical-align: middle;\n",
              "    }\n",
              "\n",
              "    .dataframe tbody tr th {\n",
              "        vertical-align: top;\n",
              "    }\n",
              "\n",
              "    .dataframe thead th {\n",
              "        text-align: right;\n",
              "    }\n",
              "</style>\n",
              "<table border=\"1\" class=\"dataframe\">\n",
              "  <thead>\n",
              "    <tr style=\"text-align: right;\">\n",
              "      <th></th>\n",
              "      <th>FLIGHTS</th>\n",
              "      <th>Ind</th>\n",
              "      <th>Jet</th>\n",
              "    </tr>\n",
              "  </thead>\n",
              "  <tbody>\n",
              "    <tr>\n",
              "      <th>0</th>\n",
              "      <td>22658.064516</td>\n",
              "      <td>102.6</td>\n",
              "      <td>3272.0</td>\n",
              "    </tr>\n",
              "    <tr>\n",
              "      <th>1</th>\n",
              "      <td>23421.035714</td>\n",
              "      <td>102.0</td>\n",
              "      <td>3075.0</td>\n",
              "    </tr>\n",
              "    <tr>\n",
              "      <th>2</th>\n",
              "      <td>24600.935484</td>\n",
              "      <td>112.9</td>\n",
              "      <td>3315.0</td>\n",
              "    </tr>\n",
              "    <tr>\n",
              "      <th>3</th>\n",
              "      <td>27309.466667</td>\n",
              "      <td>103.8</td>\n",
              "      <td>3386.0</td>\n",
              "    </tr>\n",
              "    <tr>\n",
              "      <th>4</th>\n",
              "      <td>28720.741935</td>\n",
              "      <td>105.9</td>\n",
              "      <td>3673.0</td>\n",
              "    </tr>\n",
              "  </tbody>\n",
              "</table>\n",
              "</div>"
            ],
            "text/plain": [
              "        FLIGHTS    Ind     Jet\n",
              "0  22658.064516  102.6  3272.0\n",
              "1  23421.035714  102.0  3075.0\n",
              "2  24600.935484  112.9  3315.0\n",
              "3  27309.466667  103.8  3386.0\n",
              "4  28720.741935  105.9  3673.0"
            ]
          },
          "metadata": {},
          "execution_count": 264
        }
      ]
    },
    {
      "cell_type": "code",
      "metadata": {
        "colab": {
          "base_uri": "https://localhost:8080/",
          "height": 821
        },
        "id": "xwE2eMxmmo5C",
        "outputId": "4361ea77-c8ca-4f39-b3b0-6a7560bcbde9"
      },
      "source": [
        "DATA.drop(\"Jet\",1)"
      ],
      "execution_count": 281,
      "outputs": [
        {
          "output_type": "execute_result",
          "data": {
            "text/html": [
              "<div>\n",
              "<style scoped>\n",
              "    .dataframe tbody tr th:only-of-type {\n",
              "        vertical-align: middle;\n",
              "    }\n",
              "\n",
              "    .dataframe tbody tr th {\n",
              "        vertical-align: top;\n",
              "    }\n",
              "\n",
              "    .dataframe thead th {\n",
              "        text-align: right;\n",
              "    }\n",
              "</style>\n",
              "<table border=\"1\" class=\"dataframe\">\n",
              "  <thead>\n",
              "    <tr style=\"text-align: right;\">\n",
              "      <th></th>\n",
              "      <th>Total Schedules</th>\n",
              "      <th>% Operated</th>\n",
              "      <th>DATES</th>\n",
              "      <th>Months</th>\n",
              "      <th>Ind</th>\n",
              "      <th>FLIGHTS</th>\n",
              "    </tr>\n",
              "  </thead>\n",
              "  <tbody>\n",
              "    <tr>\n",
              "      <th>0</th>\n",
              "      <td>22658.064516</td>\n",
              "      <td>0.957240</td>\n",
              "      <td>2018-01-31</td>\n",
              "      <td>01</td>\n",
              "      <td>102.6</td>\n",
              "      <td>22658.064516</td>\n",
              "    </tr>\n",
              "    <tr>\n",
              "      <th>1</th>\n",
              "      <td>23421.035714</td>\n",
              "      <td>0.953680</td>\n",
              "      <td>2018-02-28</td>\n",
              "      <td>02</td>\n",
              "      <td>102.0</td>\n",
              "      <td>23421.035714</td>\n",
              "    </tr>\n",
              "    <tr>\n",
              "      <th>2</th>\n",
              "      <td>24600.935484</td>\n",
              "      <td>0.946227</td>\n",
              "      <td>2018-03-31</td>\n",
              "      <td>03</td>\n",
              "      <td>112.9</td>\n",
              "      <td>24600.935484</td>\n",
              "    </tr>\n",
              "    <tr>\n",
              "      <th>3</th>\n",
              "      <td>27309.466667</td>\n",
              "      <td>0.949903</td>\n",
              "      <td>2018-04-30</td>\n",
              "      <td>04</td>\n",
              "      <td>103.8</td>\n",
              "      <td>27309.466667</td>\n",
              "    </tr>\n",
              "    <tr>\n",
              "      <th>4</th>\n",
              "      <td>28720.741935</td>\n",
              "      <td>0.950590</td>\n",
              "      <td>2018-05-31</td>\n",
              "      <td>05</td>\n",
              "      <td>105.9</td>\n",
              "      <td>28720.741935</td>\n",
              "    </tr>\n",
              "    <tr>\n",
              "      <th>5</th>\n",
              "      <td>30823.766667</td>\n",
              "      <td>0.951383</td>\n",
              "      <td>2018-06-30</td>\n",
              "      <td>06</td>\n",
              "      <td>108.6</td>\n",
              "      <td>30823.766667</td>\n",
              "    </tr>\n",
              "    <tr>\n",
              "      <th>6</th>\n",
              "      <td>31816.129032</td>\n",
              "      <td>0.953807</td>\n",
              "      <td>2018-07-31</td>\n",
              "      <td>07</td>\n",
              "      <td>106.5</td>\n",
              "      <td>31816.129032</td>\n",
              "    </tr>\n",
              "    <tr>\n",
              "      <th>7</th>\n",
              "      <td>31716.903226</td>\n",
              "      <td>0.958962</td>\n",
              "      <td>2018-08-31</td>\n",
              "      <td>08</td>\n",
              "      <td>90.0</td>\n",
              "      <td>31716.903226</td>\n",
              "    </tr>\n",
              "    <tr>\n",
              "      <th>8</th>\n",
              "      <td>31376.000000</td>\n",
              "      <td>0.958226</td>\n",
              "      <td>2018-09-30</td>\n",
              "      <td>09</td>\n",
              "      <td>110.6</td>\n",
              "      <td>31376.000000</td>\n",
              "    </tr>\n",
              "    <tr>\n",
              "      <th>9</th>\n",
              "      <td>29017.935484</td>\n",
              "      <td>0.957002</td>\n",
              "      <td>2018-10-31</td>\n",
              "      <td>10</td>\n",
              "      <td>112.8</td>\n",
              "      <td>29017.935484</td>\n",
              "    </tr>\n",
              "    <tr>\n",
              "      <th>10</th>\n",
              "      <td>24875.200000</td>\n",
              "      <td>0.958628</td>\n",
              "      <td>2018-11-30</td>\n",
              "      <td>11</td>\n",
              "      <td>110.0</td>\n",
              "      <td>24875.200000</td>\n",
              "    </tr>\n",
              "    <tr>\n",
              "      <th>11</th>\n",
              "      <td>23737.903226</td>\n",
              "      <td>0.956339</td>\n",
              "      <td>2018-12-31</td>\n",
              "      <td>12</td>\n",
              "      <td>99.0</td>\n",
              "      <td>23737.903226</td>\n",
              "    </tr>\n",
              "    <tr>\n",
              "      <th>12</th>\n",
              "      <td>23625.548387</td>\n",
              "      <td>0.952738</td>\n",
              "      <td>2019-01-31</td>\n",
              "      <td>01</td>\n",
              "      <td>102.4</td>\n",
              "      <td>23625.548387</td>\n",
              "    </tr>\n",
              "    <tr>\n",
              "      <th>13</th>\n",
              "      <td>24198.035714</td>\n",
              "      <td>0.955095</td>\n",
              "      <td>2019-02-28</td>\n",
              "      <td>02</td>\n",
              "      <td>102.0</td>\n",
              "      <td>24198.035714</td>\n",
              "    </tr>\n",
              "    <tr>\n",
              "      <th>14</th>\n",
              "      <td>24867.806452</td>\n",
              "      <td>0.959580</td>\n",
              "      <td>2019-03-31</td>\n",
              "      <td>03</td>\n",
              "      <td>112.3</td>\n",
              "      <td>24867.806452</td>\n",
              "    </tr>\n",
              "    <tr>\n",
              "      <th>15</th>\n",
              "      <td>27416.000000</td>\n",
              "      <td>0.954326</td>\n",
              "      <td>2019-04-30</td>\n",
              "      <td>04</td>\n",
              "      <td>103.2</td>\n",
              "      <td>27416.000000</td>\n",
              "    </tr>\n",
              "    <tr>\n",
              "      <th>16</th>\n",
              "      <td>28942.129032</td>\n",
              "      <td>0.957809</td>\n",
              "      <td>2019-05-31</td>\n",
              "      <td>05</td>\n",
              "      <td>104.7</td>\n",
              "      <td>28942.129032</td>\n",
              "    </tr>\n",
              "    <tr>\n",
              "      <th>17</th>\n",
              "      <td>31109.233333</td>\n",
              "      <td>0.960245</td>\n",
              "      <td>2019-06-30</td>\n",
              "      <td>06</td>\n",
              "      <td>106.1</td>\n",
              "      <td>31109.233333</td>\n",
              "    </tr>\n",
              "    <tr>\n",
              "      <th>18</th>\n",
              "      <td>31882.451613</td>\n",
              "      <td>0.959121</td>\n",
              "      <td>2019-07-31</td>\n",
              "      <td>07</td>\n",
              "      <td>105.1</td>\n",
              "      <td>31882.451613</td>\n",
              "    </tr>\n",
              "    <tr>\n",
              "      <th>19</th>\n",
              "      <td>31717.612903</td>\n",
              "      <td>0.962304</td>\n",
              "      <td>2019-08-31</td>\n",
              "      <td>08</td>\n",
              "      <td>88.0</td>\n",
              "      <td>31717.612903</td>\n",
              "    </tr>\n",
              "    <tr>\n",
              "      <th>20</th>\n",
              "      <td>31469.633333</td>\n",
              "      <td>0.957099</td>\n",
              "      <td>2019-09-30</td>\n",
              "      <td>09</td>\n",
              "      <td>109.3</td>\n",
              "      <td>31469.633333</td>\n",
              "    </tr>\n",
              "    <tr>\n",
              "      <th>21</th>\n",
              "      <td>28633.903226</td>\n",
              "      <td>0.958436</td>\n",
              "      <td>2019-10-31</td>\n",
              "      <td>10</td>\n",
              "      <td>110.9</td>\n",
              "      <td>28633.903226</td>\n",
              "    </tr>\n",
              "    <tr>\n",
              "      <th>22</th>\n",
              "      <td>24388.133333</td>\n",
              "      <td>0.956425</td>\n",
              "      <td>2019-11-30</td>\n",
              "      <td>11</td>\n",
              "      <td>108.7</td>\n",
              "      <td>24388.133333</td>\n",
              "    </tr>\n",
              "    <tr>\n",
              "      <th>23</th>\n",
              "      <td>23589.677419</td>\n",
              "      <td>0.953186</td>\n",
              "      <td>2019-12-31</td>\n",
              "      <td>12</td>\n",
              "      <td>95.6</td>\n",
              "      <td>23589.677419</td>\n",
              "    </tr>\n",
              "    <tr>\n",
              "      <th>24</th>\n",
              "      <td>23162.612903</td>\n",
              "      <td>0.955181</td>\n",
              "      <td>2020-01-31</td>\n",
              "      <td>01</td>\n",
              "      <td>100.3</td>\n",
              "      <td>23162.612903</td>\n",
              "    </tr>\n",
              "    <tr>\n",
              "      <th>25</th>\n",
              "      <td>23694.137931</td>\n",
              "      <td>0.943556</td>\n",
              "      <td>2020-02-29</td>\n",
              "      <td>02</td>\n",
              "      <td>100.2</td>\n",
              "      <td>23694.137931</td>\n",
              "    </tr>\n",
              "    <tr>\n",
              "      <th>26</th>\n",
              "      <td>18754.064516</td>\n",
              "      <td>0.640301</td>\n",
              "      <td>2020-03-31</td>\n",
              "      <td>03</td>\n",
              "      <td>97.4</td>\n",
              "      <td>18754.064516</td>\n",
              "    </tr>\n",
              "    <tr>\n",
              "      <th>27</th>\n",
              "      <td>3824.500000</td>\n",
              "      <td>0.550726</td>\n",
              "      <td>2020-04-30</td>\n",
              "      <td>04</td>\n",
              "      <td>73.6</td>\n",
              "      <td>3824.500000</td>\n",
              "    </tr>\n",
              "    <tr>\n",
              "      <th>28</th>\n",
              "      <td>4554.741935</td>\n",
              "      <td>0.540049</td>\n",
              "      <td>2020-05-31</td>\n",
              "      <td>05</td>\n",
              "      <td>83.5</td>\n",
              "      <td>4554.741935</td>\n",
              "    </tr>\n",
              "    <tr>\n",
              "      <th>29</th>\n",
              "      <td>5924.633333</td>\n",
              "      <td>0.720300</td>\n",
              "      <td>2020-06-30</td>\n",
              "      <td>06</td>\n",
              "      <td>93.7</td>\n",
              "      <td>5924.633333</td>\n",
              "    </tr>\n",
              "    <tr>\n",
              "      <th>30</th>\n",
              "      <td>11314.161290</td>\n",
              "      <td>0.888398</td>\n",
              "      <td>2020-07-31</td>\n",
              "      <td>07</td>\n",
              "      <td>97.8</td>\n",
              "      <td>11314.161290</td>\n",
              "    </tr>\n",
              "    <tr>\n",
              "      <th>31</th>\n",
              "      <td>14753.548387</td>\n",
              "      <td>0.893634</td>\n",
              "      <td>2020-08-31</td>\n",
              "      <td>08</td>\n",
              "      <td>81.8</td>\n",
              "      <td>14753.548387</td>\n",
              "    </tr>\n",
              "    <tr>\n",
              "      <th>32</th>\n",
              "      <td>13717.500000</td>\n",
              "      <td>0.876155</td>\n",
              "      <td>2020-09-30</td>\n",
              "      <td>09</td>\n",
              "      <td>102.1</td>\n",
              "      <td>13717.500000</td>\n",
              "    </tr>\n",
              "    <tr>\n",
              "      <th>33</th>\n",
              "      <td>12142.709677</td>\n",
              "      <td>0.850826</td>\n",
              "      <td>2020-10-31</td>\n",
              "      <td>10</td>\n",
              "      <td>106.9</td>\n",
              "      <td>12142.709677</td>\n",
              "    </tr>\n",
              "    <tr>\n",
              "      <th>34</th>\n",
              "      <td>8984.733333</td>\n",
              "      <td>0.822248</td>\n",
              "      <td>2020-11-30</td>\n",
              "      <td>11</td>\n",
              "      <td>107.9</td>\n",
              "      <td>8984.733333</td>\n",
              "    </tr>\n",
              "    <tr>\n",
              "      <th>35</th>\n",
              "      <td>9182.032258</td>\n",
              "      <td>0.821611</td>\n",
              "      <td>2020-12-31</td>\n",
              "      <td>12</td>\n",
              "      <td>95.6</td>\n",
              "      <td>9182.032258</td>\n",
              "    </tr>\n",
              "  </tbody>\n",
              "</table>\n",
              "</div>"
            ],
            "text/plain": [
              "    Total Schedules  % Operated       DATES Months    Ind       FLIGHTS\n",
              "0      22658.064516    0.957240  2018-01-31     01  102.6  22658.064516\n",
              "1      23421.035714    0.953680  2018-02-28     02  102.0  23421.035714\n",
              "2      24600.935484    0.946227  2018-03-31     03  112.9  24600.935484\n",
              "3      27309.466667    0.949903  2018-04-30     04  103.8  27309.466667\n",
              "4      28720.741935    0.950590  2018-05-31     05  105.9  28720.741935\n",
              "5      30823.766667    0.951383  2018-06-30     06  108.6  30823.766667\n",
              "6      31816.129032    0.953807  2018-07-31     07  106.5  31816.129032\n",
              "7      31716.903226    0.958962  2018-08-31     08   90.0  31716.903226\n",
              "8      31376.000000    0.958226  2018-09-30     09  110.6  31376.000000\n",
              "9      29017.935484    0.957002  2018-10-31     10  112.8  29017.935484\n",
              "10     24875.200000    0.958628  2018-11-30     11  110.0  24875.200000\n",
              "11     23737.903226    0.956339  2018-12-31     12   99.0  23737.903226\n",
              "12     23625.548387    0.952738  2019-01-31     01  102.4  23625.548387\n",
              "13     24198.035714    0.955095  2019-02-28     02  102.0  24198.035714\n",
              "14     24867.806452    0.959580  2019-03-31     03  112.3  24867.806452\n",
              "15     27416.000000    0.954326  2019-04-30     04  103.2  27416.000000\n",
              "16     28942.129032    0.957809  2019-05-31     05  104.7  28942.129032\n",
              "17     31109.233333    0.960245  2019-06-30     06  106.1  31109.233333\n",
              "18     31882.451613    0.959121  2019-07-31     07  105.1  31882.451613\n",
              "19     31717.612903    0.962304  2019-08-31     08   88.0  31717.612903\n",
              "20     31469.633333    0.957099  2019-09-30     09  109.3  31469.633333\n",
              "21     28633.903226    0.958436  2019-10-31     10  110.9  28633.903226\n",
              "22     24388.133333    0.956425  2019-11-30     11  108.7  24388.133333\n",
              "23     23589.677419    0.953186  2019-12-31     12   95.6  23589.677419\n",
              "24     23162.612903    0.955181  2020-01-31     01  100.3  23162.612903\n",
              "25     23694.137931    0.943556  2020-02-29     02  100.2  23694.137931\n",
              "26     18754.064516    0.640301  2020-03-31     03   97.4  18754.064516\n",
              "27      3824.500000    0.550726  2020-04-30     04   73.6   3824.500000\n",
              "28      4554.741935    0.540049  2020-05-31     05   83.5   4554.741935\n",
              "29      5924.633333    0.720300  2020-06-30     06   93.7   5924.633333\n",
              "30     11314.161290    0.888398  2020-07-31     07   97.8  11314.161290\n",
              "31     14753.548387    0.893634  2020-08-31     08   81.8  14753.548387\n",
              "32     13717.500000    0.876155  2020-09-30     09  102.1  13717.500000\n",
              "33     12142.709677    0.850826  2020-10-31     10  106.9  12142.709677\n",
              "34      8984.733333    0.822248  2020-11-30     11  107.9   8984.733333\n",
              "35      9182.032258    0.821611  2020-12-31     12   95.6   9182.032258"
            ]
          },
          "metadata": {},
          "execution_count": 281
        }
      ]
    },
    {
      "cell_type": "code",
      "metadata": {
        "id": "FH86pL94laqK"
      },
      "source": [
        "y = DATA[\"Jet\"]"
      ],
      "execution_count": 278,
      "outputs": []
    },
    {
      "cell_type": "code",
      "metadata": {
        "id": "YwysBsxmd9hG"
      },
      "source": [
        "variables = ['FLIGHTS', 'Ind']\n",
        "X = DATA[variables]"
      ],
      "execution_count": 280,
      "outputs": []
    },
    {
      "cell_type": "code",
      "metadata": {
        "id": "rigpDYYkZK-Q"
      },
      "source": [
        "\n",
        "X_train, X_test, y_train, y_test = train_test_split(DATA.drop(\"Jet\",axis=1),DATA[\"Jet\"],test_size=0.30,random_state=101)"
      ],
      "execution_count": 282,
      "outputs": []
    },
    {
      "cell_type": "code",
      "metadata": {
        "id": "zduq9EproMGa"
      },
      "source": [
        "#... to continue "
      ],
      "execution_count": 283,
      "outputs": []
    },
    {
      "cell_type": "code",
      "metadata": {
        "id": "JZSArAJ4029e"
      },
      "source": [
        ""
      ],
      "execution_count": null,
      "outputs": []
    }
  ]
}