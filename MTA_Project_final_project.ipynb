{
  "nbformat": 4,
  "nbformat_minor": 0,
  "metadata": {
    "colab": {
      "name": "final_project.ipynb",
      "provenance": [],
      "collapsed_sections": [],
      "include_colab_link": true
    },
    "kernelspec": {
      "name": "python3",
      "display_name": "Python 3"
    },
    "language_info": {
      "name": "python"
    }
  },
  "cells": [
    {
      "cell_type": "markdown",
      "metadata": {
        "id": "view-in-github",
        "colab_type": "text"
      },
      "source": [
        "<a href=\"https://colab.research.google.com/github/amitjaffe/ML_final_project/blob/main/final_project.ipynb\" target=\"_parent\"><img src=\"https://colab.research.google.com/assets/colab-badge.svg\" alt=\"Open In Colab\"/></a>"
      ]
    },
    {
      "cell_type": "markdown",
      "metadata": {
        "id": "A_rq0nSSshf_"
      },
      "source": [
        "# **MTA Project**\n"
      ]
    },
    {
      "cell_type": "code",
      "metadata": {
        "id": "5L-Iux-cb3vL"
      },
      "source": [
        "import pandas as pd\n",
        "import numpy as np\n",
        "import matplotlib.pyplot as plt\n",
        "import seaborn as sns\n",
        "from PIL import Image, ImageDraw, ImageFont"
      ],
      "execution_count": null,
      "outputs": []
    },
    {
      "cell_type": "code",
      "metadata": {
        "id": "2O0QQZQQcDRk"
      },
      "source": [
        "url = \"/content/drive/MyDrive/Colab Notebooks/data/MTAData.csv\"\n",
        "df = pd.read_csv(url)"
      ],
      "execution_count": null,
      "outputs": []
    },
    {
      "cell_type": "code",
      "metadata": {
        "id": "tCcHZV4RcMyr",
        "colab": {
          "base_uri": "https://localhost:8080/",
          "height": 359
        },
        "outputId": "600e983c-7190-40fd-c029-386334bb430d"
      },
      "source": [
        "df.head(10)"
      ],
      "execution_count": null,
      "outputs": [
        {
          "output_type": "execute_result",
          "data": {
            "text/html": [
              "<div>\n",
              "<style scoped>\n",
              "    .dataframe tbody tr th:only-of-type {\n",
              "        vertical-align: middle;\n",
              "    }\n",
              "\n",
              "    .dataframe tbody tr th {\n",
              "        vertical-align: top;\n",
              "    }\n",
              "\n",
              "    .dataframe thead th {\n",
              "        text-align: right;\n",
              "    }\n",
              "</style>\n",
              "<table border=\"1\" class=\"dataframe\">\n",
              "  <thead>\n",
              "    <tr style=\"text-align: right;\">\n",
              "      <th></th>\n",
              "      <th>Unnamed: 0</th>\n",
              "      <th>C/A</th>\n",
              "      <th>UNIT</th>\n",
              "      <th>SCP</th>\n",
              "      <th>STATION</th>\n",
              "      <th>LINENAME</th>\n",
              "      <th>DIVISION</th>\n",
              "      <th>DATE</th>\n",
              "      <th>TIME</th>\n",
              "      <th>DESC</th>\n",
              "      <th>ENTRIES</th>\n",
              "      <th>EXITS</th>\n",
              "    </tr>\n",
              "  </thead>\n",
              "  <tbody>\n",
              "    <tr>\n",
              "      <th>0</th>\n",
              "      <td>0</td>\n",
              "      <td>A002</td>\n",
              "      <td>R051</td>\n",
              "      <td>02-00-00</td>\n",
              "      <td>59 ST</td>\n",
              "      <td>NQR456W</td>\n",
              "      <td>BMT</td>\n",
              "      <td>06/08/2019</td>\n",
              "      <td>00:00:00</td>\n",
              "      <td>REGULAR</td>\n",
              "      <td>7089463.0</td>\n",
              "      <td>2401758.0</td>\n",
              "    </tr>\n",
              "    <tr>\n",
              "      <th>1</th>\n",
              "      <td>1</td>\n",
              "      <td>A002</td>\n",
              "      <td>R051</td>\n",
              "      <td>02-00-00</td>\n",
              "      <td>59 ST</td>\n",
              "      <td>NQR456W</td>\n",
              "      <td>BMT</td>\n",
              "      <td>06/08/2019</td>\n",
              "      <td>04:00:00</td>\n",
              "      <td>REGULAR</td>\n",
              "      <td>7089491.0</td>\n",
              "      <td>2401764.0</td>\n",
              "    </tr>\n",
              "    <tr>\n",
              "      <th>2</th>\n",
              "      <td>2</td>\n",
              "      <td>A002</td>\n",
              "      <td>R051</td>\n",
              "      <td>02-00-00</td>\n",
              "      <td>59 ST</td>\n",
              "      <td>NQR456W</td>\n",
              "      <td>BMT</td>\n",
              "      <td>06/08/2019</td>\n",
              "      <td>08:00:00</td>\n",
              "      <td>REGULAR</td>\n",
              "      <td>7089511.0</td>\n",
              "      <td>2401807.0</td>\n",
              "    </tr>\n",
              "    <tr>\n",
              "      <th>3</th>\n",
              "      <td>3</td>\n",
              "      <td>A002</td>\n",
              "      <td>R051</td>\n",
              "      <td>02-00-00</td>\n",
              "      <td>59 ST</td>\n",
              "      <td>NQR456W</td>\n",
              "      <td>BMT</td>\n",
              "      <td>06/08/2019</td>\n",
              "      <td>12:00:00</td>\n",
              "      <td>REGULAR</td>\n",
              "      <td>7089598.0</td>\n",
              "      <td>2401889.0</td>\n",
              "    </tr>\n",
              "    <tr>\n",
              "      <th>4</th>\n",
              "      <td>4</td>\n",
              "      <td>A002</td>\n",
              "      <td>R051</td>\n",
              "      <td>02-00-00</td>\n",
              "      <td>59 ST</td>\n",
              "      <td>NQR456W</td>\n",
              "      <td>BMT</td>\n",
              "      <td>06/08/2019</td>\n",
              "      <td>16:00:00</td>\n",
              "      <td>REGULAR</td>\n",
              "      <td>7089801.0</td>\n",
              "      <td>2401946.0</td>\n",
              "    </tr>\n",
              "    <tr>\n",
              "      <th>5</th>\n",
              "      <td>5</td>\n",
              "      <td>A002</td>\n",
              "      <td>R051</td>\n",
              "      <td>02-00-00</td>\n",
              "      <td>59 ST</td>\n",
              "      <td>NQR456W</td>\n",
              "      <td>BMT</td>\n",
              "      <td>06/08/2019</td>\n",
              "      <td>20:00:00</td>\n",
              "      <td>REGULAR</td>\n",
              "      <td>7090115.0</td>\n",
              "      <td>2401978.0</td>\n",
              "    </tr>\n",
              "    <tr>\n",
              "      <th>6</th>\n",
              "      <td>6</td>\n",
              "      <td>A002</td>\n",
              "      <td>R051</td>\n",
              "      <td>02-00-00</td>\n",
              "      <td>59 ST</td>\n",
              "      <td>NQR456W</td>\n",
              "      <td>BMT</td>\n",
              "      <td>06/09/2019</td>\n",
              "      <td>00:00:00</td>\n",
              "      <td>REGULAR</td>\n",
              "      <td>7090281.0</td>\n",
              "      <td>2402005.0</td>\n",
              "    </tr>\n",
              "    <tr>\n",
              "      <th>7</th>\n",
              "      <td>7</td>\n",
              "      <td>A002</td>\n",
              "      <td>R051</td>\n",
              "      <td>02-00-00</td>\n",
              "      <td>59 ST</td>\n",
              "      <td>NQR456W</td>\n",
              "      <td>BMT</td>\n",
              "      <td>06/09/2019</td>\n",
              "      <td>04:00:00</td>\n",
              "      <td>REGULAR</td>\n",
              "      <td>7090306.0</td>\n",
              "      <td>2402008.0</td>\n",
              "    </tr>\n",
              "    <tr>\n",
              "      <th>8</th>\n",
              "      <td>8</td>\n",
              "      <td>A002</td>\n",
              "      <td>R051</td>\n",
              "      <td>02-00-00</td>\n",
              "      <td>59 ST</td>\n",
              "      <td>NQR456W</td>\n",
              "      <td>BMT</td>\n",
              "      <td>06/09/2019</td>\n",
              "      <td>08:00:00</td>\n",
              "      <td>REGULAR</td>\n",
              "      <td>7090321.0</td>\n",
              "      <td>2402028.0</td>\n",
              "    </tr>\n",
              "    <tr>\n",
              "      <th>9</th>\n",
              "      <td>9</td>\n",
              "      <td>A002</td>\n",
              "      <td>R051</td>\n",
              "      <td>02-00-00</td>\n",
              "      <td>59 ST</td>\n",
              "      <td>NQR456W</td>\n",
              "      <td>BMT</td>\n",
              "      <td>06/09/2019</td>\n",
              "      <td>12:00:00</td>\n",
              "      <td>REGULAR</td>\n",
              "      <td>7090416.0</td>\n",
              "      <td>2402087.0</td>\n",
              "    </tr>\n",
              "  </tbody>\n",
              "</table>\n",
              "</div>"
            ],
            "text/plain": [
              "   Unnamed: 0  ... EXITS                                                               \n",
              "0           0  ...                                          2401758.0                  \n",
              "1           1  ...                                          2401764.0                  \n",
              "2           2  ...                                          2401807.0                  \n",
              "3           3  ...                                          2401889.0                  \n",
              "4           4  ...                                          2401946.0                  \n",
              "5           5  ...                                          2401978.0                  \n",
              "6           6  ...                                          2402005.0                  \n",
              "7           7  ...                                          2402008.0                  \n",
              "8           8  ...                                          2402028.0                  \n",
              "9           9  ...                                          2402087.0                  \n",
              "\n",
              "[10 rows x 12 columns]"
            ]
          },
          "metadata": {},
          "execution_count": 3
        }
      ]
    },
    {
      "cell_type": "code",
      "metadata": {
        "id": "CGZjVIDIcjUg"
      },
      "source": [
        "df.drop([\"C/A\",\"DESC\",\"Unnamed: 0\",\"UNIT\",\"DIVISION\",\"LINENAME\"], axis=1, inplace=True)"
      ],
      "execution_count": null,
      "outputs": []
    },
    {
      "cell_type": "code",
      "metadata": {
        "id": "IntXWM1tqEpF"
      },
      "source": [
        "df.columns = ['SCP', 'STATION', 'DATE', 'TIME', 'ENTRIES','amit']"
      ],
      "execution_count": null,
      "outputs": []
    },
    {
      "cell_type": "code",
      "metadata": {
        "id": "BQSzfAzsp7hb",
        "colab": {
          "base_uri": "https://localhost:8080/",
          "height": 204
        },
        "outputId": "a5fac2a7-f148-48a7-cd2b-43c60f6b3297"
      },
      "source": [
        "df.head()"
      ],
      "execution_count": null,
      "outputs": [
        {
          "output_type": "execute_result",
          "data": {
            "text/html": [
              "<div>\n",
              "<style scoped>\n",
              "    .dataframe tbody tr th:only-of-type {\n",
              "        vertical-align: middle;\n",
              "    }\n",
              "\n",
              "    .dataframe tbody tr th {\n",
              "        vertical-align: top;\n",
              "    }\n",
              "\n",
              "    .dataframe thead th {\n",
              "        text-align: right;\n",
              "    }\n",
              "</style>\n",
              "<table border=\"1\" class=\"dataframe\">\n",
              "  <thead>\n",
              "    <tr style=\"text-align: right;\">\n",
              "      <th></th>\n",
              "      <th>SCP</th>\n",
              "      <th>STATION</th>\n",
              "      <th>DATE</th>\n",
              "      <th>TIME</th>\n",
              "      <th>ENTRIES</th>\n",
              "      <th>amit</th>\n",
              "    </tr>\n",
              "  </thead>\n",
              "  <tbody>\n",
              "    <tr>\n",
              "      <th>0</th>\n",
              "      <td>02-00-00</td>\n",
              "      <td>59 ST</td>\n",
              "      <td>06/08/2019</td>\n",
              "      <td>00:00:00</td>\n",
              "      <td>7089463.0</td>\n",
              "      <td>2401758.0</td>\n",
              "    </tr>\n",
              "    <tr>\n",
              "      <th>1</th>\n",
              "      <td>02-00-00</td>\n",
              "      <td>59 ST</td>\n",
              "      <td>06/08/2019</td>\n",
              "      <td>04:00:00</td>\n",
              "      <td>7089491.0</td>\n",
              "      <td>2401764.0</td>\n",
              "    </tr>\n",
              "    <tr>\n",
              "      <th>2</th>\n",
              "      <td>02-00-00</td>\n",
              "      <td>59 ST</td>\n",
              "      <td>06/08/2019</td>\n",
              "      <td>08:00:00</td>\n",
              "      <td>7089511.0</td>\n",
              "      <td>2401807.0</td>\n",
              "    </tr>\n",
              "    <tr>\n",
              "      <th>3</th>\n",
              "      <td>02-00-00</td>\n",
              "      <td>59 ST</td>\n",
              "      <td>06/08/2019</td>\n",
              "      <td>12:00:00</td>\n",
              "      <td>7089598.0</td>\n",
              "      <td>2401889.0</td>\n",
              "    </tr>\n",
              "    <tr>\n",
              "      <th>4</th>\n",
              "      <td>02-00-00</td>\n",
              "      <td>59 ST</td>\n",
              "      <td>06/08/2019</td>\n",
              "      <td>16:00:00</td>\n",
              "      <td>7089801.0</td>\n",
              "      <td>2401946.0</td>\n",
              "    </tr>\n",
              "  </tbody>\n",
              "</table>\n",
              "</div>"
            ],
            "text/plain": [
              "        SCP STATION        DATE      TIME    ENTRIES       amit\n",
              "0  02-00-00   59 ST  06/08/2019  00:00:00  7089463.0  2401758.0\n",
              "1  02-00-00   59 ST  06/08/2019  04:00:00  7089491.0  2401764.0\n",
              "2  02-00-00   59 ST  06/08/2019  08:00:00  7089511.0  2401807.0\n",
              "3  02-00-00   59 ST  06/08/2019  12:00:00  7089598.0  2401889.0\n",
              "4  02-00-00   59 ST  06/08/2019  16:00:00  7089801.0  2401946.0"
            ]
          },
          "metadata": {},
          "execution_count": 6
        }
      ]
    },
    {
      "cell_type": "markdown",
      "metadata": {
        "id": "21zsHGR_py5O"
      },
      "source": [
        "## **59 STATION**"
      ]
    },
    {
      "cell_type": "code",
      "metadata": {
        "id": "P9KPFdjadXzm"
      },
      "source": [
        "data = df[df[\"STATION\"] == \"59 ST\"]"
      ],
      "execution_count": null,
      "outputs": []
    },
    {
      "cell_type": "code",
      "metadata": {
        "id": "h_0OJMvDfxdL",
        "colab": {
          "base_uri": "https://localhost:8080/"
        },
        "outputId": "e69f5110-61ea-4ffc-d8f5-f98751a52924"
      },
      "source": [
        "\n",
        "def data_creats(i):\n",
        "  unique_values = data[\"SCP\"].unique()\n",
        "  return data[data[\"SCP\"] == unique_values[i]]\n",
        "\n",
        "def shift_func(i):\n",
        "  data = data_creats(i)\n",
        "  data[\"entries\"] = data[\"ENTRIES\"].shift(-1) - data[\"ENTRIES\"]\n",
        "  data[\"exits\"] = data[\"amit\"].shift(-1) - data[\"amit\"]\n",
        "  data.drop(data.index[len(data.index)-1],axis= 0, inplace= True)\n",
        "  return(data)\n",
        "\n",
        "\n",
        "new_data = pd.concat([shift_func(0),shift_func(1),shift_func(2),shift_func(3),shift_func(4),shift_func(5),shift_func(6),shift_func(7),\n",
        "                      shift_func(8),shift_func(9),shift_func(10),shift_func(11),shift_func(12),\n",
        "                      shift_func(13),shift_func(14),shift_func(15),shift_func(16),shift_func(17),shift_func(18),shift_func(19)], axis = 0)\n",
        "new_data.drop([\"amit\",\"ENTRIES\"], axis= 1, inplace=True)"
      ],
      "execution_count": null,
      "outputs": [
        {
          "output_type": "stream",
          "text": [
            "/usr/local/lib/python3.7/dist-packages/ipykernel_launcher.py:8: SettingWithCopyWarning: \n",
            "A value is trying to be set on a copy of a slice from a DataFrame.\n",
            "Try using .loc[row_indexer,col_indexer] = value instead\n",
            "\n",
            "See the caveats in the documentation: https://pandas.pydata.org/pandas-docs/stable/user_guide/indexing.html#returning-a-view-versus-a-copy\n",
            "  \n",
            "/usr/local/lib/python3.7/dist-packages/ipykernel_launcher.py:9: SettingWithCopyWarning: \n",
            "A value is trying to be set on a copy of a slice from a DataFrame.\n",
            "Try using .loc[row_indexer,col_indexer] = value instead\n",
            "\n",
            "See the caveats in the documentation: https://pandas.pydata.org/pandas-docs/stable/user_guide/indexing.html#returning-a-view-versus-a-copy\n",
            "  if __name__ == '__main__':\n",
            "/usr/local/lib/python3.7/dist-packages/pandas/core/frame.py:4174: SettingWithCopyWarning: \n",
            "A value is trying to be set on a copy of a slice from a DataFrame\n",
            "\n",
            "See the caveats in the documentation: https://pandas.pydata.org/pandas-docs/stable/user_guide/indexing.html#returning-a-view-versus-a-copy\n",
            "  errors=errors,\n"
          ],
          "name": "stderr"
        }
      ]
    },
    {
      "cell_type": "code",
      "metadata": {
        "id": "umyALU6BrqOe"
      },
      "source": [
        "new_data = new_data[(new_data[\"entries\"] > 0) & (new_data[\"exits\"] > 0) ]"
      ],
      "execution_count": null,
      "outputs": []
    },
    {
      "cell_type": "code",
      "metadata": {
        "id": "GHYt6qC1Mir-"
      },
      "source": [
        "data_59 = new_data.groupby(\"DATE\").sum()\n",
        "data_59[\"weekend/weekday\"] = [1,1,0,0,0,0,0]\n",
        "data_59.index = [0,1,2,3,4,5,6]\n",
        "data_59[\"station\"] = [\"59\",\"59\",\"59\",\"59\",\"59\",\"59\",\"59\"]"
      ],
      "execution_count": null,
      "outputs": []
    },
    {
      "cell_type": "markdown",
      "metadata": {
        "id": "x8pL0Au7tP47"
      },
      "source": [
        "## **TIMES SQ-42 ST**"
      ]
    },
    {
      "cell_type": "code",
      "metadata": {
        "id": "ZsBRwW3Zt2Im"
      },
      "source": [
        "data = df[df[\"STATION\"] == \"TIMES SQ-42 ST\"]"
      ],
      "execution_count": null,
      "outputs": []
    },
    {
      "cell_type": "code",
      "metadata": {
        "id": "rra3bEINt79G",
        "colab": {
          "base_uri": "https://localhost:8080/"
        },
        "outputId": "3a8f4832-721b-48bd-9915-8bf5e8cc9ff7"
      },
      "source": [
        "unique_values = data[\"SCP\"].unique()\n",
        "unique_values"
      ],
      "execution_count": null,
      "outputs": [
        {
          "output_type": "execute_result",
          "data": {
            "text/plain": [
              "array(['01-00-00', '01-00-01', '01-00-02', '01-00-03', '01-00-04',\n",
              "       '01-00-05', '01-00-06', '01-00-07'], dtype=object)"
            ]
          },
          "metadata": {},
          "execution_count": 12
        }
      ]
    },
    {
      "cell_type": "code",
      "metadata": {
        "id": "lXtIq20_tYkO",
        "colab": {
          "base_uri": "https://localhost:8080/"
        },
        "outputId": "b5e5ca20-4b29-40ca-d9e2-3647437eeb6d"
      },
      "source": [
        "def data_creats(i):\n",
        "  unique_values = data[\"SCP\"].unique()\n",
        "  return data[data[\"SCP\"] == unique_values[i]]\n",
        "\n",
        "def shift_func(i):\n",
        "  data = data_creats(i)\n",
        "  data[\"entries\"] = data[\"ENTRIES\"].shift(-1) - data[\"ENTRIES\"]\n",
        "  data[\"exits\"] = data[\"amit\"].shift(-1) - data[\"amit\"]\n",
        "  data.drop(data.index[len(data.index)-1],axis= 0, inplace= True)\n",
        "  return(data)\n",
        "\n",
        "\n",
        "new_data = pd.concat([shift_func(0),shift_func(1),shift_func(2),shift_func(3),shift_func(4),shift_func(5),shift_func(6),shift_func(7)], axis = 0)\n",
        "new_data.drop([\"amit\",\"ENTRIES\"], axis= 1, inplace=True)\n"
      ],
      "execution_count": null,
      "outputs": [
        {
          "output_type": "stream",
          "text": [
            "/usr/local/lib/python3.7/dist-packages/ipykernel_launcher.py:7: SettingWithCopyWarning: \n",
            "A value is trying to be set on a copy of a slice from a DataFrame.\n",
            "Try using .loc[row_indexer,col_indexer] = value instead\n",
            "\n",
            "See the caveats in the documentation: https://pandas.pydata.org/pandas-docs/stable/user_guide/indexing.html#returning-a-view-versus-a-copy\n",
            "  import sys\n",
            "/usr/local/lib/python3.7/dist-packages/ipykernel_launcher.py:8: SettingWithCopyWarning: \n",
            "A value is trying to be set on a copy of a slice from a DataFrame.\n",
            "Try using .loc[row_indexer,col_indexer] = value instead\n",
            "\n",
            "See the caveats in the documentation: https://pandas.pydata.org/pandas-docs/stable/user_guide/indexing.html#returning-a-view-versus-a-copy\n",
            "  \n",
            "/usr/local/lib/python3.7/dist-packages/pandas/core/frame.py:4174: SettingWithCopyWarning: \n",
            "A value is trying to be set on a copy of a slice from a DataFrame\n",
            "\n",
            "See the caveats in the documentation: https://pandas.pydata.org/pandas-docs/stable/user_guide/indexing.html#returning-a-view-versus-a-copy\n",
            "  errors=errors,\n"
          ],
          "name": "stderr"
        }
      ]
    },
    {
      "cell_type": "code",
      "metadata": {
        "id": "gd958anAunuG"
      },
      "source": [
        "new_data = new_data[(new_data[\"entries\"] > 0) & (new_data[\"exits\"] > 0) ]\n",
        "data_42SQ = new_data.groupby(\"DATE\").sum()\n",
        "data_42SQ[\"weekend/weekday\"] = [1,1,0,0,0,0,0]\n",
        "data_42SQ.index = [0,1,2,3,4,5,6]\n",
        "data_42SQ[\"station\"] = [\"42\",\"42\",\"42\",\"42\",\"42\",\"42\",\"42\"]"
      ],
      "execution_count": null,
      "outputs": []
    },
    {
      "cell_type": "markdown",
      "metadata": {
        "id": "-azWTnRmvAL5"
      },
      "source": [
        "## **34 ST-HERALD SQ**"
      ]
    },
    {
      "cell_type": "code",
      "metadata": {
        "id": "VSJ5mvF0vkst"
      },
      "source": [
        "data = df[df[\"STATION\"] == \"34 ST-HERALD SQ\"]"
      ],
      "execution_count": null,
      "outputs": []
    },
    {
      "cell_type": "code",
      "metadata": {
        "id": "mcci-ucEvoHr"
      },
      "source": [
        "unique_values = data[\"SCP\"].nunique()\n"
      ],
      "execution_count": null,
      "outputs": []
    },
    {
      "cell_type": "code",
      "metadata": {
        "id": "iC2DEN0QvuB6",
        "colab": {
          "base_uri": "https://localhost:8080/"
        },
        "outputId": "0dae6e3e-a97e-4a9e-a42a-aabaa4d36b40"
      },
      "source": [
        "def data_creats(i):\n",
        "  unique_values = data[\"SCP\"].unique()\n",
        "  return data[data[\"SCP\"] == unique_values[i]]\n",
        "\n",
        "def shift_func(i):\n",
        "  data = data_creats(i)\n",
        "  data[\"entries\"] = data[\"ENTRIES\"].shift(-1) - data[\"ENTRIES\"]\n",
        "  data[\"exits\"] = data[\"amit\"].shift(-1) - data[\"amit\"]\n",
        "  data.drop(data.index[len(data.index)-1],axis= 0, inplace= True)\n",
        "  return(data)\n",
        "\n",
        "\n",
        "new_data = pd.concat([shift_func(0),shift_func(1),shift_func(2),shift_func(3),shift_func(4),shift_func(5),shift_func(6),shift_func(7),\n",
        "                      shift_func(8),shift_func(9),shift_func(10),shift_func(11),shift_func(12),shift_func(13),shift_func(14),shift_func(15),\n",
        "                      shift_func(16),shift_func(17),shift_func(18),shift_func(19),shift_func(20),shift_func(21),shift_func(22),shift_func(23),\n",
        "                      shift_func(24),shift_func(25),shift_func(26),shift_func(27),shift_func(28),shift_func(29),shift_func(30),shift_func(31)\n",
        "                      ,shift_func(32),shift_func(33),shift_func(34),shift_func(35),shift_func(36),shift_func(37),shift_func(38),shift_func(39),shift_func(40)], axis = 0)\n",
        "new_data.drop([\"amit\",\"ENTRIES\"], axis= 1, inplace=True)\n"
      ],
      "execution_count": null,
      "outputs": [
        {
          "output_type": "stream",
          "text": [
            "/usr/local/lib/python3.7/dist-packages/ipykernel_launcher.py:7: SettingWithCopyWarning: \n",
            "A value is trying to be set on a copy of a slice from a DataFrame.\n",
            "Try using .loc[row_indexer,col_indexer] = value instead\n",
            "\n",
            "See the caveats in the documentation: https://pandas.pydata.org/pandas-docs/stable/user_guide/indexing.html#returning-a-view-versus-a-copy\n",
            "  import sys\n",
            "/usr/local/lib/python3.7/dist-packages/ipykernel_launcher.py:8: SettingWithCopyWarning: \n",
            "A value is trying to be set on a copy of a slice from a DataFrame.\n",
            "Try using .loc[row_indexer,col_indexer] = value instead\n",
            "\n",
            "See the caveats in the documentation: https://pandas.pydata.org/pandas-docs/stable/user_guide/indexing.html#returning-a-view-versus-a-copy\n",
            "  \n",
            "/usr/local/lib/python3.7/dist-packages/pandas/core/frame.py:4174: SettingWithCopyWarning: \n",
            "A value is trying to be set on a copy of a slice from a DataFrame\n",
            "\n",
            "See the caveats in the documentation: https://pandas.pydata.org/pandas-docs/stable/user_guide/indexing.html#returning-a-view-versus-a-copy\n",
            "  errors=errors,\n"
          ],
          "name": "stderr"
        }
      ]
    },
    {
      "cell_type": "code",
      "metadata": {
        "id": "mgtZQiXIwQ_b"
      },
      "source": [
        "new_data = new_data[(new_data[\"entries\"] > 0) & (new_data[\"exits\"] > 0) ]\n",
        "data_34HQ = new_data.groupby(\"DATE\").sum()\n",
        "data_34HQ[\"weekend/weekday\"] = [1,1,0,0,0,0,0]\n",
        "data_34HQ.index = [0,1,2,3,4,5,6]\n",
        "data_34HQ[\"station\"] = [\"34\",\"34\",\"34\",\"34\",\"34\",\"34\",\"34\"]"
      ],
      "execution_count": null,
      "outputs": []
    },
    {
      "cell_type": "code",
      "metadata": {
        "colab": {
          "base_uri": "https://localhost:8080/",
          "height": 266
        },
        "id": "dJJpF0e45oBr",
        "outputId": "6a58616c-871e-4739-f130-e03fa465a212"
      },
      "source": [
        "data_34HQ"
      ],
      "execution_count": null,
      "outputs": [
        {
          "output_type": "execute_result",
          "data": {
            "text/html": [
              "<div>\n",
              "<style scoped>\n",
              "    .dataframe tbody tr th:only-of-type {\n",
              "        vertical-align: middle;\n",
              "    }\n",
              "\n",
              "    .dataframe tbody tr th {\n",
              "        vertical-align: top;\n",
              "    }\n",
              "\n",
              "    .dataframe thead th {\n",
              "        text-align: right;\n",
              "    }\n",
              "</style>\n",
              "<table border=\"1\" class=\"dataframe\">\n",
              "  <thead>\n",
              "    <tr style=\"text-align: right;\">\n",
              "      <th></th>\n",
              "      <th>entries</th>\n",
              "      <th>exits</th>\n",
              "      <th>weekend/weekday</th>\n",
              "      <th>station</th>\n",
              "    </tr>\n",
              "  </thead>\n",
              "  <tbody>\n",
              "    <tr>\n",
              "      <th>0</th>\n",
              "      <td>70531.0</td>\n",
              "      <td>70560.0</td>\n",
              "      <td>1</td>\n",
              "      <td>34</td>\n",
              "    </tr>\n",
              "    <tr>\n",
              "      <th>1</th>\n",
              "      <td>57393.0</td>\n",
              "      <td>52713.0</td>\n",
              "      <td>1</td>\n",
              "      <td>34</td>\n",
              "    </tr>\n",
              "    <tr>\n",
              "      <th>2</th>\n",
              "      <td>112752.0</td>\n",
              "      <td>104839.0</td>\n",
              "      <td>0</td>\n",
              "      <td>34</td>\n",
              "    </tr>\n",
              "    <tr>\n",
              "      <th>3</th>\n",
              "      <td>124260.0</td>\n",
              "      <td>115629.0</td>\n",
              "      <td>0</td>\n",
              "      <td>34</td>\n",
              "    </tr>\n",
              "    <tr>\n",
              "      <th>4</th>\n",
              "      <td>3973331.0</td>\n",
              "      <td>2769386.0</td>\n",
              "      <td>0</td>\n",
              "      <td>34</td>\n",
              "    </tr>\n",
              "    <tr>\n",
              "      <th>5</th>\n",
              "      <td>122989.0</td>\n",
              "      <td>112633.0</td>\n",
              "      <td>0</td>\n",
              "      <td>34</td>\n",
              "    </tr>\n",
              "    <tr>\n",
              "      <th>6</th>\n",
              "      <td>13393277.0</td>\n",
              "      <td>25310922.0</td>\n",
              "      <td>0</td>\n",
              "      <td>34</td>\n",
              "    </tr>\n",
              "  </tbody>\n",
              "</table>\n",
              "</div>"
            ],
            "text/plain": [
              "      entries       exits  weekend/weekday station\n",
              "0     70531.0     70560.0                1      34\n",
              "1     57393.0     52713.0                1      34\n",
              "2    112752.0    104839.0                0      34\n",
              "3    124260.0    115629.0                0      34\n",
              "4   3973331.0   2769386.0                0      34\n",
              "5    122989.0    112633.0                0      34\n",
              "6  13393277.0  25310922.0                0      34"
            ]
          },
          "metadata": {},
          "execution_count": 19
        }
      ]
    },
    {
      "cell_type": "markdown",
      "metadata": {
        "id": "pLS1XwrfvMtX"
      },
      "source": [
        "## **14 ST**"
      ]
    },
    {
      "cell_type": "code",
      "metadata": {
        "id": "OicOnYmywrcD"
      },
      "source": [
        "data = df[df[\"STATION\"] == \"14 ST\"]"
      ],
      "execution_count": null,
      "outputs": []
    },
    {
      "cell_type": "code",
      "metadata": {
        "id": "Y7ILYhaPwwPn",
        "colab": {
          "base_uri": "https://localhost:8080/"
        },
        "outputId": "5e120c29-c9f7-401c-f183-5eb3ad478d7a"
      },
      "source": [
        " data[\"SCP\"].nunique()"
      ],
      "execution_count": null,
      "outputs": [
        {
          "output_type": "execute_result",
          "data": {
            "text/plain": [
              "32"
            ]
          },
          "metadata": {},
          "execution_count": 21
        }
      ]
    },
    {
      "cell_type": "code",
      "metadata": {
        "id": "nxbMD4o-w4ni",
        "colab": {
          "base_uri": "https://localhost:8080/"
        },
        "outputId": "3b4cee22-51db-4a99-cc72-4fd9d35ee5ab"
      },
      "source": [
        "def data_creats(i):\n",
        "  unique_values = data[\"SCP\"].unique()\n",
        "  return data[data[\"SCP\"] == unique_values[i]]\n",
        "\n",
        "def shift_func(i):\n",
        "  data = data_creats(i)\n",
        "  data[\"entries\"] = data[\"ENTRIES\"].shift(-1) - data[\"ENTRIES\"]\n",
        "  data[\"exits\"] = data[\"amit\"].shift(-1) - data[\"amit\"]\n",
        "  data.drop(data.index[len(data.index)-1],axis= 0, inplace= True)\n",
        "  return(data)\n",
        "\n",
        "\n",
        "new_data = pd.concat([shift_func(0),shift_func(1),shift_func(2),shift_func(3),shift_func(4),shift_func(5),shift_func(6),shift_func(7),\n",
        "                      shift_func(8),shift_func(9),shift_func(10),shift_func(11),shift_func(12),shift_func(13),shift_func(14),shift_func(15),\n",
        "                      shift_func(16),shift_func(17),shift_func(18),shift_func(19),shift_func(20),shift_func(21),shift_func(22),shift_func(23),\n",
        "                      shift_func(24),shift_func(25),shift_func(26),shift_func(27),shift_func(28),shift_func(29),shift_func(30),shift_func(31)], axis = 0)\n",
        "new_data.drop([\"amit\",\"ENTRIES\"], axis= 1, inplace=True)\n"
      ],
      "execution_count": null,
      "outputs": [
        {
          "output_type": "stream",
          "text": [
            "/usr/local/lib/python3.7/dist-packages/ipykernel_launcher.py:7: SettingWithCopyWarning: \n",
            "A value is trying to be set on a copy of a slice from a DataFrame.\n",
            "Try using .loc[row_indexer,col_indexer] = value instead\n",
            "\n",
            "See the caveats in the documentation: https://pandas.pydata.org/pandas-docs/stable/user_guide/indexing.html#returning-a-view-versus-a-copy\n",
            "  import sys\n",
            "/usr/local/lib/python3.7/dist-packages/ipykernel_launcher.py:8: SettingWithCopyWarning: \n",
            "A value is trying to be set on a copy of a slice from a DataFrame.\n",
            "Try using .loc[row_indexer,col_indexer] = value instead\n",
            "\n",
            "See the caveats in the documentation: https://pandas.pydata.org/pandas-docs/stable/user_guide/indexing.html#returning-a-view-versus-a-copy\n",
            "  \n",
            "/usr/local/lib/python3.7/dist-packages/pandas/core/frame.py:4174: SettingWithCopyWarning: \n",
            "A value is trying to be set on a copy of a slice from a DataFrame\n",
            "\n",
            "See the caveats in the documentation: https://pandas.pydata.org/pandas-docs/stable/user_guide/indexing.html#returning-a-view-versus-a-copy\n",
            "  errors=errors,\n"
          ],
          "name": "stderr"
        }
      ]
    },
    {
      "cell_type": "code",
      "metadata": {
        "id": "00lG9r8hw8tN"
      },
      "source": [
        "new_data = new_data[(new_data[\"entries\"] > 0) & (new_data[\"exits\"] > 0) ]\n",
        "data_14 = new_data.groupby(\"DATE\").sum()\n",
        "data_14[\"weekend/weekday\"] = [1,1,0,0,0,0,0]\n",
        "data_14.index = [0,1,2,3,4,5,6]\n",
        "data_14[\"station\"] = [\"14\",\"14\",\"14\",\"14\",\"14\",\"14\",\"14\"]"
      ],
      "execution_count": null,
      "outputs": []
    },
    {
      "cell_type": "markdown",
      "metadata": {
        "id": "iLhflWsF0_eN"
      },
      "source": [
        "## **5 AV/59 ST**"
      ]
    },
    {
      "cell_type": "code",
      "metadata": {
        "id": "YDqjJEud1EVA"
      },
      "source": [
        "data = df[df[\"STATION\"] == \"5 AV/59 ST\"]"
      ],
      "execution_count": null,
      "outputs": []
    },
    {
      "cell_type": "code",
      "metadata": {
        "id": "ux0TEMNU1JJZ",
        "colab": {
          "base_uri": "https://localhost:8080/"
        },
        "outputId": "4bf50533-ea01-4a82-8efc-1663509dd28e"
      },
      "source": [
        " data[\"SCP\"].nunique()"
      ],
      "execution_count": null,
      "outputs": [
        {
          "output_type": "execute_result",
          "data": {
            "text/plain": [
              "14"
            ]
          },
          "metadata": {},
          "execution_count": 25
        }
      ]
    },
    {
      "cell_type": "code",
      "metadata": {
        "id": "odIdpU2A1L5n",
        "colab": {
          "base_uri": "https://localhost:8080/"
        },
        "outputId": "11df37c4-5a23-4aea-84bc-ad6b521d9c16"
      },
      "source": [
        "def data_creats(i):\n",
        "  unique_values = data[\"SCP\"].unique()\n",
        "  return data[data[\"SCP\"] == unique_values[i]]\n",
        "\n",
        "def shift_func(i):\n",
        "  data = data_creats(i)\n",
        "  data[\"entries\"] = data[\"ENTRIES\"].shift(-1) - data[\"ENTRIES\"]\n",
        "  data[\"exits\"] = data[\"amit\"].shift(-1) - data[\"amit\"]\n",
        "  data.drop(data.index[len(data.index)-1],axis= 0, inplace= True)\n",
        "  return(data)\n",
        "\n",
        "\n",
        "new_data = pd.concat([shift_func(0),shift_func(1),shift_func(2),shift_func(3),shift_func(4),shift_func(5),shift_func(6),shift_func(7),\n",
        "                      shift_func(8),shift_func(9),shift_func(10),shift_func(11),shift_func(12),shift_func(13)], axis = 0)\n",
        "new_data.drop([\"amit\",\"ENTRIES\"], axis= 1, inplace=True)"
      ],
      "execution_count": null,
      "outputs": [
        {
          "output_type": "stream",
          "text": [
            "/usr/local/lib/python3.7/dist-packages/ipykernel_launcher.py:7: SettingWithCopyWarning: \n",
            "A value is trying to be set on a copy of a slice from a DataFrame.\n",
            "Try using .loc[row_indexer,col_indexer] = value instead\n",
            "\n",
            "See the caveats in the documentation: https://pandas.pydata.org/pandas-docs/stable/user_guide/indexing.html#returning-a-view-versus-a-copy\n",
            "  import sys\n",
            "/usr/local/lib/python3.7/dist-packages/ipykernel_launcher.py:8: SettingWithCopyWarning: \n",
            "A value is trying to be set on a copy of a slice from a DataFrame.\n",
            "Try using .loc[row_indexer,col_indexer] = value instead\n",
            "\n",
            "See the caveats in the documentation: https://pandas.pydata.org/pandas-docs/stable/user_guide/indexing.html#returning-a-view-versus-a-copy\n",
            "  \n",
            "/usr/local/lib/python3.7/dist-packages/pandas/core/frame.py:4174: SettingWithCopyWarning: \n",
            "A value is trying to be set on a copy of a slice from a DataFrame\n",
            "\n",
            "See the caveats in the documentation: https://pandas.pydata.org/pandas-docs/stable/user_guide/indexing.html#returning-a-view-versus-a-copy\n",
            "  errors=errors,\n"
          ],
          "name": "stderr"
        }
      ]
    },
    {
      "cell_type": "code",
      "metadata": {
        "id": "b6VPa4pH1Th1"
      },
      "source": [
        "new_data = new_data[(new_data[\"entries\"] > 0) & (new_data[\"exits\"] > 0) ]\n",
        "data_59_5 = new_data.groupby(\"DATE\").sum()\n",
        "data_59_5[\"weekend/weekday\"] = [1,1,0,0,0,0,0]\n",
        "data_59_5.index = [0,1,2,3,4,5,6]\n",
        "data_59_5[\"station\"] = [\"59\",\"59\",\"59\",\"59\",\"59\",\"59\",\"59\"]"
      ],
      "execution_count": null,
      "outputs": []
    },
    {
      "cell_type": "markdown",
      "metadata": {
        "id": "LAMdUqqF711p"
      },
      "source": [
        "## **14 ST-UNION SQ**"
      ]
    },
    {
      "cell_type": "code",
      "metadata": {
        "id": "85ER245q734M",
        "colab": {
          "base_uri": "https://localhost:8080/"
        },
        "outputId": "87323ed8-f125-4821-c284-27dacae8ebab"
      },
      "source": [
        "data = df[df[\"STATION\"] == \"14 ST-UNION SQ\"]\n",
        "data[\"SCP\"].nunique()"
      ],
      "execution_count": null,
      "outputs": [
        {
          "output_type": "execute_result",
          "data": {
            "text/plain": [
              "26"
            ]
          },
          "metadata": {},
          "execution_count": 28
        }
      ]
    },
    {
      "cell_type": "code",
      "metadata": {
        "id": "m_H9_UpM8AGu",
        "colab": {
          "base_uri": "https://localhost:8080/"
        },
        "outputId": "5edf13b8-c0af-4b50-8877-e970688a624f"
      },
      "source": [
        "def data_creats(i):\n",
        "  unique_values = data[\"SCP\"].unique()\n",
        "  return data[data[\"SCP\"] == unique_values[i]]\n",
        "\n",
        "def shift_func(i):\n",
        "  data = data_creats(i)\n",
        "  data[\"entries\"] = data[\"ENTRIES\"].shift(-1) - data[\"ENTRIES\"]\n",
        "  data[\"exits\"] = data[\"amit\"].shift(-1) - data[\"amit\"]\n",
        "  data.drop(data.index[len(data.index)-1],axis= 0, inplace= True)\n",
        "  return(data)\n",
        "\n",
        "\n",
        "new_data = pd.concat([shift_func(0),shift_func(1),shift_func(2),shift_func(3),shift_func(4),shift_func(5),shift_func(6),shift_func(7),\n",
        "                      shift_func(8),shift_func(9),shift_func(10),shift_func(11),shift_func(12),shift_func(13),shift_func(14),shift_func(15),\n",
        "                      shift_func(16),shift_func(17),shift_func(18),shift_func(19),shift_func(20),shift_func(21),shift_func(22),shift_func(23),\n",
        "                      shift_func(24),shift_func(25)], axis = 0)\n",
        "new_data.drop([\"amit\",\"ENTRIES\"], axis= 1, inplace=True)"
      ],
      "execution_count": null,
      "outputs": [
        {
          "output_type": "stream",
          "text": [
            "/usr/local/lib/python3.7/dist-packages/ipykernel_launcher.py:7: SettingWithCopyWarning: \n",
            "A value is trying to be set on a copy of a slice from a DataFrame.\n",
            "Try using .loc[row_indexer,col_indexer] = value instead\n",
            "\n",
            "See the caveats in the documentation: https://pandas.pydata.org/pandas-docs/stable/user_guide/indexing.html#returning-a-view-versus-a-copy\n",
            "  import sys\n",
            "/usr/local/lib/python3.7/dist-packages/ipykernel_launcher.py:8: SettingWithCopyWarning: \n",
            "A value is trying to be set on a copy of a slice from a DataFrame.\n",
            "Try using .loc[row_indexer,col_indexer] = value instead\n",
            "\n",
            "See the caveats in the documentation: https://pandas.pydata.org/pandas-docs/stable/user_guide/indexing.html#returning-a-view-versus-a-copy\n",
            "  \n",
            "/usr/local/lib/python3.7/dist-packages/pandas/core/frame.py:4174: SettingWithCopyWarning: \n",
            "A value is trying to be set on a copy of a slice from a DataFrame\n",
            "\n",
            "See the caveats in the documentation: https://pandas.pydata.org/pandas-docs/stable/user_guide/indexing.html#returning-a-view-versus-a-copy\n",
            "  errors=errors,\n"
          ],
          "name": "stderr"
        }
      ]
    },
    {
      "cell_type": "code",
      "metadata": {
        "id": "Sn46aFJp8F_o"
      },
      "source": [
        "new_data = new_data[(new_data[\"entries\"] > 0) & (new_data[\"exits\"] > 0) ]\n",
        "data_14US = new_data.groupby(\"DATE\").sum()\n",
        "data_14US[\"weekend/weekday\"] = [1,1,0,0,0,0,0]\n",
        "data_14US.index = [0,1,2,3,4,5,6]\n",
        "data_14US[\"station\"] = [\"14\",\"14\",\"14\",\"14\",\"14\",\"14\",\"14\"]"
      ],
      "execution_count": null,
      "outputs": []
    },
    {
      "cell_type": "code",
      "metadata": {
        "id": "i3NrzV2o8pBk",
        "colab": {
          "base_uri": "https://localhost:8080/",
          "height": 266
        },
        "outputId": "09660e14-2a3e-4377-d723-156550d3ec62"
      },
      "source": [
        "data_14US"
      ],
      "execution_count": null,
      "outputs": [
        {
          "output_type": "execute_result",
          "data": {
            "text/html": [
              "<div>\n",
              "<style scoped>\n",
              "    .dataframe tbody tr th:only-of-type {\n",
              "        vertical-align: middle;\n",
              "    }\n",
              "\n",
              "    .dataframe tbody tr th {\n",
              "        vertical-align: top;\n",
              "    }\n",
              "\n",
              "    .dataframe thead th {\n",
              "        text-align: right;\n",
              "    }\n",
              "</style>\n",
              "<table border=\"1\" class=\"dataframe\">\n",
              "  <thead>\n",
              "    <tr style=\"text-align: right;\">\n",
              "      <th></th>\n",
              "      <th>entries</th>\n",
              "      <th>exits</th>\n",
              "      <th>weekend/weekday</th>\n",
              "      <th>station</th>\n",
              "    </tr>\n",
              "  </thead>\n",
              "  <tbody>\n",
              "    <tr>\n",
              "      <th>0</th>\n",
              "      <td>44085.0</td>\n",
              "      <td>41696.0</td>\n",
              "      <td>1</td>\n",
              "      <td>14</td>\n",
              "    </tr>\n",
              "    <tr>\n",
              "      <th>1</th>\n",
              "      <td>30451.0</td>\n",
              "      <td>28793.0</td>\n",
              "      <td>1</td>\n",
              "      <td>14</td>\n",
              "    </tr>\n",
              "    <tr>\n",
              "      <th>2</th>\n",
              "      <td>61283.0</td>\n",
              "      <td>57298.0</td>\n",
              "      <td>0</td>\n",
              "      <td>14</td>\n",
              "    </tr>\n",
              "    <tr>\n",
              "      <th>3</th>\n",
              "      <td>70920.0</td>\n",
              "      <td>61807.0</td>\n",
              "      <td>0</td>\n",
              "      <td>14</td>\n",
              "    </tr>\n",
              "    <tr>\n",
              "      <th>4</th>\n",
              "      <td>73530.0</td>\n",
              "      <td>60141.0</td>\n",
              "      <td>0</td>\n",
              "      <td>14</td>\n",
              "    </tr>\n",
              "    <tr>\n",
              "      <th>5</th>\n",
              "      <td>68640.0</td>\n",
              "      <td>62462.0</td>\n",
              "      <td>0</td>\n",
              "      <td>14</td>\n",
              "    </tr>\n",
              "    <tr>\n",
              "      <th>6</th>\n",
              "      <td>60673.0</td>\n",
              "      <td>60320.0</td>\n",
              "      <td>0</td>\n",
              "      <td>14</td>\n",
              "    </tr>\n",
              "  </tbody>\n",
              "</table>\n",
              "</div>"
            ],
            "text/plain": [
              "   entries    exits  weekend/weekday station\n",
              "0  44085.0  41696.0                1      14\n",
              "1  30451.0  28793.0                1      14\n",
              "2  61283.0  57298.0                0      14\n",
              "3  70920.0  61807.0                0      14\n",
              "4  73530.0  60141.0                0      14\n",
              "5  68640.0  62462.0                0      14\n",
              "6  60673.0  60320.0                0      14"
            ]
          },
          "metadata": {},
          "execution_count": 31
        }
      ]
    },
    {
      "cell_type": "markdown",
      "metadata": {
        "id": "_5NT17tr-Gpg"
      },
      "source": [
        "## **42 ST-BRYANT PK**"
      ]
    },
    {
      "cell_type": "code",
      "metadata": {
        "id": "o_HC5QtI-Ikf",
        "colab": {
          "base_uri": "https://localhost:8080/"
        },
        "outputId": "c2b2f83d-c647-4b83-9e31-d8291bb57bf7"
      },
      "source": [
        "data = df[df[\"STATION\"] == \"42 ST-BRYANT PK\"]\n",
        "data[\"SCP\"].nunique()"
      ],
      "execution_count": null,
      "outputs": [
        {
          "output_type": "execute_result",
          "data": {
            "text/plain": [
              "21"
            ]
          },
          "metadata": {},
          "execution_count": 32
        }
      ]
    },
    {
      "cell_type": "code",
      "metadata": {
        "id": "289YgMX2-MOY",
        "colab": {
          "base_uri": "https://localhost:8080/"
        },
        "outputId": "ead6d2e0-3558-4144-cdf8-f51fc6f1a129"
      },
      "source": [
        "def data_creats(i):\n",
        "  unique_values = data[\"SCP\"].unique()\n",
        "  return data[data[\"SCP\"] == unique_values[i]]\n",
        "\n",
        "def shift_func(i):\n",
        "  data = data_creats(i)\n",
        "  data[\"entries\"] = data[\"ENTRIES\"].shift(-1) - data[\"ENTRIES\"]\n",
        "  data[\"exits\"] = data[\"amit\"].shift(-1) - data[\"amit\"]\n",
        "  data.drop(data.index[len(data.index)-1],axis= 0, inplace= True)\n",
        "  return(data)\n",
        "\n",
        "\n",
        "new_data = pd.concat([shift_func(0),shift_func(1),shift_func(2),shift_func(3),shift_func(4),shift_func(5),shift_func(6),shift_func(7),\n",
        "                      shift_func(8),shift_func(9),shift_func(10),shift_func(11),shift_func(12),shift_func(13),shift_func(14),shift_func(15),\n",
        "                      shift_func(16),shift_func(17),shift_func(18),shift_func(19),shift_func(20)], axis = 0)\n",
        "new_data.drop([\"amit\",\"ENTRIES\"], axis= 1, inplace=True)"
      ],
      "execution_count": null,
      "outputs": [
        {
          "output_type": "stream",
          "text": [
            "/usr/local/lib/python3.7/dist-packages/ipykernel_launcher.py:7: SettingWithCopyWarning: \n",
            "A value is trying to be set on a copy of a slice from a DataFrame.\n",
            "Try using .loc[row_indexer,col_indexer] = value instead\n",
            "\n",
            "See the caveats in the documentation: https://pandas.pydata.org/pandas-docs/stable/user_guide/indexing.html#returning-a-view-versus-a-copy\n",
            "  import sys\n",
            "/usr/local/lib/python3.7/dist-packages/ipykernel_launcher.py:8: SettingWithCopyWarning: \n",
            "A value is trying to be set on a copy of a slice from a DataFrame.\n",
            "Try using .loc[row_indexer,col_indexer] = value instead\n",
            "\n",
            "See the caveats in the documentation: https://pandas.pydata.org/pandas-docs/stable/user_guide/indexing.html#returning-a-view-versus-a-copy\n",
            "  \n",
            "/usr/local/lib/python3.7/dist-packages/pandas/core/frame.py:4174: SettingWithCopyWarning: \n",
            "A value is trying to be set on a copy of a slice from a DataFrame\n",
            "\n",
            "See the caveats in the documentation: https://pandas.pydata.org/pandas-docs/stable/user_guide/indexing.html#returning-a-view-versus-a-copy\n",
            "  errors=errors,\n"
          ],
          "name": "stderr"
        }
      ]
    },
    {
      "cell_type": "code",
      "metadata": {
        "id": "w-556Erf-QKI"
      },
      "source": [
        "new_data = new_data[(new_data[\"entries\"] > 0) & (new_data[\"exits\"] > 0) ]\n",
        "data_42BP = new_data.groupby(\"DATE\").sum()\n",
        "data_42BP[\"weekend/weekday\"] = [1,1,0,0,0,0,0]\n",
        "data_42BP.index = [0,1,2,3,4,5,6]\n",
        "data_42BP[\"station\"] = [\"42\",\"42\",\"42\",\"42\",\"42\",\"42\",\"42\"]"
      ],
      "execution_count": null,
      "outputs": []
    },
    {
      "cell_type": "markdown",
      "metadata": {
        "id": "JO3Uj40Kl_Nt"
      },
      "source": [
        "### **28 ST**"
      ]
    },
    {
      "cell_type": "code",
      "metadata": {
        "id": "yNAn7CFDmCN7",
        "colab": {
          "base_uri": "https://localhost:8080/"
        },
        "outputId": "7e405008-1706-437e-e7a0-b4c5c3481751"
      },
      "source": [
        "data = df[df[\"STATION\"] == \"28 ST\"]\n",
        "data[\"SCP\"].nunique()"
      ],
      "execution_count": null,
      "outputs": [
        {
          "output_type": "execute_result",
          "data": {
            "text/plain": [
              "9"
            ]
          },
          "metadata": {},
          "execution_count": 35
        }
      ]
    },
    {
      "cell_type": "code",
      "metadata": {
        "id": "Iz_uNOXDmJAW",
        "colab": {
          "base_uri": "https://localhost:8080/"
        },
        "outputId": "b68bb6a4-816d-4202-b6e5-7be8c652649b"
      },
      "source": [
        "def data_creats(i):\n",
        "  unique_values = data[\"SCP\"].unique()\n",
        "  return data[data[\"SCP\"] == unique_values[i]]\n",
        "\n",
        "def shift_func(i):\n",
        "  data = data_creats(i)\n",
        "  data[\"entries\"] = data[\"ENTRIES\"].shift(-1) - data[\"ENTRIES\"]\n",
        "  data[\"exits\"] = data[\"amit\"].shift(-1) - data[\"amit\"]\n",
        "  data.drop(data.index[len(data.index)-1],axis= 0, inplace= True)\n",
        "  return(data)\n",
        "\n",
        "\n",
        "new_data = pd.concat([shift_func(0),shift_func(1),shift_func(2),shift_func(3),shift_func(4),shift_func(5),shift_func(6),shift_func(7),\n",
        "                      shift_func(8)], axis = 0)\n",
        "new_data.drop([\"amit\",\"ENTRIES\"], axis= 1, inplace=True)"
      ],
      "execution_count": null,
      "outputs": [
        {
          "output_type": "stream",
          "text": [
            "/usr/local/lib/python3.7/dist-packages/ipykernel_launcher.py:7: SettingWithCopyWarning: \n",
            "A value is trying to be set on a copy of a slice from a DataFrame.\n",
            "Try using .loc[row_indexer,col_indexer] = value instead\n",
            "\n",
            "See the caveats in the documentation: https://pandas.pydata.org/pandas-docs/stable/user_guide/indexing.html#returning-a-view-versus-a-copy\n",
            "  import sys\n",
            "/usr/local/lib/python3.7/dist-packages/ipykernel_launcher.py:8: SettingWithCopyWarning: \n",
            "A value is trying to be set on a copy of a slice from a DataFrame.\n",
            "Try using .loc[row_indexer,col_indexer] = value instead\n",
            "\n",
            "See the caveats in the documentation: https://pandas.pydata.org/pandas-docs/stable/user_guide/indexing.html#returning-a-view-versus-a-copy\n",
            "  \n",
            "/usr/local/lib/python3.7/dist-packages/pandas/core/frame.py:4174: SettingWithCopyWarning: \n",
            "A value is trying to be set on a copy of a slice from a DataFrame\n",
            "\n",
            "See the caveats in the documentation: https://pandas.pydata.org/pandas-docs/stable/user_guide/indexing.html#returning-a-view-versus-a-copy\n",
            "  errors=errors,\n"
          ],
          "name": "stderr"
        }
      ]
    },
    {
      "cell_type": "code",
      "metadata": {
        "id": "WKm-Lk37mL8Y"
      },
      "source": [
        "new_data = new_data[(new_data[\"entries\"] > 0) & (new_data[\"exits\"] > 0) ]\n",
        "data_28 = new_data.groupby(\"DATE\").sum()\n",
        "data_28[\"weekend/weekday\"] = [1,1,0,0,0,0,0]\n",
        "data_28.index = [0,1,2,3,4,5,6]\n",
        "data_28[\"station\"] = [\"28\",\"28\",\"28\",\"28\",\"28\",\"28\",\"28\"]"
      ],
      "execution_count": null,
      "outputs": []
    },
    {
      "cell_type": "markdown",
      "metadata": {
        "id": "qQdLaNWsnZ3J"
      },
      "source": [
        "## **72 ST**"
      ]
    },
    {
      "cell_type": "code",
      "metadata": {
        "id": "RnEzhI8NndLJ",
        "colab": {
          "base_uri": "https://localhost:8080/"
        },
        "outputId": "423cf245-765b-4797-bc98-de9e9d5d2b06"
      },
      "source": [
        "data = df[df[\"STATION\"] == \"72 ST\"]\n",
        "data[\"SCP\"].nunique()"
      ],
      "execution_count": null,
      "outputs": [
        {
          "output_type": "execute_result",
          "data": {
            "text/plain": [
              "7"
            ]
          },
          "metadata": {},
          "execution_count": 38
        }
      ]
    },
    {
      "cell_type": "code",
      "metadata": {
        "id": "t1IChFarnfm8",
        "colab": {
          "base_uri": "https://localhost:8080/"
        },
        "outputId": "8f62a2e9-690f-4431-88b3-d07422225746"
      },
      "source": [
        "def data_creats(i):\n",
        "  unique_values = data[\"SCP\"].unique()\n",
        "  return data[data[\"SCP\"] == unique_values[i]]\n",
        "\n",
        "def shift_func(i):\n",
        "  data = data_creats(i)\n",
        "  data[\"entries\"] = data[\"ENTRIES\"].shift(-1) - data[\"ENTRIES\"]\n",
        "  data[\"exits\"] = data[\"amit\"].shift(-1) - data[\"amit\"]\n",
        "  data.drop(data.index[len(data.index)-1],axis= 0, inplace= True)\n",
        "  return(data)\n",
        "\n",
        "\n",
        "new_data = pd.concat([shift_func(0),shift_func(1),shift_func(2),shift_func(3),shift_func(4),shift_func(5),shift_func(6)], axis = 0)\n",
        "new_data.drop([\"amit\",\"ENTRIES\"], axis= 1, inplace=True)"
      ],
      "execution_count": null,
      "outputs": [
        {
          "output_type": "stream",
          "text": [
            "/usr/local/lib/python3.7/dist-packages/ipykernel_launcher.py:7: SettingWithCopyWarning: \n",
            "A value is trying to be set on a copy of a slice from a DataFrame.\n",
            "Try using .loc[row_indexer,col_indexer] = value instead\n",
            "\n",
            "See the caveats in the documentation: https://pandas.pydata.org/pandas-docs/stable/user_guide/indexing.html#returning-a-view-versus-a-copy\n",
            "  import sys\n",
            "/usr/local/lib/python3.7/dist-packages/ipykernel_launcher.py:8: SettingWithCopyWarning: \n",
            "A value is trying to be set on a copy of a slice from a DataFrame.\n",
            "Try using .loc[row_indexer,col_indexer] = value instead\n",
            "\n",
            "See the caveats in the documentation: https://pandas.pydata.org/pandas-docs/stable/user_guide/indexing.html#returning-a-view-versus-a-copy\n",
            "  \n",
            "/usr/local/lib/python3.7/dist-packages/pandas/core/frame.py:4174: SettingWithCopyWarning: \n",
            "A value is trying to be set on a copy of a slice from a DataFrame\n",
            "\n",
            "See the caveats in the documentation: https://pandas.pydata.org/pandas-docs/stable/user_guide/indexing.html#returning-a-view-versus-a-copy\n",
            "  errors=errors,\n"
          ],
          "name": "stderr"
        }
      ]
    },
    {
      "cell_type": "code",
      "metadata": {
        "id": "h0VPToEOnjYn"
      },
      "source": [
        "new_data = new_data[(new_data[\"entries\"] > 0) & (new_data[\"exits\"] > 0) ]\n",
        "data_72 = new_data.groupby(\"DATE\").sum()\n",
        "data_72[\"weekend/weekday\"] = [1,1,0,0,0,0,0]\n",
        "data_72.index = [0,1,2,3,4,5,6]\n",
        "data_72[\"station\"] = [\"72\",\"72\",\"72\",\"72\",\"72\",\"72\",\"72\"]"
      ],
      "execution_count": null,
      "outputs": []
    },
    {
      "cell_type": "markdown",
      "metadata": {
        "id": "ShmIpN2WrfNO"
      },
      "source": [
        "## **SPRING ST**"
      ]
    },
    {
      "cell_type": "code",
      "metadata": {
        "id": "LSr_dr1_rgo4",
        "colab": {
          "base_uri": "https://localhost:8080/"
        },
        "outputId": "f3da4080-dbff-4c4b-a435-14b3d337c501"
      },
      "source": [
        "data = df[df[\"STATION\"] == \"SPRING ST\"]\n",
        "data[\"SCP\"].nunique()"
      ],
      "execution_count": null,
      "outputs": [
        {
          "output_type": "execute_result",
          "data": {
            "text/plain": [
              "8"
            ]
          },
          "metadata": {},
          "execution_count": 41
        }
      ]
    },
    {
      "cell_type": "code",
      "metadata": {
        "id": "P8pm9qo6rlQB",
        "colab": {
          "base_uri": "https://localhost:8080/"
        },
        "outputId": "9f1fdc96-7b24-40ee-a86c-73da0007ea08"
      },
      "source": [
        "def data_creats(i):\n",
        "  unique_values = data[\"SCP\"].unique()\n",
        "  return data[data[\"SCP\"] == unique_values[i]]\n",
        "\n",
        "def shift_func(i):\n",
        "  data = data_creats(i)\n",
        "  data[\"entries\"] = data[\"ENTRIES\"].shift(-1) - data[\"ENTRIES\"]\n",
        "  data[\"exits\"] = data[\"amit\"].shift(-1) - data[\"amit\"]\n",
        "  data.drop(data.index[len(data.index)-1],axis= 0, inplace= True)\n",
        "  return(data)\n",
        "\n",
        "\n",
        "new_data = pd.concat([shift_func(0),shift_func(1),shift_func(2),shift_func(3),shift_func(4),shift_func(5),shift_func(6),shift_func(7)], axis = 0)\n",
        "new_data.drop([\"amit\",\"ENTRIES\"], axis= 1, inplace=True)"
      ],
      "execution_count": null,
      "outputs": [
        {
          "output_type": "stream",
          "text": [
            "/usr/local/lib/python3.7/dist-packages/ipykernel_launcher.py:7: SettingWithCopyWarning: \n",
            "A value is trying to be set on a copy of a slice from a DataFrame.\n",
            "Try using .loc[row_indexer,col_indexer] = value instead\n",
            "\n",
            "See the caveats in the documentation: https://pandas.pydata.org/pandas-docs/stable/user_guide/indexing.html#returning-a-view-versus-a-copy\n",
            "  import sys\n",
            "/usr/local/lib/python3.7/dist-packages/ipykernel_launcher.py:8: SettingWithCopyWarning: \n",
            "A value is trying to be set on a copy of a slice from a DataFrame.\n",
            "Try using .loc[row_indexer,col_indexer] = value instead\n",
            "\n",
            "See the caveats in the documentation: https://pandas.pydata.org/pandas-docs/stable/user_guide/indexing.html#returning-a-view-versus-a-copy\n",
            "  \n",
            "/usr/local/lib/python3.7/dist-packages/pandas/core/frame.py:4174: SettingWithCopyWarning: \n",
            "A value is trying to be set on a copy of a slice from a DataFrame\n",
            "\n",
            "See the caveats in the documentation: https://pandas.pydata.org/pandas-docs/stable/user_guide/indexing.html#returning-a-view-versus-a-copy\n",
            "  errors=errors,\n"
          ],
          "name": "stderr"
        }
      ]
    },
    {
      "cell_type": "code",
      "metadata": {
        "id": "ynlJivLkrp1C"
      },
      "source": [
        "new_data = new_data[(new_data[\"entries\"] > 0) & (new_data[\"exits\"] > 0) ]\n",
        "data_spring = new_data.groupby(\"DATE\").sum()\n",
        "data_spring[\"weekend/weekday\"] = [1,1,0,0,0,0,0]\n",
        "data_spring.index = [0,1,2,3,4,5,6]\n",
        "data_spring[\"station\"] = [\"spring\",\"spring\",\"spring\",\"spring\",\"spring\",\"spring\",\"spring\"]"
      ],
      "execution_count": null,
      "outputs": []
    },
    {
      "cell_type": "markdown",
      "metadata": {
        "id": "rankD_GX8XkZ"
      },
      "source": [
        "## **CREATING THE DATA**"
      ]
    },
    {
      "cell_type": "code",
      "metadata": {
        "id": "uAb7JJYC_Yzu"
      },
      "source": [
        "DATA = pd.concat([data_14US,data_59_5,data_42BP,data_14,data_34HQ,data_42SQ,data_59,data_28,data_72,data_spring], axis = 0)\n",
        "DATA.index = list(range(0,70))\n",
        "data = DATA"
      ],
      "execution_count": null,
      "outputs": []
    },
    {
      "cell_type": "markdown",
      "metadata": {
        "id": "fqsA9UTNtSoA"
      },
      "source": [
        "## Now, let's ask some questions :)"
      ]
    },
    {
      "cell_type": "markdown",
      "metadata": {
        "id": "7z83T2UGtYl-"
      },
      "source": [
        "## Which is the most popular station accrording to our data?"
      ]
    },
    {
      "cell_type": "code",
      "metadata": {
        "colab": {
          "base_uri": "https://localhost:8080/",
          "height": 297
        },
        "id": "SuaA21xYtRdV",
        "outputId": "2879e535-b9a3-46d2-dc7a-53be36c9efc0"
      },
      "source": [
        "data.groupby(\"station\").mean().round()[[\"entries\",\"exits\"]]"
      ],
      "execution_count": null,
      "outputs": [
        {
          "output_type": "execute_result",
          "data": {
            "text/html": [
              "<div>\n",
              "<style scoped>\n",
              "    .dataframe tbody tr th:only-of-type {\n",
              "        vertical-align: middle;\n",
              "    }\n",
              "\n",
              "    .dataframe tbody tr th {\n",
              "        vertical-align: top;\n",
              "    }\n",
              "\n",
              "    .dataframe thead th {\n",
              "        text-align: right;\n",
              "    }\n",
              "</style>\n",
              "<table border=\"1\" class=\"dataframe\">\n",
              "  <thead>\n",
              "    <tr style=\"text-align: right;\">\n",
              "      <th></th>\n",
              "      <th>entries</th>\n",
              "      <th>exits</th>\n",
              "    </tr>\n",
              "    <tr>\n",
              "      <th>station</th>\n",
              "      <th></th>\n",
              "      <th></th>\n",
              "    </tr>\n",
              "  </thead>\n",
              "  <tbody>\n",
              "    <tr>\n",
              "      <th>14</th>\n",
              "      <td>45758.0</td>\n",
              "      <td>42866.0</td>\n",
              "    </tr>\n",
              "    <tr>\n",
              "      <th>28</th>\n",
              "      <td>10706.0</td>\n",
              "      <td>12599.0</td>\n",
              "    </tr>\n",
              "    <tr>\n",
              "      <th>34</th>\n",
              "      <td>2550648.0</td>\n",
              "      <td>4076669.0</td>\n",
              "    </tr>\n",
              "    <tr>\n",
              "      <th>42</th>\n",
              "      <td>25080.0</td>\n",
              "      <td>27521.0</td>\n",
              "    </tr>\n",
              "    <tr>\n",
              "      <th>59</th>\n",
              "      <td>16697.0</td>\n",
              "      <td>10812.0</td>\n",
              "    </tr>\n",
              "    <tr>\n",
              "      <th>72</th>\n",
              "      <td>8758.0</td>\n",
              "      <td>7486.0</td>\n",
              "    </tr>\n",
              "    <tr>\n",
              "      <th>spring</th>\n",
              "      <td>12789.0</td>\n",
              "      <td>2715.0</td>\n",
              "    </tr>\n",
              "  </tbody>\n",
              "</table>\n",
              "</div>"
            ],
            "text/plain": [
              "           entries      exits\n",
              "station                      \n",
              "14         45758.0    42866.0\n",
              "28         10706.0    12599.0\n",
              "34       2550648.0  4076669.0\n",
              "42         25080.0    27521.0\n",
              "59         16697.0    10812.0\n",
              "72          8758.0     7486.0\n",
              "spring     12789.0     2715.0"
            ]
          },
          "metadata": {},
          "execution_count": 45
        }
      ]
    },
    {
      "cell_type": "markdown",
      "metadata": {
        "id": "sEUrOa7Cv21b"
      },
      "source": [
        "Are people travelling more during the weekend? or during the weekday?"
      ]
    },
    {
      "cell_type": "code",
      "metadata": {
        "colab": {
          "base_uri": "https://localhost:8080/",
          "height": 142
        },
        "id": "eDLZgAcawAjF",
        "outputId": "f2355f72-83b2-41f3-f1e4-a5f81650b123"
      },
      "source": [
        "data.groupby(\"weekend/weekday\").mean()"
      ],
      "execution_count": null,
      "outputs": [
        {
          "output_type": "execute_result",
          "data": {
            "text/html": [
              "<div>\n",
              "<style scoped>\n",
              "    .dataframe tbody tr th:only-of-type {\n",
              "        vertical-align: middle;\n",
              "    }\n",
              "\n",
              "    .dataframe tbody tr th {\n",
              "        vertical-align: top;\n",
              "    }\n",
              "\n",
              "    .dataframe thead th {\n",
              "        text-align: right;\n",
              "    }\n",
              "</style>\n",
              "<table border=\"1\" class=\"dataframe\">\n",
              "  <thead>\n",
              "    <tr style=\"text-align: right;\">\n",
              "      <th></th>\n",
              "      <th>entries</th>\n",
              "      <th>exits</th>\n",
              "    </tr>\n",
              "    <tr>\n",
              "      <th>weekend/weekday</th>\n",
              "      <th></th>\n",
              "      <th></th>\n",
              "    </tr>\n",
              "  </thead>\n",
              "  <tbody>\n",
              "    <tr>\n",
              "      <th>0</th>\n",
              "      <td>378688.74</td>\n",
              "      <td>589477.2</td>\n",
              "    </tr>\n",
              "    <tr>\n",
              "      <th>1</th>\n",
              "      <td>18567.65</td>\n",
              "      <td>17960.1</td>\n",
              "    </tr>\n",
              "  </tbody>\n",
              "</table>\n",
              "</div>"
            ],
            "text/plain": [
              "                   entries     exits\n",
              "weekend/weekday                     \n",
              "0                378688.74  589477.2\n",
              "1                 18567.65   17960.1"
            ]
          },
          "metadata": {},
          "execution_count": 46
        }
      ]
    },
    {
      "cell_type": "markdown",
      "metadata": {
        "id": "iMOvU49ktHxj"
      },
      "source": [
        "## **prepearing the Data for the algorithm**"
      ]
    },
    {
      "cell_type": "code",
      "metadata": {
        "id": "Rx6CR5wB_8f3"
      },
      "source": [
        "Station = pd.get_dummies(DATA[\"station\"], drop_first= True)\n",
        "DATA = pd.concat([DATA,Station], axis = 1)\n",
        "DATA.drop(\"station\", axis = 1 , inplace= True)"
      ],
      "execution_count": null,
      "outputs": []
    },
    {
      "cell_type": "code",
      "metadata": {
        "id": "zRy_SIOTChL8"
      },
      "source": [
        ""
      ],
      "execution_count": null,
      "outputs": []
    },
    {
      "cell_type": "code",
      "metadata": {
        "id": "Kp1de7geAVZ-",
        "colab": {
          "base_uri": "https://localhost:8080/",
          "height": 419
        },
        "outputId": "1d47c7ca-01ee-4623-ba5b-82fc701940f0"
      },
      "source": [
        "DATA"
      ],
      "execution_count": null,
      "outputs": [
        {
          "output_type": "execute_result",
          "data": {
            "text/html": [
              "<div>\n",
              "<style scoped>\n",
              "    .dataframe tbody tr th:only-of-type {\n",
              "        vertical-align: middle;\n",
              "    }\n",
              "\n",
              "    .dataframe tbody tr th {\n",
              "        vertical-align: top;\n",
              "    }\n",
              "\n",
              "    .dataframe thead th {\n",
              "        text-align: right;\n",
              "    }\n",
              "</style>\n",
              "<table border=\"1\" class=\"dataframe\">\n",
              "  <thead>\n",
              "    <tr style=\"text-align: right;\">\n",
              "      <th></th>\n",
              "      <th>entries</th>\n",
              "      <th>exits</th>\n",
              "      <th>weekend/weekday</th>\n",
              "      <th>28</th>\n",
              "      <th>34</th>\n",
              "      <th>42</th>\n",
              "      <th>59</th>\n",
              "      <th>72</th>\n",
              "      <th>spring</th>\n",
              "    </tr>\n",
              "  </thead>\n",
              "  <tbody>\n",
              "    <tr>\n",
              "      <th>0</th>\n",
              "      <td>44085.0</td>\n",
              "      <td>41696.0</td>\n",
              "      <td>1</td>\n",
              "      <td>0</td>\n",
              "      <td>0</td>\n",
              "      <td>0</td>\n",
              "      <td>0</td>\n",
              "      <td>0</td>\n",
              "      <td>0</td>\n",
              "    </tr>\n",
              "    <tr>\n",
              "      <th>1</th>\n",
              "      <td>30451.0</td>\n",
              "      <td>28793.0</td>\n",
              "      <td>1</td>\n",
              "      <td>0</td>\n",
              "      <td>0</td>\n",
              "      <td>0</td>\n",
              "      <td>0</td>\n",
              "      <td>0</td>\n",
              "      <td>0</td>\n",
              "    </tr>\n",
              "    <tr>\n",
              "      <th>2</th>\n",
              "      <td>61283.0</td>\n",
              "      <td>57298.0</td>\n",
              "      <td>0</td>\n",
              "      <td>0</td>\n",
              "      <td>0</td>\n",
              "      <td>0</td>\n",
              "      <td>0</td>\n",
              "      <td>0</td>\n",
              "      <td>0</td>\n",
              "    </tr>\n",
              "    <tr>\n",
              "      <th>3</th>\n",
              "      <td>70920.0</td>\n",
              "      <td>61807.0</td>\n",
              "      <td>0</td>\n",
              "      <td>0</td>\n",
              "      <td>0</td>\n",
              "      <td>0</td>\n",
              "      <td>0</td>\n",
              "      <td>0</td>\n",
              "      <td>0</td>\n",
              "    </tr>\n",
              "    <tr>\n",
              "      <th>4</th>\n",
              "      <td>73530.0</td>\n",
              "      <td>60141.0</td>\n",
              "      <td>0</td>\n",
              "      <td>0</td>\n",
              "      <td>0</td>\n",
              "      <td>0</td>\n",
              "      <td>0</td>\n",
              "      <td>0</td>\n",
              "      <td>0</td>\n",
              "    </tr>\n",
              "    <tr>\n",
              "      <th>...</th>\n",
              "      <td>...</td>\n",
              "      <td>...</td>\n",
              "      <td>...</td>\n",
              "      <td>...</td>\n",
              "      <td>...</td>\n",
              "      <td>...</td>\n",
              "      <td>...</td>\n",
              "      <td>...</td>\n",
              "      <td>...</td>\n",
              "    </tr>\n",
              "    <tr>\n",
              "      <th>65</th>\n",
              "      <td>14953.0</td>\n",
              "      <td>2566.0</td>\n",
              "      <td>0</td>\n",
              "      <td>0</td>\n",
              "      <td>0</td>\n",
              "      <td>0</td>\n",
              "      <td>0</td>\n",
              "      <td>0</td>\n",
              "      <td>1</td>\n",
              "    </tr>\n",
              "    <tr>\n",
              "      <th>66</th>\n",
              "      <td>15990.0</td>\n",
              "      <td>3007.0</td>\n",
              "      <td>0</td>\n",
              "      <td>0</td>\n",
              "      <td>0</td>\n",
              "      <td>0</td>\n",
              "      <td>0</td>\n",
              "      <td>0</td>\n",
              "      <td>1</td>\n",
              "    </tr>\n",
              "    <tr>\n",
              "      <th>67</th>\n",
              "      <td>16342.0</td>\n",
              "      <td>2992.0</td>\n",
              "      <td>0</td>\n",
              "      <td>0</td>\n",
              "      <td>0</td>\n",
              "      <td>0</td>\n",
              "      <td>0</td>\n",
              "      <td>0</td>\n",
              "      <td>1</td>\n",
              "    </tr>\n",
              "    <tr>\n",
              "      <th>68</th>\n",
              "      <td>15823.0</td>\n",
              "      <td>3009.0</td>\n",
              "      <td>0</td>\n",
              "      <td>0</td>\n",
              "      <td>0</td>\n",
              "      <td>0</td>\n",
              "      <td>0</td>\n",
              "      <td>0</td>\n",
              "      <td>1</td>\n",
              "    </tr>\n",
              "    <tr>\n",
              "      <th>69</th>\n",
              "      <td>13101.0</td>\n",
              "      <td>2709.0</td>\n",
              "      <td>0</td>\n",
              "      <td>0</td>\n",
              "      <td>0</td>\n",
              "      <td>0</td>\n",
              "      <td>0</td>\n",
              "      <td>0</td>\n",
              "      <td>1</td>\n",
              "    </tr>\n",
              "  </tbody>\n",
              "</table>\n",
              "<p>70 rows × 9 columns</p>\n",
              "</div>"
            ],
            "text/plain": [
              "    entries    exits  weekend/weekday  28  34  42  59  72  spring\n",
              "0   44085.0  41696.0                1   0   0   0   0   0       0\n",
              "1   30451.0  28793.0                1   0   0   0   0   0       0\n",
              "2   61283.0  57298.0                0   0   0   0   0   0       0\n",
              "3   70920.0  61807.0                0   0   0   0   0   0       0\n",
              "4   73530.0  60141.0                0   0   0   0   0   0       0\n",
              "..      ...      ...              ...  ..  ..  ..  ..  ..     ...\n",
              "65  14953.0   2566.0                0   0   0   0   0   0       1\n",
              "66  15990.0   3007.0                0   0   0   0   0   0       1\n",
              "67  16342.0   2992.0                0   0   0   0   0   0       1\n",
              "68  15823.0   3009.0                0   0   0   0   0   0       1\n",
              "69  13101.0   2709.0                0   0   0   0   0   0       1\n",
              "\n",
              "[70 rows x 9 columns]"
            ]
          },
          "metadata": {},
          "execution_count": 48
        }
      ]
    },
    {
      "cell_type": "markdown",
      "metadata": {
        "id": "25mpVJiI3ZA-"
      },
      "source": [
        "## **RUNNING THE MODEL**"
      ]
    },
    {
      "cell_type": "code",
      "metadata": {
        "id": "04LJ1fCyAAvQ"
      },
      "source": [
        "X = DATA[[\"entries\",\"exits\",\"34\",\"42\",\"59\",\"28\",\"72\",\"spring\"]]\n",
        "y = DATA[[\"weekend/weekday\"]]\n",
        "from sklearn.model_selection import train_test_split\n",
        "X_train, X_test, y_train, y_test = train_test_split(X, y, test_size = 0.25,random_state = 390)\n"
      ],
      "execution_count": null,
      "outputs": []
    },
    {
      "cell_type": "code",
      "metadata": {
        "id": "oUPGdq1G4GNf"
      },
      "source": [
        "from sklearn.linear_model import LogisticRegression"
      ],
      "execution_count": null,
      "outputs": []
    },
    {
      "cell_type": "code",
      "metadata": {
        "id": "pcn0a79138lx",
        "colab": {
          "base_uri": "https://localhost:8080/"
        },
        "outputId": "e2497b02-172b-40ef-8737-f1235af26178"
      },
      "source": [
        "logmodel = LogisticRegression()\n",
        "logmodel.fit(X_train,y_train)"
      ],
      "execution_count": null,
      "outputs": [
        {
          "output_type": "stream",
          "text": [
            "/usr/local/lib/python3.7/dist-packages/sklearn/utils/validation.py:760: DataConversionWarning: A column-vector y was passed when a 1d array was expected. Please change the shape of y to (n_samples, ), for example using ravel().\n",
            "  y = column_or_1d(y, warn=True)\n"
          ],
          "name": "stderr"
        },
        {
          "output_type": "execute_result",
          "data": {
            "text/plain": [
              "LogisticRegression(C=1.0, class_weight=None, dual=False, fit_intercept=True,\n",
              "                   intercept_scaling=1, l1_ratio=None, max_iter=100,\n",
              "                   multi_class='auto', n_jobs=None, penalty='l2',\n",
              "                   random_state=None, solver='lbfgs', tol=0.0001, verbose=0,\n",
              "                   warm_start=False)"
            ]
          },
          "metadata": {},
          "execution_count": 51
        }
      ]
    },
    {
      "cell_type": "code",
      "metadata": {
        "id": "tNXyNZQB5cDn"
      },
      "source": [
        "prediction = logmodel.predict(X_test)"
      ],
      "execution_count": null,
      "outputs": []
    },
    {
      "cell_type": "code",
      "metadata": {
        "id": "F5CwwfMoDzyH",
        "colab": {
          "base_uri": "https://localhost:8080/",
          "height": 709
        },
        "outputId": "c4faa2d5-7f96-4925-e541-9d1190c783ec"
      },
      "source": [
        "prediction\n",
        "y_test[\"prediction\"] = prediction\n",
        "y_test\n"
      ],
      "execution_count": null,
      "outputs": [
        {
          "output_type": "stream",
          "text": [
            "/usr/local/lib/python3.7/dist-packages/ipykernel_launcher.py:2: SettingWithCopyWarning: \n",
            "A value is trying to be set on a copy of a slice from a DataFrame.\n",
            "Try using .loc[row_indexer,col_indexer] = value instead\n",
            "\n",
            "See the caveats in the documentation: https://pandas.pydata.org/pandas-docs/stable/user_guide/indexing.html#returning-a-view-versus-a-copy\n",
            "  \n"
          ],
          "name": "stderr"
        },
        {
          "output_type": "execute_result",
          "data": {
            "text/html": [
              "<div>\n",
              "<style scoped>\n",
              "    .dataframe tbody tr th:only-of-type {\n",
              "        vertical-align: middle;\n",
              "    }\n",
              "\n",
              "    .dataframe tbody tr th {\n",
              "        vertical-align: top;\n",
              "    }\n",
              "\n",
              "    .dataframe thead th {\n",
              "        text-align: right;\n",
              "    }\n",
              "</style>\n",
              "<table border=\"1\" class=\"dataframe\">\n",
              "  <thead>\n",
              "    <tr style=\"text-align: right;\">\n",
              "      <th></th>\n",
              "      <th>weekend/weekday</th>\n",
              "      <th>prediction</th>\n",
              "    </tr>\n",
              "  </thead>\n",
              "  <tbody>\n",
              "    <tr>\n",
              "      <th>12</th>\n",
              "      <td>0</td>\n",
              "      <td>0</td>\n",
              "    </tr>\n",
              "    <tr>\n",
              "      <th>65</th>\n",
              "      <td>0</td>\n",
              "      <td>0</td>\n",
              "    </tr>\n",
              "    <tr>\n",
              "      <th>26</th>\n",
              "      <td>0</td>\n",
              "      <td>0</td>\n",
              "    </tr>\n",
              "    <tr>\n",
              "      <th>67</th>\n",
              "      <td>0</td>\n",
              "      <td>0</td>\n",
              "    </tr>\n",
              "    <tr>\n",
              "      <th>13</th>\n",
              "      <td>0</td>\n",
              "      <td>0</td>\n",
              "    </tr>\n",
              "    <tr>\n",
              "      <th>59</th>\n",
              "      <td>0</td>\n",
              "      <td>0</td>\n",
              "    </tr>\n",
              "    <tr>\n",
              "      <th>46</th>\n",
              "      <td>0</td>\n",
              "      <td>0</td>\n",
              "    </tr>\n",
              "    <tr>\n",
              "      <th>37</th>\n",
              "      <td>0</td>\n",
              "      <td>0</td>\n",
              "    </tr>\n",
              "    <tr>\n",
              "      <th>38</th>\n",
              "      <td>0</td>\n",
              "      <td>0</td>\n",
              "    </tr>\n",
              "    <tr>\n",
              "      <th>21</th>\n",
              "      <td>1</td>\n",
              "      <td>0</td>\n",
              "    </tr>\n",
              "    <tr>\n",
              "      <th>45</th>\n",
              "      <td>0</td>\n",
              "      <td>0</td>\n",
              "    </tr>\n",
              "    <tr>\n",
              "      <th>31</th>\n",
              "      <td>0</td>\n",
              "      <td>0</td>\n",
              "    </tr>\n",
              "    <tr>\n",
              "      <th>43</th>\n",
              "      <td>1</td>\n",
              "      <td>0</td>\n",
              "    </tr>\n",
              "    <tr>\n",
              "      <th>10</th>\n",
              "      <td>0</td>\n",
              "      <td>0</td>\n",
              "    </tr>\n",
              "    <tr>\n",
              "      <th>63</th>\n",
              "      <td>1</td>\n",
              "      <td>0</td>\n",
              "    </tr>\n",
              "    <tr>\n",
              "      <th>44</th>\n",
              "      <td>0</td>\n",
              "      <td>0</td>\n",
              "    </tr>\n",
              "    <tr>\n",
              "      <th>32</th>\n",
              "      <td>0</td>\n",
              "      <td>0</td>\n",
              "    </tr>\n",
              "    <tr>\n",
              "      <th>39</th>\n",
              "      <td>0</td>\n",
              "      <td>0</td>\n",
              "    </tr>\n",
              "  </tbody>\n",
              "</table>\n",
              "</div>"
            ],
            "text/plain": [
              "    weekend/weekday  prediction\n",
              "12                0           0\n",
              "65                0           0\n",
              "26                0           0\n",
              "67                0           0\n",
              "13                0           0\n",
              "59                0           0\n",
              "46                0           0\n",
              "37                0           0\n",
              "38                0           0\n",
              "21                1           0\n",
              "45                0           0\n",
              "31                0           0\n",
              "43                1           0\n",
              "10                0           0\n",
              "63                1           0\n",
              "44                0           0\n",
              "32                0           0\n",
              "39                0           0"
            ]
          },
          "metadata": {},
          "execution_count": 53
        }
      ]
    },
    {
      "cell_type": "code",
      "metadata": {
        "id": "0c7Z3mXveHqX",
        "colab": {
          "base_uri": "https://localhost:8080/",
          "height": 279
        },
        "outputId": "271cb0d7-4e6a-47e8-bb50-c8ea8afd70eb"
      },
      "source": [
        "sns.countplot(x = \"weekend/weekday\" ,data = y_test, palette = \"Pastel2\", order= [1,0]);"
      ],
      "execution_count": null,
      "outputs": [
        {
          "output_type": "display_data",
          "data": {
            "image/png": "[encoded data removed]",
            "text/plain": [
              "<Figure size 432x288 with 1 Axes>"
            ]
          },
          "metadata": {
            "needs_background": "light"
          }
        }
      ]
    },
    {
      "cell_type": "code",
      "metadata": {
        "id": "kpqFPhG0ogxV",
        "colab": {
          "base_uri": "https://localhost:8080/",
          "height": 279
        },
        "outputId": "6992ca4d-0a53-421a-e714-143a51e8247f"
      },
      "source": [
        "sns.countplot(x = \"prediction\" ,data = y_test, palette = \"Pastel2\", order= [1,0]);"
      ],
      "execution_count": null,
      "outputs": [
        {
          "output_type": "display_data",
          "data": {
            "image/png": "[encoded data removed]",
            "text/plain": [
              "<Figure size 432x288 with 1 Axes>"
            ]
          },
          "metadata": {
            "needs_background": "light"
          }
        }
      ]
    },
    {
      "cell_type": "code",
      "metadata": {
        "id": "3v2ogmNEqDxS"
      },
      "source": [
        "def func1(x):\n",
        "  if x[0]-x[1] != 0:\n",
        "    return \"MISTAKE\"\n",
        "  else:\n",
        "    return \"SUCCESS\""
      ],
      "execution_count": null,
      "outputs": []
    },
    {
      "cell_type": "code",
      "metadata": {
        "id": "WbWSPaxgoxpq",
        "colab": {
          "base_uri": "https://localhost:8080/"
        },
        "outputId": "0114ad30-81ad-4449-e20b-433111e121b4"
      },
      "source": [
        "y_test[\"mistakes vs success\"] = y_test[[\"weekend/weekday\",\"prediction\"]].apply(func1, axis=1)"
      ],
      "execution_count": null,
      "outputs": [
        {
          "output_type": "stream",
          "text": [
            "/usr/local/lib/python3.7/dist-packages/ipykernel_launcher.py:1: SettingWithCopyWarning: \n",
            "A value is trying to be set on a copy of a slice from a DataFrame.\n",
            "Try using .loc[row_indexer,col_indexer] = value instead\n",
            "\n",
            "See the caveats in the documentation: https://pandas.pydata.org/pandas-docs/stable/user_guide/indexing.html#returning-a-view-versus-a-copy\n",
            "  \"\"\"Entry point for launching an IPython kernel.\n"
          ],
          "name": "stderr"
        }
      ]
    },
    {
      "cell_type": "code",
      "metadata": {
        "id": "soUA2hBoqnFT",
        "colab": {
          "base_uri": "https://localhost:8080/",
          "height": 607
        },
        "outputId": "a0f72aa5-4e72-4c35-bf7a-e07f511f4725"
      },
      "source": [
        "y_test"
      ],
      "execution_count": null,
      "outputs": [
        {
          "output_type": "execute_result",
          "data": {
            "text/html": [
              "<div>\n",
              "<style scoped>\n",
              "    .dataframe tbody tr th:only-of-type {\n",
              "        vertical-align: middle;\n",
              "    }\n",
              "\n",
              "    .dataframe tbody tr th {\n",
              "        vertical-align: top;\n",
              "    }\n",
              "\n",
              "    .dataframe thead th {\n",
              "        text-align: right;\n",
              "    }\n",
              "</style>\n",
              "<table border=\"1\" class=\"dataframe\">\n",
              "  <thead>\n",
              "    <tr style=\"text-align: right;\">\n",
              "      <th></th>\n",
              "      <th>weekend/weekday</th>\n",
              "      <th>prediction</th>\n",
              "      <th>mistakes vs success</th>\n",
              "    </tr>\n",
              "  </thead>\n",
              "  <tbody>\n",
              "    <tr>\n",
              "      <th>12</th>\n",
              "      <td>0</td>\n",
              "      <td>0</td>\n",
              "      <td>SUCCESS</td>\n",
              "    </tr>\n",
              "    <tr>\n",
              "      <th>65</th>\n",
              "      <td>0</td>\n",
              "      <td>0</td>\n",
              "      <td>SUCCESS</td>\n",
              "    </tr>\n",
              "    <tr>\n",
              "      <th>26</th>\n",
              "      <td>0</td>\n",
              "      <td>0</td>\n",
              "      <td>SUCCESS</td>\n",
              "    </tr>\n",
              "    <tr>\n",
              "      <th>67</th>\n",
              "      <td>0</td>\n",
              "      <td>0</td>\n",
              "      <td>SUCCESS</td>\n",
              "    </tr>\n",
              "    <tr>\n",
              "      <th>13</th>\n",
              "      <td>0</td>\n",
              "      <td>0</td>\n",
              "      <td>SUCCESS</td>\n",
              "    </tr>\n",
              "    <tr>\n",
              "      <th>59</th>\n",
              "      <td>0</td>\n",
              "      <td>0</td>\n",
              "      <td>SUCCESS</td>\n",
              "    </tr>\n",
              "    <tr>\n",
              "      <th>46</th>\n",
              "      <td>0</td>\n",
              "      <td>0</td>\n",
              "      <td>SUCCESS</td>\n",
              "    </tr>\n",
              "    <tr>\n",
              "      <th>37</th>\n",
              "      <td>0</td>\n",
              "      <td>0</td>\n",
              "      <td>SUCCESS</td>\n",
              "    </tr>\n",
              "    <tr>\n",
              "      <th>38</th>\n",
              "      <td>0</td>\n",
              "      <td>0</td>\n",
              "      <td>SUCCESS</td>\n",
              "    </tr>\n",
              "    <tr>\n",
              "      <th>21</th>\n",
              "      <td>1</td>\n",
              "      <td>0</td>\n",
              "      <td>MISTAKE</td>\n",
              "    </tr>\n",
              "    <tr>\n",
              "      <th>45</th>\n",
              "      <td>0</td>\n",
              "      <td>0</td>\n",
              "      <td>SUCCESS</td>\n",
              "    </tr>\n",
              "    <tr>\n",
              "      <th>31</th>\n",
              "      <td>0</td>\n",
              "      <td>0</td>\n",
              "      <td>SUCCESS</td>\n",
              "    </tr>\n",
              "    <tr>\n",
              "      <th>43</th>\n",
              "      <td>1</td>\n",
              "      <td>0</td>\n",
              "      <td>MISTAKE</td>\n",
              "    </tr>\n",
              "    <tr>\n",
              "      <th>10</th>\n",
              "      <td>0</td>\n",
              "      <td>0</td>\n",
              "      <td>SUCCESS</td>\n",
              "    </tr>\n",
              "    <tr>\n",
              "      <th>63</th>\n",
              "      <td>1</td>\n",
              "      <td>0</td>\n",
              "      <td>MISTAKE</td>\n",
              "    </tr>\n",
              "    <tr>\n",
              "      <th>44</th>\n",
              "      <td>0</td>\n",
              "      <td>0</td>\n",
              "      <td>SUCCESS</td>\n",
              "    </tr>\n",
              "    <tr>\n",
              "      <th>32</th>\n",
              "      <td>0</td>\n",
              "      <td>0</td>\n",
              "      <td>SUCCESS</td>\n",
              "    </tr>\n",
              "    <tr>\n",
              "      <th>39</th>\n",
              "      <td>0</td>\n",
              "      <td>0</td>\n",
              "      <td>SUCCESS</td>\n",
              "    </tr>\n",
              "  </tbody>\n",
              "</table>\n",
              "</div>"
            ],
            "text/plain": [
              "    weekend/weekday  prediction mistakes vs success\n",
              "12                0           0             SUCCESS\n",
              "65                0           0             SUCCESS\n",
              "26                0           0             SUCCESS\n",
              "67                0           0             SUCCESS\n",
              "13                0           0             SUCCESS\n",
              "59                0           0             SUCCESS\n",
              "46                0           0             SUCCESS\n",
              "37                0           0             SUCCESS\n",
              "38                0           0             SUCCESS\n",
              "21                1           0             MISTAKE\n",
              "45                0           0             SUCCESS\n",
              "31                0           0             SUCCESS\n",
              "43                1           0             MISTAKE\n",
              "10                0           0             SUCCESS\n",
              "63                1           0             MISTAKE\n",
              "44                0           0             SUCCESS\n",
              "32                0           0             SUCCESS\n",
              "39                0           0             SUCCESS"
            ]
          },
          "metadata": {},
          "execution_count": 58
        }
      ]
    },
    {
      "cell_type": "code",
      "metadata": {
        "id": "XpvwtZsVp0m9",
        "colab": {
          "base_uri": "https://localhost:8080/",
          "height": 279
        },
        "outputId": "863f0281-e961-4c1f-f9af-a10c794b8716"
      },
      "source": [
        "sns.countplot(x = \"mistakes vs success\" ,data = y_test, palette = \"Pastel2\");"
      ],
      "execution_count": null,
      "outputs": [
        {
          "output_type": "display_data",
          "data": {
            "image/png": "[encoded data removed]",
            "text/plain": [
              "<Figure size 432x288 with 1 Axes>"
            ]
          },
          "metadata": {
            "needs_background": "light"
          }
        }
      ]
    },
    {
      "cell_type": "code",
      "metadata": {
        "id": "eo8L0yfC6By2"
      },
      "source": [
        "from sklearn.metrics import classification_report,confusion_matrix"
      ],
      "execution_count": null,
      "outputs": []
    },
    {
      "cell_type": "code",
      "metadata": {
        "id": "HwghrmUMDnCo"
      },
      "source": [
        "Y_test = y_test[\"weekend/weekday\"]"
      ],
      "execution_count": null,
      "outputs": []
    },
    {
      "cell_type": "code",
      "metadata": {
        "id": "vDN1AkInDWZn",
        "colab": {
          "base_uri": "https://localhost:8080/"
        },
        "outputId": "29fdd0db-1e9c-463e-fcb2-2ce34168c058"
      },
      "source": [
        "print(classification_report(Y_test,prediction));"
      ],
      "execution_count": null,
      "outputs": [
        {
          "output_type": "stream",
          "text": [
            "              precision    recall  f1-score   support\n",
            "\n",
            "           0       0.83      1.00      0.91        15\n",
            "           1       0.00      0.00      0.00         3\n",
            "\n",
            "    accuracy                           0.83        18\n",
            "   macro avg       0.42      0.50      0.45        18\n",
            "weighted avg       0.69      0.83      0.76        18\n",
            "\n"
          ],
          "name": "stdout"
        },
        {
          "output_type": "stream",
          "text": [
            "/usr/local/lib/python3.7/dist-packages/sklearn/metrics/_classification.py:1272: UndefinedMetricWarning: Precision and F-score are ill-defined and being set to 0.0 in labels with no predicted samples. Use `zero_division` parameter to control this behavior.\n",
            "  _warn_prf(average, modifier, msg_start, len(result))\n"
          ],
          "name": "stderr"
        }
      ]
    },
    {
      "cell_type": "code",
      "metadata": {
        "id": "9J3hnCijDkVd",
        "colab": {
          "base_uri": "https://localhost:8080/",
          "height": 265
        },
        "outputId": "e001dd72-20ab-4ca2-b507-70334afbb3de"
      },
      "source": [
        "cm = confusion_matrix(Y_test, prediction)\n",
        "f = sns.heatmap(cm, annot=True, cbar= False)\n"
      ],
      "execution_count": null,
      "outputs": [
        {
          "output_type": "display_data",
          "data": {
            "image/png": "[encoded data removed]",
            "text/plain": [
              "<Figure size 432x288 with 1 Axes>"
            ]
          },
          "metadata": {
            "needs_background": "light"
          }
        }
      ]
    },
    {
      "cell_type": "code",
      "metadata": {
        "id": "qG3s79PPED4R",
        "colab": {
          "base_uri": "https://localhost:8080/"
        },
        "outputId": "de27c78a-182c-474e-9588-03b7fcdd523c"
      },
      "source": [
        "print(f\"We can see that in 15 cases we predicted that it is a weekday (0) when it was actually a weekday (0)\")"
      ],
      "execution_count": null,
      "outputs": [
        {
          "output_type": "stream",
          "text": [
            "We can see that in 15 cases we predicted that it is a weekday (0) when it was actually a weekday (0)\n"
          ],
          "name": "stdout"
        }
      ]
    },
    {
      "cell_type": "code",
      "metadata": {
        "id": "vGJRjdJBF0N5",
        "colab": {
          "base_uri": "https://localhost:8080/"
        },
        "outputId": "83b00a0b-1199-4fc5-c23e-11eb39415f4e"
      },
      "source": [
        "print(f\"We can see that in 3 cases we predicted that it is a weekday (0) when it was actually a weekend (1) - ERROR\")"
      ],
      "execution_count": null,
      "outputs": [
        {
          "output_type": "stream",
          "text": [
            "We can see that in 3 cases we predicted that it is a weekday (0) when it was actually a weekend (1) - ERROR\n"
          ],
          "name": "stdout"
        }
      ]
    }
  ]
}