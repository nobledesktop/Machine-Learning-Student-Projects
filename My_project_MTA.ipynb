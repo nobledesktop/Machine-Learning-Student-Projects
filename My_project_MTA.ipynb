{
  "nbformat": 4,
  "nbformat_minor": 0,
  "metadata": {
    "colab": {
      "name": "My_project_MTA.ipynb",
      "provenance": [],
      "collapsed_sections": [
        "lIV8Oq_zmEH9",
        "wyc4vDKtosdZ",
        "YKhcEP_RrgbK",
        "5DqbEJI8r6fR",
        "93gURaM-v2F6",
        "V1PG2GjWwRMy",
        "cgDktbChw1Cg",
        "i7uSg4H3xWLN",
        "gKvhQjWn5Lvu",
        "cbsnuWPL5inr",
        "gmh-2sb07O4G",
        "EEvh6PAI7Sm2",
        "jyUgv5LJ7S8M",
        "IlFAOJTg8D0J",
        "WerD5OvE8YqE",
        "bJrYIt4x8Y6r",
        "Sy5At8SB9rgn",
        "YHgMBUP29rsR",
        "eF-3_O0X-ljy",
        "cmuXkaaB_LOL",
        "wHAShpTr_LyW"
      ],
      "mount_file_id": "1bdVMpRxqUjQdDDRCW_KmcxTSe9Z7xqeh",
      "authorship_tag": "ABX9TyODarrau0jKeA8DjsiFH0JQ",
      "include_colab_link": true
    },
    "kernelspec": {
      "name": "python3",
      "display_name": "Python 3"
    },
    "language_info": {
      "name": "python"
    }
  },
  "cells": [
    {
      "cell_type": "markdown",
      "metadata": {
        "id": "view-in-github",
        "colab_type": "text"
      },
      "source": [
        "<a href=\"https://colab.research.google.com/github/Kos232/ML_final_project/blob/main/My_project_MTA.ipynb\" target=\"_parent\"><img src=\"https://colab.research.google.com/assets/colab-badge.svg\" alt=\"Open In Colab\"/></a>"
      ]
    },
    {
      "cell_type": "code",
      "metadata": {
        "id": "ZqWQBmlhEqMm"
      },
      "source": [
        "import pandas as pd\n",
        "import numpy as np\n",
        "import matplotlib.pyplot as plt\n",
        "import seaborn as sns\n",
        "%matplotlib inline"
      ],
      "execution_count": 1,
      "outputs": []
    },
    {
      "cell_type": "code",
      "metadata": {
        "id": "UitL-ieFE3Cf"
      },
      "source": [
        "data=pd.read_csv('/content/drive/MyDrive/Data/MTAData.csv')"
      ],
      "execution_count": 2,
      "outputs": []
    },
    {
      "cell_type": "code",
      "metadata": {
        "colab": {
          "base_uri": "https://localhost:8080/",
          "height": 202
        },
        "id": "dhSEeD3lF8KS",
        "outputId": "69b76ecc-8a5c-43e8-fbd9-830a20a5a5a5"
      },
      "source": [
        "data.head()\n"
      ],
      "execution_count": 3,
      "outputs": [
        {
          "output_type": "execute_result",
          "data": {
            "text/html": [
              "<div>\n",
              "<style scoped>\n",
              "    .dataframe tbody tr th:only-of-type {\n",
              "        vertical-align: middle;\n",
              "    }\n",
              "\n",
              "    .dataframe tbody tr th {\n",
              "        vertical-align: top;\n",
              "    }\n",
              "\n",
              "    .dataframe thead th {\n",
              "        text-align: right;\n",
              "    }\n",
              "</style>\n",
              "<table border=\"1\" class=\"dataframe\">\n",
              "  <thead>\n",
              "    <tr style=\"text-align: right;\">\n",
              "      <th></th>\n",
              "      <th>Unnamed: 0</th>\n",
              "      <th>C/A</th>\n",
              "      <th>UNIT</th>\n",
              "      <th>SCP</th>\n",
              "      <th>STATION</th>\n",
              "      <th>LINENAME</th>\n",
              "      <th>DIVISION</th>\n",
              "      <th>DATE</th>\n",
              "      <th>TIME</th>\n",
              "      <th>DESC</th>\n",
              "      <th>ENTRIES</th>\n",
              "      <th>EXITS</th>\n",
              "    </tr>\n",
              "  </thead>\n",
              "  <tbody>\n",
              "    <tr>\n",
              "      <th>0</th>\n",
              "      <td>0</td>\n",
              "      <td>A002</td>\n",
              "      <td>R051</td>\n",
              "      <td>02-00-00</td>\n",
              "      <td>59 ST</td>\n",
              "      <td>NQR456W</td>\n",
              "      <td>BMT</td>\n",
              "      <td>06/08/2019</td>\n",
              "      <td>00:00:00</td>\n",
              "      <td>REGULAR</td>\n",
              "      <td>7089463.0</td>\n",
              "      <td>2401758.0</td>\n",
              "    </tr>\n",
              "    <tr>\n",
              "      <th>1</th>\n",
              "      <td>1</td>\n",
              "      <td>A002</td>\n",
              "      <td>R051</td>\n",
              "      <td>02-00-00</td>\n",
              "      <td>59 ST</td>\n",
              "      <td>NQR456W</td>\n",
              "      <td>BMT</td>\n",
              "      <td>06/08/2019</td>\n",
              "      <td>04:00:00</td>\n",
              "      <td>REGULAR</td>\n",
              "      <td>7089491.0</td>\n",
              "      <td>2401764.0</td>\n",
              "    </tr>\n",
              "    <tr>\n",
              "      <th>2</th>\n",
              "      <td>2</td>\n",
              "      <td>A002</td>\n",
              "      <td>R051</td>\n",
              "      <td>02-00-00</td>\n",
              "      <td>59 ST</td>\n",
              "      <td>NQR456W</td>\n",
              "      <td>BMT</td>\n",
              "      <td>06/08/2019</td>\n",
              "      <td>08:00:00</td>\n",
              "      <td>REGULAR</td>\n",
              "      <td>7089511.0</td>\n",
              "      <td>2401807.0</td>\n",
              "    </tr>\n",
              "    <tr>\n",
              "      <th>3</th>\n",
              "      <td>3</td>\n",
              "      <td>A002</td>\n",
              "      <td>R051</td>\n",
              "      <td>02-00-00</td>\n",
              "      <td>59 ST</td>\n",
              "      <td>NQR456W</td>\n",
              "      <td>BMT</td>\n",
              "      <td>06/08/2019</td>\n",
              "      <td>12:00:00</td>\n",
              "      <td>REGULAR</td>\n",
              "      <td>7089598.0</td>\n",
              "      <td>2401889.0</td>\n",
              "    </tr>\n",
              "    <tr>\n",
              "      <th>4</th>\n",
              "      <td>4</td>\n",
              "      <td>A002</td>\n",
              "      <td>R051</td>\n",
              "      <td>02-00-00</td>\n",
              "      <td>59 ST</td>\n",
              "      <td>NQR456W</td>\n",
              "      <td>BMT</td>\n",
              "      <td>06/08/2019</td>\n",
              "      <td>16:00:00</td>\n",
              "      <td>REGULAR</td>\n",
              "      <td>7089801.0</td>\n",
              "      <td>2401946.0</td>\n",
              "    </tr>\n",
              "  </tbody>\n",
              "</table>\n",
              "</div>"
            ],
            "text/plain": [
              "   Unnamed: 0  ... EXITS                                                               \n",
              "0           0  ...                                          2401758.0                  \n",
              "1           1  ...                                          2401764.0                  \n",
              "2           2  ...                                          2401807.0                  \n",
              "3           3  ...                                          2401889.0                  \n",
              "4           4  ...                                          2401946.0                  \n",
              "\n",
              "[5 rows x 12 columns]"
            ]
          },
          "metadata": {},
          "execution_count": 3
        }
      ]
    },
    {
      "cell_type": "code",
      "metadata": {
        "id": "M9JIYKIHSRWr"
      },
      "source": [
        "data['DATE']=data.DATE.apply(pd.to_datetime)"
      ],
      "execution_count": 4,
      "outputs": []
    },
    {
      "cell_type": "code",
      "metadata": {
        "colab": {
          "base_uri": "https://localhost:8080/"
        },
        "id": "m6W1G9sgGBVn",
        "outputId": "d3cdb234-58dc-467e-c0d1-ef93a8a3d809"
      },
      "source": [
        "data.info()"
      ],
      "execution_count": 5,
      "outputs": [
        {
          "output_type": "stream",
          "text": [
            "<class 'pandas.core.frame.DataFrame'>\n",
            "RangeIndex: 112749 entries, 0 to 112748\n",
            "Data columns (total 12 columns):\n",
            " #   Column                                                                Non-Null Count   Dtype         \n",
            "---  ------                                                                --------------   -----         \n",
            " 0   Unnamed: 0                                                            112749 non-null  int64         \n",
            " 1   C/A                                                                   112749 non-null  object        \n",
            " 2   UNIT                                                                  112749 non-null  object        \n",
            " 3   SCP                                                                   112749 non-null  object        \n",
            " 4   STATION                                                               112749 non-null  object        \n",
            " 5   LINENAME                                                              112749 non-null  object        \n",
            " 6   DIVISION                                                              112749 non-null  object        \n",
            " 7   DATE                                                                  112749 non-null  datetime64[ns]\n",
            " 8   TIME                                                                  112749 non-null  object        \n",
            " 9   DESC                                                                  112748 non-null  object        \n",
            " 10  ENTRIES                                                               112748 non-null  float64       \n",
            " 11  EXITS                                                                 112748 non-null  float64       \n",
            "dtypes: datetime64[ns](1), float64(2), int64(1), object(8)\n",
            "memory usage: 10.3+ MB\n"
          ],
          "name": "stdout"
        }
      ]
    },
    {
      "cell_type": "code",
      "metadata": {
        "colab": {
          "base_uri": "https://localhost:8080/"
        },
        "id": "mnNFLJiLSSNV",
        "outputId": "64725d1b-0583-4356-eb94-1944d3cd37ef"
      },
      "source": [
        "data.STATION.unique()"
      ],
      "execution_count": 6,
      "outputs": [
        {
          "output_type": "execute_result",
          "data": {
            "text/plain": [
              "array(['59 ST', '5 AV/59 ST', '57 ST-7 AV', '49 ST', 'TIMES SQ-42 ST',\n",
              "       '34 ST-HERALD SQ', '28 ST', '23 ST', '14 ST-UNION SQ', '8 ST-NYU',\n",
              "       'PRINCE ST', 'CANAL ST', 'CITY HALL', 'CORTLANDT ST', 'RECTOR ST',\n",
              "       'WHITEHALL S-FRY', 'DELANCEY/ESSEX', 'BOWERY', 'CHAMBERS ST',\n",
              "       'FULTON ST', 'BROAD ST', '7 AV', 'PARK PLACE', 'BOTANIC GARDEN',\n",
              "       'PROSPECT PARK', 'PARKSIDE AV', 'CHURCH AV', 'BEVERLEY ROAD',\n",
              "       'CORTELYOU RD', 'NEWKIRK PLAZA', 'AVENUE H', 'AVENUE J',\n",
              "       'AVENUE M', 'KINGS HWY', 'AVENUE U', 'NECK RD', 'SHEEPSHEAD BAY',\n",
              "       'BRIGHTON BEACH', 'OCEAN PKWY', 'BOROUGH HALL', 'JAY ST-METROTEC',\n",
              "       'DEKALB AV', 'ATL AV-BARCLAY', 'UNION ST', '4AV-9 ST',\n",
              "       'PROSPECT AV', '25 ST', '36 ST', '45 ST', '53 ST', 'BAY RIDGE AV',\n",
              "       '77 ST', '86 ST', 'BAY RIDGE-95 ST', '8 AV', 'FT HAMILTON PKY',\n",
              "       'NEW UTRECHT AV', '18 AV', '20 AV', 'BAY PKWY', '9 AV', '50 ST',\n",
              "       '55 ST', '71 ST', '79 ST', '25 AV', 'BAY 50 ST', 'CONEY IS-STILLW',\n",
              "       'W 8 ST-AQUARIUM', '6 AV', '3 AV', '1 AV', 'BEDFORD AV',\n",
              "       'LORIMER ST', 'GRAHAM AV', 'GRAND ST', 'MONTROSE AV', 'MORGAN AV',\n",
              "       'JEFFERSON ST', 'MYRTLE-WYCKOFF', 'HALSEY ST', 'WILSON AV',\n",
              "       'BUSHWICK AV', 'ATLANTIC AV', 'SUTTER AV', 'LIVONIA AV',\n",
              "       'NEW LOTS', 'EAST 105 ST', 'CANARSIE-ROCKAW', 'HOWARD BCH JFK',\n",
              "       'JFK JAMAICA CT1', 'MARCY AV', 'HEWES ST', 'FLUSHING AV',\n",
              "       'MYRTLE AV', 'KOSCIUSZKO ST', 'GATES AV', 'CHAUNCEY ST',\n",
              "       'ALABAMA AV', 'VAN SICLEN AV', 'CLEVELAND ST', 'NORWOOD AV',\n",
              "       'CRESCENT ST', 'CYPRESS HILLS', '75 ST-ELDERTS', '85 ST-FOREST PK',\n",
              "       'WOODHAVEN BLVD', '104 ST', '111 ST', '121 ST', 'CENTRAL AV',\n",
              "       'KNICKERBOCKER', 'SENECA AVE', 'FOREST AVE', 'FRESH POND RD',\n",
              "       'METROPOLITAN AV', 'INWOOD-207 ST', 'DYCKMAN ST', '190 ST',\n",
              "       '181 ST', '175 ST', '168 ST', '163 ST-AMSTERDM', '155 ST',\n",
              "       '145 ST', '135 ST', '125 ST', '116 ST', 'CATHEDRAL PKWY', '103 ST',\n",
              "       '96 ST', '81 ST-MUSEUM', '72 ST', '59 ST COLUMBUS',\n",
              "       '42 ST-PORT AUTH', '34 ST-PENN STA', '14 ST', 'W 4 ST-WASH SQ',\n",
              "       'SPRING ST', 'WORLD TRADE CTR', 'HIGH ST', 'HOYT-SCHER',\n",
              "       'LAFAYETTE AV', 'CLINTON-WASH AV', 'FRANKLIN AV', 'NOSTRAND AV',\n",
              "       'KINGSTON-THROOP', 'UTICA AV', 'RALPH AV', 'ROCKAWAY AV',\n",
              "       'BROADWAY JCT', 'LIBERTY AV', 'VAN SICLEN AVE', 'SHEPHERD AV',\n",
              "       'EUCLID AV', 'GRANT AV', '80 ST', '88 ST', 'ROCKAWAY BLVD',\n",
              "       'OZONE PK LEFFRT', 'AQUEDUCT N.COND', 'AQUEDUCT RACETR',\n",
              "       'BROAD CHANNEL', 'BEACH 90 ST', 'BEACH 98 ST', 'BEACH 105 ST',\n",
              "       'ROCKAWAY PARK B', 'BEACH 67 ST', 'BEACH 60 ST', 'BEACH 44 ST',\n",
              "       'BEACH 36 ST', 'BEACH 25 ST', 'FAR ROCKAWAY', '161/YANKEE STAD',\n",
              "       '167 ST', '170 ST', '174-175 STS', 'TREMONT AV', '182-183 STS',\n",
              "       'FORDHAM RD', 'KINGSBRIDGE RD', 'BEDFORD PK BLVD',\n",
              "       'NORWOOD 205 ST', '5 AV/53 ST', 'LEXINGTON AV/53',\n",
              "       'COURT SQ-23 ST', 'QUEENS PLAZA', 'STEINWAY ST', '46 ST',\n",
              "       'NORTHERN BLVD', '65 ST', 'JKSN HT-ROOSVLT', 'ELMHURST AV',\n",
              "       'GRAND-NEWTOWN', '63 DR-REGO PARK', '67 AV', 'FOREST HILLS 71',\n",
              "       '75 AV', 'KEW GARDENS', 'BRIARWOOD', 'SUTPHIN BLVD',\n",
              "       'PARSONS BLVD', '169 ST', 'JAMAICA 179 ST', 'COURT SQ', '21 ST',\n",
              "       'GREENPOINT AV', 'NASSAU AV', 'BROADWAY', 'MYRTLE-WILLOUGH',\n",
              "       'BEDFORD-NOSTRAN', 'CLASSON AV', '47-50 STS ROCK',\n",
              "       '42 ST-BRYANT PK', \"B'WAY-LAFAYETTE\", '2 AV', 'EAST BROADWAY',\n",
              "       'YORK ST', 'BERGEN ST', 'CARROLL ST', 'SMITH-9 ST', '4 AV-9 ST',\n",
              "       '15 ST-PROSPECT', 'DITMAS AV', 'AVENUE I', 'AVENUE N', 'AVENUE P',\n",
              "       'AVENUE X', 'NEPTUNE AV', '57 ST', 'LEXINGTON AV/63',\n",
              "       'ROOSEVELT ISLND', '21 ST-QNSBRIDGE', 'JAMAICA VAN WK',\n",
              "       'SUTPHIN-ARCHER', 'JAMAICA CENTER', '72 ST-2 AVE', '86 ST-2 AVE'],\n",
              "      dtype=object)"
            ]
          },
          "metadata": {},
          "execution_count": 6
        }
      ]
    },
    {
      "cell_type": "markdown",
      "metadata": {
        "id": "mSa9S4M6rENi"
      },
      "source": [
        "#\n",
        "Cleaning DATA"
      ]
    },
    {
      "cell_type": "code",
      "metadata": {
        "id": "-ByCe1Ergn7r"
      },
      "source": [
        "data.drop(['Unnamed: 0', 'C/A','UNIT','DIVISION','DESC'], axis=1,inplace=True)"
      ],
      "execution_count": 7,
      "outputs": []
    },
    {
      "cell_type": "code",
      "metadata": {
        "jupyter": {
          "outputs_hidden": false
        },
        "id": "VYUiZ8jjeG0A"
      },
      "source": [
        "UNION_ST = data[(data[['STATION']] == 'UNION ST').all(axis=1)].copy()\n"
      ],
      "execution_count": 8,
      "outputs": []
    },
    {
      "cell_type": "code",
      "metadata": {
        "colab": {
          "base_uri": "https://localhost:8080/",
          "height": 202
        },
        "id": "T1F9lGr7Taqu",
        "outputId": "cbc65ec3-640f-4bea-fc38-489f8c92a5d9"
      },
      "source": [
        "UNION_ST.head()"
      ],
      "execution_count": 9,
      "outputs": [
        {
          "output_type": "execute_result",
          "data": {
            "text/html": [
              "<div>\n",
              "<style scoped>\n",
              "    .dataframe tbody tr th:only-of-type {\n",
              "        vertical-align: middle;\n",
              "    }\n",
              "\n",
              "    .dataframe tbody tr th {\n",
              "        vertical-align: top;\n",
              "    }\n",
              "\n",
              "    .dataframe thead th {\n",
              "        text-align: right;\n",
              "    }\n",
              "</style>\n",
              "<table border=\"1\" class=\"dataframe\">\n",
              "  <thead>\n",
              "    <tr style=\"text-align: right;\">\n",
              "      <th></th>\n",
              "      <th>SCP</th>\n",
              "      <th>STATION</th>\n",
              "      <th>LINENAME</th>\n",
              "      <th>DATE</th>\n",
              "      <th>TIME</th>\n",
              "      <th>ENTRIES</th>\n",
              "      <th>EXITS</th>\n",
              "    </tr>\n",
              "  </thead>\n",
              "  <tbody>\n",
              "    <tr>\n",
              "      <th>20793</th>\n",
              "      <td>00-00-00</td>\n",
              "      <td>UNION ST</td>\n",
              "      <td>R</td>\n",
              "      <td>2019-06-08</td>\n",
              "      <td>00:00:00</td>\n",
              "      <td>6073803.0</td>\n",
              "      <td>2077835.0</td>\n",
              "    </tr>\n",
              "    <tr>\n",
              "      <th>20794</th>\n",
              "      <td>00-00-00</td>\n",
              "      <td>UNION ST</td>\n",
              "      <td>R</td>\n",
              "      <td>2019-06-08</td>\n",
              "      <td>04:00:00</td>\n",
              "      <td>6073857.0</td>\n",
              "      <td>2077844.0</td>\n",
              "    </tr>\n",
              "    <tr>\n",
              "      <th>20795</th>\n",
              "      <td>00-00-00</td>\n",
              "      <td>UNION ST</td>\n",
              "      <td>R</td>\n",
              "      <td>2019-06-08</td>\n",
              "      <td>08:00:00</td>\n",
              "      <td>6073910.0</td>\n",
              "      <td>2077898.0</td>\n",
              "    </tr>\n",
              "    <tr>\n",
              "      <th>20796</th>\n",
              "      <td>00-00-00</td>\n",
              "      <td>UNION ST</td>\n",
              "      <td>R</td>\n",
              "      <td>2019-06-08</td>\n",
              "      <td>12:00:00</td>\n",
              "      <td>6074188.0</td>\n",
              "      <td>2078042.0</td>\n",
              "    </tr>\n",
              "    <tr>\n",
              "      <th>20797</th>\n",
              "      <td>00-00-00</td>\n",
              "      <td>UNION ST</td>\n",
              "      <td>R</td>\n",
              "      <td>2019-06-08</td>\n",
              "      <td>16:00:00</td>\n",
              "      <td>6074581.0</td>\n",
              "      <td>2078187.0</td>\n",
              "    </tr>\n",
              "  </tbody>\n",
              "</table>\n",
              "</div>"
            ],
            "text/plain": [
              "            SCP  ... EXITS                                                               \n",
              "20793  00-00-00  ...                                          2077835.0                  \n",
              "20794  00-00-00  ...                                          2077844.0                  \n",
              "20795  00-00-00  ...                                          2077898.0                  \n",
              "20796  00-00-00  ...                                          2078042.0                  \n",
              "20797  00-00-00  ...                                          2078187.0                  \n",
              "\n",
              "[5 rows x 7 columns]"
            ]
          },
          "metadata": {},
          "execution_count": 9
        }
      ]
    },
    {
      "cell_type": "code",
      "metadata": {
        "id": "cHhja79MfGT1"
      },
      "source": [
        "GRAHAM_AV = data[(data[['STATION']] == 'GRAHAM AV').all(axis=1)].copy()"
      ],
      "execution_count": 10,
      "outputs": []
    },
    {
      "cell_type": "code",
      "metadata": {
        "colab": {
          "base_uri": "https://localhost:8080/",
          "height": 202
        },
        "id": "MFUS4JSBgb-Z",
        "outputId": "73bcf578-6381-49a4-ba8d-a8e4332fd8bc"
      },
      "source": [
        "GRAHAM_AV.head()"
      ],
      "execution_count": 11,
      "outputs": [
        {
          "output_type": "execute_result",
          "data": {
            "text/html": [
              "<div>\n",
              "<style scoped>\n",
              "    .dataframe tbody tr th:only-of-type {\n",
              "        vertical-align: middle;\n",
              "    }\n",
              "\n",
              "    .dataframe tbody tr th {\n",
              "        vertical-align: top;\n",
              "    }\n",
              "\n",
              "    .dataframe thead th {\n",
              "        text-align: right;\n",
              "    }\n",
              "</style>\n",
              "<table border=\"1\" class=\"dataframe\">\n",
              "  <thead>\n",
              "    <tr style=\"text-align: right;\">\n",
              "      <th></th>\n",
              "      <th>SCP</th>\n",
              "      <th>STATION</th>\n",
              "      <th>LINENAME</th>\n",
              "      <th>DATE</th>\n",
              "      <th>TIME</th>\n",
              "      <th>ENTRIES</th>\n",
              "      <th>EXITS</th>\n",
              "    </tr>\n",
              "  </thead>\n",
              "  <tbody>\n",
              "    <tr>\n",
              "      <th>31911</th>\n",
              "      <td>01-00-00</td>\n",
              "      <td>GRAHAM AV</td>\n",
              "      <td>L</td>\n",
              "      <td>2019-06-08</td>\n",
              "      <td>00:00:00</td>\n",
              "      <td>6865125.0</td>\n",
              "      <td>1165281.0</td>\n",
              "    </tr>\n",
              "    <tr>\n",
              "      <th>31912</th>\n",
              "      <td>01-00-00</td>\n",
              "      <td>GRAHAM AV</td>\n",
              "      <td>L</td>\n",
              "      <td>2019-06-08</td>\n",
              "      <td>04:00:00</td>\n",
              "      <td>6865234.0</td>\n",
              "      <td>1165308.0</td>\n",
              "    </tr>\n",
              "    <tr>\n",
              "      <th>31913</th>\n",
              "      <td>01-00-00</td>\n",
              "      <td>GRAHAM AV</td>\n",
              "      <td>L</td>\n",
              "      <td>2019-06-08</td>\n",
              "      <td>08:00:00</td>\n",
              "      <td>6865304.0</td>\n",
              "      <td>1165347.0</td>\n",
              "    </tr>\n",
              "    <tr>\n",
              "      <th>31914</th>\n",
              "      <td>01-00-00</td>\n",
              "      <td>GRAHAM AV</td>\n",
              "      <td>L</td>\n",
              "      <td>2019-06-08</td>\n",
              "      <td>12:00:00</td>\n",
              "      <td>6865603.0</td>\n",
              "      <td>1165422.0</td>\n",
              "    </tr>\n",
              "    <tr>\n",
              "      <th>31915</th>\n",
              "      <td>01-00-00</td>\n",
              "      <td>GRAHAM AV</td>\n",
              "      <td>L</td>\n",
              "      <td>2019-06-08</td>\n",
              "      <td>16:00:00</td>\n",
              "      <td>6865951.0</td>\n",
              "      <td>1165555.0</td>\n",
              "    </tr>\n",
              "  </tbody>\n",
              "</table>\n",
              "</div>"
            ],
            "text/plain": [
              "            SCP  ... EXITS                                                               \n",
              "31911  01-00-00  ...                                          1165281.0                  \n",
              "31912  01-00-00  ...                                          1165308.0                  \n",
              "31913  01-00-00  ...                                          1165347.0                  \n",
              "31914  01-00-00  ...                                          1165422.0                  \n",
              "31915  01-00-00  ...                                          1165555.0                  \n",
              "\n",
              "[5 rows x 7 columns]"
            ]
          },
          "metadata": {},
          "execution_count": 11
        }
      ]
    },
    {
      "cell_type": "code",
      "metadata": {
        "id": "AvoUvLuzfw83"
      },
      "source": [
        "RALPH_AV = data[(data[['STATION']] == 'RALPH AV').all(axis=1)].copy()"
      ],
      "execution_count": 12,
      "outputs": []
    },
    {
      "cell_type": "code",
      "metadata": {
        "colab": {
          "base_uri": "https://localhost:8080/",
          "height": 202
        },
        "id": "UYAqO5KTgica",
        "outputId": "8d9489f5-2deb-45d5-b9d4-076909f2012f"
      },
      "source": [
        "RALPH_AV.head()"
      ],
      "execution_count": 13,
      "outputs": [
        {
          "output_type": "execute_result",
          "data": {
            "text/html": [
              "<div>\n",
              "<style scoped>\n",
              "    .dataframe tbody tr th:only-of-type {\n",
              "        vertical-align: middle;\n",
              "    }\n",
              "\n",
              "    .dataframe tbody tr th {\n",
              "        vertical-align: top;\n",
              "    }\n",
              "\n",
              "    .dataframe thead th {\n",
              "        text-align: right;\n",
              "    }\n",
              "</style>\n",
              "<table border=\"1\" class=\"dataframe\">\n",
              "  <thead>\n",
              "    <tr style=\"text-align: right;\">\n",
              "      <th></th>\n",
              "      <th>SCP</th>\n",
              "      <th>STATION</th>\n",
              "      <th>LINENAME</th>\n",
              "      <th>DATE</th>\n",
              "      <th>TIME</th>\n",
              "      <th>ENTRIES</th>\n",
              "      <th>EXITS</th>\n",
              "    </tr>\n",
              "  </thead>\n",
              "  <tbody>\n",
              "    <tr>\n",
              "      <th>65480</th>\n",
              "      <td>00-00-00</td>\n",
              "      <td>RALPH AV</td>\n",
              "      <td>C</td>\n",
              "      <td>2019-06-08</td>\n",
              "      <td>01:00:00</td>\n",
              "      <td>5442024.0</td>\n",
              "      <td>3336208.0</td>\n",
              "    </tr>\n",
              "    <tr>\n",
              "      <th>65481</th>\n",
              "      <td>00-00-00</td>\n",
              "      <td>RALPH AV</td>\n",
              "      <td>C</td>\n",
              "      <td>2019-06-08</td>\n",
              "      <td>05:00:00</td>\n",
              "      <td>5442042.0</td>\n",
              "      <td>3336250.0</td>\n",
              "    </tr>\n",
              "    <tr>\n",
              "      <th>65482</th>\n",
              "      <td>00-00-00</td>\n",
              "      <td>RALPH AV</td>\n",
              "      <td>C</td>\n",
              "      <td>2019-06-08</td>\n",
              "      <td>09:00:00</td>\n",
              "      <td>5442187.0</td>\n",
              "      <td>3336303.0</td>\n",
              "    </tr>\n",
              "    <tr>\n",
              "      <th>65483</th>\n",
              "      <td>00-00-00</td>\n",
              "      <td>RALPH AV</td>\n",
              "      <td>C</td>\n",
              "      <td>2019-06-08</td>\n",
              "      <td>13:00:00</td>\n",
              "      <td>5442446.0</td>\n",
              "      <td>3336388.0</td>\n",
              "    </tr>\n",
              "    <tr>\n",
              "      <th>65484</th>\n",
              "      <td>00-00-00</td>\n",
              "      <td>RALPH AV</td>\n",
              "      <td>C</td>\n",
              "      <td>2019-06-08</td>\n",
              "      <td>17:00:00</td>\n",
              "      <td>5442667.0</td>\n",
              "      <td>3336509.0</td>\n",
              "    </tr>\n",
              "  </tbody>\n",
              "</table>\n",
              "</div>"
            ],
            "text/plain": [
              "            SCP  ... EXITS                                                               \n",
              "65480  00-00-00  ...                                          3336208.0                  \n",
              "65481  00-00-00  ...                                          3336250.0                  \n",
              "65482  00-00-00  ...                                          3336303.0                  \n",
              "65483  00-00-00  ...                                          3336388.0                  \n",
              "65484  00-00-00  ...                                          3336509.0                  \n",
              "\n",
              "[5 rows x 7 columns]"
            ]
          },
          "metadata": {},
          "execution_count": 13
        }
      ]
    },
    {
      "cell_type": "code",
      "metadata": {
        "id": "z-j26K7WgkQ3"
      },
      "source": [
        ""
      ],
      "execution_count": 13,
      "outputs": []
    },
    {
      "cell_type": "code",
      "metadata": {
        "id": "0efpQQhsiwqA"
      },
      "source": [
        ""
      ],
      "execution_count": 13,
      "outputs": []
    },
    {
      "cell_type": "markdown",
      "metadata": {
        "id": "zvSYSJ4Biy_P"
      },
      "source": [
        "\n",
        "\n",
        "#UNION ST"
      ]
    },
    {
      "cell_type": "code",
      "metadata": {
        "id": "zYi4pCDYh7BW"
      },
      "source": [
        ""
      ],
      "execution_count": 13,
      "outputs": []
    },
    {
      "cell_type": "code",
      "metadata": {
        "id": "mTbmhl1Zosm_"
      },
      "source": [
        "#UNION_ST['DATE']=UNION_ST.DATE.apply(pd.to_datetime)"
      ],
      "execution_count": 14,
      "outputs": []
    },
    {
      "cell_type": "code",
      "metadata": {
        "colab": {
          "base_uri": "https://localhost:8080/"
        },
        "id": "tlgQ-zDMp-Hh",
        "outputId": "089fe882-95e3-4c67-dc0c-0510b73292da"
      },
      "source": [
        "UNION_ST.info()"
      ],
      "execution_count": 15,
      "outputs": [
        {
          "output_type": "stream",
          "text": [
            "<class 'pandas.core.frame.DataFrame'>\n",
            "Int64Index: 252 entries, 20793 to 21044\n",
            "Data columns (total 7 columns):\n",
            " #   Column                                                                Non-Null Count  Dtype         \n",
            "---  ------                                                                --------------  -----         \n",
            " 0   SCP                                                                   252 non-null    object        \n",
            " 1   STATION                                                               252 non-null    object        \n",
            " 2   LINENAME                                                              252 non-null    object        \n",
            " 3   DATE                                                                  252 non-null    datetime64[ns]\n",
            " 4   TIME                                                                  252 non-null    object        \n",
            " 5   ENTRIES                                                               252 non-null    float64       \n",
            " 6   EXITS                                                                 252 non-null    float64       \n",
            "dtypes: datetime64[ns](1), float64(2), object(4)\n",
            "memory usage: 15.8+ KB\n"
          ],
          "name": "stdout"
        }
      ]
    },
    {
      "cell_type": "markdown",
      "metadata": {
        "id": "lIV8Oq_zmEH9"
      },
      "source": [
        "#Day1 UNION ST entries"
      ]
    },
    {
      "cell_type": "code",
      "metadata": {
        "id": "AoS8nC5XsKun"
      },
      "source": [
        "Day1_UNION_ST= UNION_ST[(UNION_ST['DATE'] > '2019-06-07') & (UNION_ST['DATE'] < '2019-06-09')]"
      ],
      "execution_count": 16,
      "outputs": []
    },
    {
      "cell_type": "code",
      "metadata": {
        "id": "0flKn8p4qY8n"
      },
      "source": [
        ""
      ],
      "execution_count": 16,
      "outputs": []
    },
    {
      "cell_type": "code",
      "metadata": {
        "colab": {
          "base_uri": "https://localhost:8080/",
          "height": 0
        },
        "id": "_KTi2UQSwEKr",
        "outputId": "c84424aa-72d0-4fb2-b574-afbcc369adea"
      },
      "source": [
        "Day1_UNION_ST.head()"
      ],
      "execution_count": 17,
      "outputs": [
        {
          "output_type": "execute_result",
          "data": {
            "text/html": [
              "<div>\n",
              "<style scoped>\n",
              "    .dataframe tbody tr th:only-of-type {\n",
              "        vertical-align: middle;\n",
              "    }\n",
              "\n",
              "    .dataframe tbody tr th {\n",
              "        vertical-align: top;\n",
              "    }\n",
              "\n",
              "    .dataframe thead th {\n",
              "        text-align: right;\n",
              "    }\n",
              "</style>\n",
              "<table border=\"1\" class=\"dataframe\">\n",
              "  <thead>\n",
              "    <tr style=\"text-align: right;\">\n",
              "      <th></th>\n",
              "      <th>SCP</th>\n",
              "      <th>STATION</th>\n",
              "      <th>LINENAME</th>\n",
              "      <th>DATE</th>\n",
              "      <th>TIME</th>\n",
              "      <th>ENTRIES</th>\n",
              "      <th>EXITS</th>\n",
              "    </tr>\n",
              "  </thead>\n",
              "  <tbody>\n",
              "    <tr>\n",
              "      <th>20793</th>\n",
              "      <td>00-00-00</td>\n",
              "      <td>UNION ST</td>\n",
              "      <td>R</td>\n",
              "      <td>2019-06-08</td>\n",
              "      <td>00:00:00</td>\n",
              "      <td>6073803.0</td>\n",
              "      <td>2077835.0</td>\n",
              "    </tr>\n",
              "    <tr>\n",
              "      <th>20794</th>\n",
              "      <td>00-00-00</td>\n",
              "      <td>UNION ST</td>\n",
              "      <td>R</td>\n",
              "      <td>2019-06-08</td>\n",
              "      <td>04:00:00</td>\n",
              "      <td>6073857.0</td>\n",
              "      <td>2077844.0</td>\n",
              "    </tr>\n",
              "    <tr>\n",
              "      <th>20795</th>\n",
              "      <td>00-00-00</td>\n",
              "      <td>UNION ST</td>\n",
              "      <td>R</td>\n",
              "      <td>2019-06-08</td>\n",
              "      <td>08:00:00</td>\n",
              "      <td>6073910.0</td>\n",
              "      <td>2077898.0</td>\n",
              "    </tr>\n",
              "    <tr>\n",
              "      <th>20796</th>\n",
              "      <td>00-00-00</td>\n",
              "      <td>UNION ST</td>\n",
              "      <td>R</td>\n",
              "      <td>2019-06-08</td>\n",
              "      <td>12:00:00</td>\n",
              "      <td>6074188.0</td>\n",
              "      <td>2078042.0</td>\n",
              "    </tr>\n",
              "    <tr>\n",
              "      <th>20797</th>\n",
              "      <td>00-00-00</td>\n",
              "      <td>UNION ST</td>\n",
              "      <td>R</td>\n",
              "      <td>2019-06-08</td>\n",
              "      <td>16:00:00</td>\n",
              "      <td>6074581.0</td>\n",
              "      <td>2078187.0</td>\n",
              "    </tr>\n",
              "  </tbody>\n",
              "</table>\n",
              "</div>"
            ],
            "text/plain": [
              "            SCP  ... EXITS                                                               \n",
              "20793  00-00-00  ...                                          2077835.0                  \n",
              "20794  00-00-00  ...                                          2077844.0                  \n",
              "20795  00-00-00  ...                                          2077898.0                  \n",
              "20796  00-00-00  ...                                          2078042.0                  \n",
              "20797  00-00-00  ...                                          2078187.0                  \n",
              "\n",
              "[5 rows x 7 columns]"
            ]
          },
          "metadata": {},
          "execution_count": 17
        }
      ]
    },
    {
      "cell_type": "code",
      "metadata": {
        "colab": {
          "base_uri": "https://localhost:8080/"
        },
        "id": "MrjHHv0qv173",
        "outputId": "2a8f6269-74f3-4932-d78a-26244b4a210e"
      },
      "source": [
        "Day1_UNION_ST.SCP.unique()"
      ],
      "execution_count": 18,
      "outputs": [
        {
          "output_type": "execute_result",
          "data": {
            "text/plain": [
              "array(['00-00-00', '00-00-01', '00-00-02', '01-00-00', '01-00-01',\n",
              "       '01-00-02'], dtype=object)"
            ]
          },
          "metadata": {},
          "execution_count": 18
        }
      ]
    },
    {
      "cell_type": "code",
      "metadata": {
        "id": "rxc_vbYYqnQv"
      },
      "source": [
        "SCP0_UNION_ST=Day1_UNION_ST[(Day1_UNION_ST[['SCP']] == '00-00-00').all(axis=1)].copy()"
      ],
      "execution_count": 19,
      "outputs": []
    },
    {
      "cell_type": "code",
      "metadata": {
        "colab": {
          "base_uri": "https://localhost:8080/"
        },
        "id": "clf3ACPvPUK3",
        "outputId": "7fb45525-5b3a-4d0c-efc5-66a12aadaa01"
      },
      "source": [
        "SCP0_UNION_ST.ENTRIES.max()-SCP0_UNION_ST.ENTRIES.min()"
      ],
      "execution_count": 20,
      "outputs": [
        {
          "output_type": "execute_result",
          "data": {
            "text/plain": [
              "1213.0"
            ]
          },
          "metadata": {},
          "execution_count": 20
        }
      ]
    },
    {
      "cell_type": "code",
      "metadata": {
        "colab": {
          "base_uri": "https://localhost:8080/",
          "height": 0
        },
        "id": "D2lzAO7Tbo93",
        "outputId": "812d5898-4780-4968-f5af-962b8ce4cadf"
      },
      "source": [
        "Day1_UNION_ST.groupby(\"SCP\").first()"
      ],
      "execution_count": 21,
      "outputs": [
        {
          "output_type": "execute_result",
          "data": {
            "text/html": [
              "<div>\n",
              "<style scoped>\n",
              "    .dataframe tbody tr th:only-of-type {\n",
              "        vertical-align: middle;\n",
              "    }\n",
              "\n",
              "    .dataframe tbody tr th {\n",
              "        vertical-align: top;\n",
              "    }\n",
              "\n",
              "    .dataframe thead th {\n",
              "        text-align: right;\n",
              "    }\n",
              "</style>\n",
              "<table border=\"1\" class=\"dataframe\">\n",
              "  <thead>\n",
              "    <tr style=\"text-align: right;\">\n",
              "      <th></th>\n",
              "      <th>STATION</th>\n",
              "      <th>LINENAME</th>\n",
              "      <th>DATE</th>\n",
              "      <th>TIME</th>\n",
              "      <th>ENTRIES</th>\n",
              "      <th>EXITS</th>\n",
              "    </tr>\n",
              "    <tr>\n",
              "      <th>SCP</th>\n",
              "      <th></th>\n",
              "      <th></th>\n",
              "      <th></th>\n",
              "      <th></th>\n",
              "      <th></th>\n",
              "      <th></th>\n",
              "    </tr>\n",
              "  </thead>\n",
              "  <tbody>\n",
              "    <tr>\n",
              "      <th>00-00-00</th>\n",
              "      <td>UNION ST</td>\n",
              "      <td>R</td>\n",
              "      <td>2019-06-08</td>\n",
              "      <td>00:00:00</td>\n",
              "      <td>6073803.0</td>\n",
              "      <td>2077835.0</td>\n",
              "    </tr>\n",
              "    <tr>\n",
              "      <th>00-00-01</th>\n",
              "      <td>UNION ST</td>\n",
              "      <td>R</td>\n",
              "      <td>2019-06-08</td>\n",
              "      <td>00:00:00</td>\n",
              "      <td>2642434.0</td>\n",
              "      <td>507127.0</td>\n",
              "    </tr>\n",
              "    <tr>\n",
              "      <th>00-00-02</th>\n",
              "      <td>UNION ST</td>\n",
              "      <td>R</td>\n",
              "      <td>2019-06-08</td>\n",
              "      <td>00:00:00</td>\n",
              "      <td>11251258.0</td>\n",
              "      <td>3469925.0</td>\n",
              "    </tr>\n",
              "    <tr>\n",
              "      <th>01-00-00</th>\n",
              "      <td>UNION ST</td>\n",
              "      <td>R</td>\n",
              "      <td>2019-06-08</td>\n",
              "      <td>00:00:00</td>\n",
              "      <td>3991268.0</td>\n",
              "      <td>13057420.0</td>\n",
              "    </tr>\n",
              "    <tr>\n",
              "      <th>01-00-01</th>\n",
              "      <td>UNION ST</td>\n",
              "      <td>R</td>\n",
              "      <td>2019-06-08</td>\n",
              "      <td>00:00:00</td>\n",
              "      <td>2297684.0</td>\n",
              "      <td>5770514.0</td>\n",
              "    </tr>\n",
              "    <tr>\n",
              "      <th>01-00-02</th>\n",
              "      <td>UNION ST</td>\n",
              "      <td>R</td>\n",
              "      <td>2019-06-08</td>\n",
              "      <td>00:00:00</td>\n",
              "      <td>526614.0</td>\n",
              "      <td>1593118.0</td>\n",
              "    </tr>\n",
              "  </tbody>\n",
              "</table>\n",
              "</div>"
            ],
            "text/plain": [
              "           STATION  ... EXITS                                                               \n",
              "SCP                 ...                                                                     \n",
              "00-00-00  UNION ST  ...                                          2077835.0                  \n",
              "00-00-01  UNION ST  ...                                           507127.0                  \n",
              "00-00-02  UNION ST  ...                                          3469925.0                  \n",
              "01-00-00  UNION ST  ...                                         13057420.0                  \n",
              "01-00-01  UNION ST  ...                                          5770514.0                  \n",
              "01-00-02  UNION ST  ...                                          1593118.0                  \n",
              "\n",
              "[6 rows x 6 columns]"
            ]
          },
          "metadata": {},
          "execution_count": 21
        }
      ]
    },
    {
      "cell_type": "code",
      "metadata": {
        "id": "XVkUw1adbo2-"
      },
      "source": [
        "Start=Day1_UNION_ST.groupby(\"SCP\").first()"
      ],
      "execution_count": 22,
      "outputs": []
    },
    {
      "cell_type": "code",
      "metadata": {
        "id": "L_Ydd07Ubo0L"
      },
      "source": [
        "Last = Day1_UNION_ST.groupby(\"SCP\").last()"
      ],
      "execution_count": 23,
      "outputs": []
    },
    {
      "cell_type": "code",
      "metadata": {
        "id": "2gBVSPraboxo"
      },
      "source": [
        "main = pd.merge(Last,Start, left_index=True,right_index=True)"
      ],
      "execution_count": 24,
      "outputs": []
    },
    {
      "cell_type": "code",
      "metadata": {
        "colab": {
          "base_uri": "https://localhost:8080/",
          "height": 0
        },
        "id": "bVjp086Ibou5",
        "outputId": "6ed5ea3d-8ccb-4bda-b0b9-13da01fe9c5a"
      },
      "source": [
        "main.head()"
      ],
      "execution_count": 25,
      "outputs": [
        {
          "output_type": "execute_result",
          "data": {
            "text/html": [
              "<div>\n",
              "<style scoped>\n",
              "    .dataframe tbody tr th:only-of-type {\n",
              "        vertical-align: middle;\n",
              "    }\n",
              "\n",
              "    .dataframe tbody tr th {\n",
              "        vertical-align: top;\n",
              "    }\n",
              "\n",
              "    .dataframe thead th {\n",
              "        text-align: right;\n",
              "    }\n",
              "</style>\n",
              "<table border=\"1\" class=\"dataframe\">\n",
              "  <thead>\n",
              "    <tr style=\"text-align: right;\">\n",
              "      <th></th>\n",
              "      <th>STATION_x</th>\n",
              "      <th>LINENAME_x</th>\n",
              "      <th>DATE_x</th>\n",
              "      <th>TIME_x</th>\n",
              "      <th>ENTRIES_x</th>\n",
              "      <th>EXITS                                                               _x</th>\n",
              "      <th>STATION_y</th>\n",
              "      <th>LINENAME_y</th>\n",
              "      <th>DATE_y</th>\n",
              "      <th>TIME_y</th>\n",
              "      <th>ENTRIES_y</th>\n",
              "      <th>EXITS                                                               _y</th>\n",
              "    </tr>\n",
              "    <tr>\n",
              "      <th>SCP</th>\n",
              "      <th></th>\n",
              "      <th></th>\n",
              "      <th></th>\n",
              "      <th></th>\n",
              "      <th></th>\n",
              "      <th></th>\n",
              "      <th></th>\n",
              "      <th></th>\n",
              "      <th></th>\n",
              "      <th></th>\n",
              "      <th></th>\n",
              "      <th></th>\n",
              "    </tr>\n",
              "  </thead>\n",
              "  <tbody>\n",
              "    <tr>\n",
              "      <th>00-00-00</th>\n",
              "      <td>UNION ST</td>\n",
              "      <td>R</td>\n",
              "      <td>2019-06-08</td>\n",
              "      <td>20:00:00</td>\n",
              "      <td>6075016.0</td>\n",
              "      <td>2078347.0</td>\n",
              "      <td>UNION ST</td>\n",
              "      <td>R</td>\n",
              "      <td>2019-06-08</td>\n",
              "      <td>00:00:00</td>\n",
              "      <td>6073803.0</td>\n",
              "      <td>2077835.0</td>\n",
              "    </tr>\n",
              "    <tr>\n",
              "      <th>00-00-01</th>\n",
              "      <td>UNION ST</td>\n",
              "      <td>R</td>\n",
              "      <td>2019-06-08</td>\n",
              "      <td>20:00:00</td>\n",
              "      <td>2643401.0</td>\n",
              "      <td>507330.0</td>\n",
              "      <td>UNION ST</td>\n",
              "      <td>R</td>\n",
              "      <td>2019-06-08</td>\n",
              "      <td>00:00:00</td>\n",
              "      <td>2642434.0</td>\n",
              "      <td>507127.0</td>\n",
              "    </tr>\n",
              "    <tr>\n",
              "      <th>00-00-02</th>\n",
              "      <td>UNION ST</td>\n",
              "      <td>R</td>\n",
              "      <td>2019-06-08</td>\n",
              "      <td>20:00:00</td>\n",
              "      <td>11252345.0</td>\n",
              "      <td>3470423.0</td>\n",
              "      <td>UNION ST</td>\n",
              "      <td>R</td>\n",
              "      <td>2019-06-08</td>\n",
              "      <td>00:00:00</td>\n",
              "      <td>11251258.0</td>\n",
              "      <td>3469925.0</td>\n",
              "    </tr>\n",
              "    <tr>\n",
              "      <th>01-00-00</th>\n",
              "      <td>UNION ST</td>\n",
              "      <td>R</td>\n",
              "      <td>2019-06-08</td>\n",
              "      <td>20:00:00</td>\n",
              "      <td>3991671.0</td>\n",
              "      <td>13058554.0</td>\n",
              "      <td>UNION ST</td>\n",
              "      <td>R</td>\n",
              "      <td>2019-06-08</td>\n",
              "      <td>00:00:00</td>\n",
              "      <td>3991268.0</td>\n",
              "      <td>13057420.0</td>\n",
              "    </tr>\n",
              "    <tr>\n",
              "      <th>01-00-01</th>\n",
              "      <td>UNION ST</td>\n",
              "      <td>R</td>\n",
              "      <td>2019-06-08</td>\n",
              "      <td>20:00:00</td>\n",
              "      <td>2297960.0</td>\n",
              "      <td>5771018.0</td>\n",
              "      <td>UNION ST</td>\n",
              "      <td>R</td>\n",
              "      <td>2019-06-08</td>\n",
              "      <td>00:00:00</td>\n",
              "      <td>2297684.0</td>\n",
              "      <td>5770514.0</td>\n",
              "    </tr>\n",
              "  </tbody>\n",
              "</table>\n",
              "</div>"
            ],
            "text/plain": [
              "         STATION_x  ... EXITS                                                               _y\n",
              "SCP                 ...                                                                       \n",
              "00-00-00  UNION ST  ...                                          2077835.0                    \n",
              "00-00-01  UNION ST  ...                                           507127.0                    \n",
              "00-00-02  UNION ST  ...                                          3469925.0                    \n",
              "01-00-00  UNION ST  ...                                         13057420.0                    \n",
              "01-00-01  UNION ST  ...                                          5770514.0                    \n",
              "\n",
              "[5 rows x 12 columns]"
            ]
          },
          "metadata": {},
          "execution_count": 25
        }
      ]
    },
    {
      "cell_type": "code",
      "metadata": {
        "id": "Cg8LKWt0bolN"
      },
      "source": [
        "main[\"Diff\"] = main.ENTRIES_x-main.ENTRIES_y"
      ],
      "execution_count": 26,
      "outputs": []
    },
    {
      "cell_type": "code",
      "metadata": {
        "id": "rGqeQXfMbmVc"
      },
      "source": [
        "ENTRIES_Day1_UNION_ST=main.Diff.sum()"
      ],
      "execution_count": 27,
      "outputs": []
    },
    {
      "cell_type": "code",
      "metadata": {
        "colab": {
          "base_uri": "https://localhost:8080/"
        },
        "id": "5EpUj13elVSC",
        "outputId": "da91460f-5d04-473e-edfd-82ba8e55041f"
      },
      "source": [
        "ENTRIES_Day1_UNION_ST"
      ],
      "execution_count": 28,
      "outputs": [
        {
          "output_type": "execute_result",
          "data": {
            "text/plain": [
              "4202.0"
            ]
          },
          "metadata": {},
          "execution_count": 28
        }
      ]
    },
    {
      "cell_type": "code",
      "metadata": {
        "id": "4rlV_n9PyIxu"
      },
      "source": [
        "main.rename(columns={'EXITS                                                               _x':'EXITS_x','EXITS                                                               _y':'EXITS_y' },inplace=True)\n",
        "main[\"Diff1\"] = main.EXITS_x-main.EXITS_y\n",
        "Exits_Day1_UNION_ST=main.Diff1.sum()"
      ],
      "execution_count": 29,
      "outputs": []
    },
    {
      "cell_type": "code",
      "metadata": {
        "colab": {
          "base_uri": "https://localhost:8080/"
        },
        "id": "82igKI5h1HUn",
        "outputId": "3fe1a1d8-3284-4f8a-d299-07c937ff5596"
      },
      "source": [
        "Exits_Day1_UNION_ST"
      ],
      "execution_count": 30,
      "outputs": [
        {
          "output_type": "execute_result",
          "data": {
            "text/plain": [
              "3612.0"
            ]
          },
          "metadata": {},
          "execution_count": 30
        }
      ]
    },
    {
      "cell_type": "code",
      "metadata": {
        "colab": {
          "base_uri": "https://localhost:8080/"
        },
        "id": "Ei2_KKTHnbcA",
        "outputId": "cab0f880-f1c6-4ff2-f8a2-0d2b2a2257d2"
      },
      "source": [
        "UNION_ST.DATE.unique()"
      ],
      "execution_count": 31,
      "outputs": [
        {
          "output_type": "execute_result",
          "data": {
            "text/plain": [
              "array(['2019-06-08T00:00:00.000000000', '2019-06-09T00:00:00.000000000',\n",
              "       '2019-06-10T00:00:00.000000000', '2019-06-11T00:00:00.000000000',\n",
              "       '2019-06-12T00:00:00.000000000', '2019-06-13T00:00:00.000000000',\n",
              "       '2019-06-14T00:00:00.000000000'], dtype='datetime64[ns]')"
            ]
          },
          "metadata": {},
          "execution_count": 31
        }
      ]
    },
    {
      "cell_type": "markdown",
      "metadata": {
        "id": "wyc4vDKtosdZ"
      },
      "source": [
        "#Day2 UNION ST"
      ]
    },
    {
      "cell_type": "code",
      "metadata": {
        "id": "PjCOyzFWqxWs"
      },
      "source": [
        "Day2_UNION_ST= UNION_ST[(UNION_ST['DATE'] > '2019-06-08') & (UNION_ST['DATE'] < '2019-06-10')]"
      ],
      "execution_count": 32,
      "outputs": []
    },
    {
      "cell_type": "code",
      "metadata": {
        "colab": {
          "base_uri": "https://localhost:8080/",
          "height": 0
        },
        "id": "BYKXfG08q4Es",
        "outputId": "dd60ab7a-57a9-4c33-8d45-45c67cf00970"
      },
      "source": [
        "Day2_UNION_ST.head()"
      ],
      "execution_count": 33,
      "outputs": [
        {
          "output_type": "execute_result",
          "data": {
            "text/html": [
              "<div>\n",
              "<style scoped>\n",
              "    .dataframe tbody tr th:only-of-type {\n",
              "        vertical-align: middle;\n",
              "    }\n",
              "\n",
              "    .dataframe tbody tr th {\n",
              "        vertical-align: top;\n",
              "    }\n",
              "\n",
              "    .dataframe thead th {\n",
              "        text-align: right;\n",
              "    }\n",
              "</style>\n",
              "<table border=\"1\" class=\"dataframe\">\n",
              "  <thead>\n",
              "    <tr style=\"text-align: right;\">\n",
              "      <th></th>\n",
              "      <th>SCP</th>\n",
              "      <th>STATION</th>\n",
              "      <th>LINENAME</th>\n",
              "      <th>DATE</th>\n",
              "      <th>TIME</th>\n",
              "      <th>ENTRIES</th>\n",
              "      <th>EXITS</th>\n",
              "    </tr>\n",
              "  </thead>\n",
              "  <tbody>\n",
              "    <tr>\n",
              "      <th>20799</th>\n",
              "      <td>00-00-00</td>\n",
              "      <td>UNION ST</td>\n",
              "      <td>R</td>\n",
              "      <td>2019-06-09</td>\n",
              "      <td>00:00:00</td>\n",
              "      <td>6075474.0</td>\n",
              "      <td>2078423.0</td>\n",
              "    </tr>\n",
              "    <tr>\n",
              "      <th>20800</th>\n",
              "      <td>00-00-00</td>\n",
              "      <td>UNION ST</td>\n",
              "      <td>R</td>\n",
              "      <td>2019-06-09</td>\n",
              "      <td>04:00:00</td>\n",
              "      <td>6075583.0</td>\n",
              "      <td>2078442.0</td>\n",
              "    </tr>\n",
              "    <tr>\n",
              "      <th>20801</th>\n",
              "      <td>00-00-00</td>\n",
              "      <td>UNION ST</td>\n",
              "      <td>R</td>\n",
              "      <td>2019-06-09</td>\n",
              "      <td>08:00:00</td>\n",
              "      <td>6075611.0</td>\n",
              "      <td>2078462.0</td>\n",
              "    </tr>\n",
              "    <tr>\n",
              "      <th>20802</th>\n",
              "      <td>00-00-00</td>\n",
              "      <td>UNION ST</td>\n",
              "      <td>R</td>\n",
              "      <td>2019-06-09</td>\n",
              "      <td>12:00:00</td>\n",
              "      <td>6075843.0</td>\n",
              "      <td>2078572.0</td>\n",
              "    </tr>\n",
              "    <tr>\n",
              "      <th>20803</th>\n",
              "      <td>00-00-00</td>\n",
              "      <td>UNION ST</td>\n",
              "      <td>R</td>\n",
              "      <td>2019-06-09</td>\n",
              "      <td>16:00:00</td>\n",
              "      <td>6076099.0</td>\n",
              "      <td>2078710.0</td>\n",
              "    </tr>\n",
              "  </tbody>\n",
              "</table>\n",
              "</div>"
            ],
            "text/plain": [
              "            SCP  ... EXITS                                                               \n",
              "20799  00-00-00  ...                                          2078423.0                  \n",
              "20800  00-00-00  ...                                          2078442.0                  \n",
              "20801  00-00-00  ...                                          2078462.0                  \n",
              "20802  00-00-00  ...                                          2078572.0                  \n",
              "20803  00-00-00  ...                                          2078710.0                  \n",
              "\n",
              "[5 rows x 7 columns]"
            ]
          },
          "metadata": {},
          "execution_count": 33
        }
      ]
    },
    {
      "cell_type": "code",
      "metadata": {
        "id": "_eCnmuQQq58p"
      },
      "source": [
        "Start=Day2_UNION_ST.groupby(\"SCP\").first()\n",
        "Last = Day2_UNION_ST.groupby(\"SCP\").last()\n",
        "main = pd.merge(Last,Start, left_index=True,right_index=True)\n",
        "main[\"Diff\"] = main.ENTRIES_x-main.ENTRIES_y\n",
        "ENTRIES_Day2_UNION_ST=main.Diff.sum()"
      ],
      "execution_count": 34,
      "outputs": []
    },
    {
      "cell_type": "code",
      "metadata": {
        "colab": {
          "base_uri": "https://localhost:8080/"
        },
        "id": "HDZfvZmJrZ4a",
        "outputId": "9e310cbd-ab28-4edb-fce8-57d25e3b6791"
      },
      "source": [
        "ENTRIES_Day2_UNION_ST"
      ],
      "execution_count": 35,
      "outputs": [
        {
          "output_type": "execute_result",
          "data": {
            "text/plain": [
              "3257.0"
            ]
          },
          "metadata": {},
          "execution_count": 35
        }
      ]
    },
    {
      "cell_type": "code",
      "metadata": {
        "id": "wAPkImlLycNN"
      },
      "source": [
        "main.rename(columns={'EXITS                                                               _x':'EXITS_x','EXITS                                                               _y':'EXITS_y' },inplace=True)\n"
      ],
      "execution_count": 36,
      "outputs": []
    },
    {
      "cell_type": "code",
      "metadata": {
        "id": "QRptHjcKyU6K"
      },
      "source": [
        "main[\"Diff1\"] = main.EXITS_x-main.EXITS_y\n",
        "Exits_Day2_UNION_ST=main.Diff1.sum()"
      ],
      "execution_count": 37,
      "outputs": []
    },
    {
      "cell_type": "code",
      "metadata": {
        "colab": {
          "base_uri": "https://localhost:8080/"
        },
        "id": "veleWI5R0UZ3",
        "outputId": "cc1526f4-aa3d-405d-e789-ab2be7d8b5ae"
      },
      "source": [
        "Exits_Day2_UNION_ST"
      ],
      "execution_count": 38,
      "outputs": [
        {
          "output_type": "execute_result",
          "data": {
            "text/plain": [
              "2491.0"
            ]
          },
          "metadata": {},
          "execution_count": 38
        }
      ]
    },
    {
      "cell_type": "markdown",
      "metadata": {
        "id": "YKhcEP_RrgbK"
      },
      "source": [
        "#Day3 UNION ST entries"
      ]
    },
    {
      "cell_type": "code",
      "metadata": {
        "id": "tjXUf0YYrmCs"
      },
      "source": [
        "Day3_UNION_ST= UNION_ST[(UNION_ST['DATE'] > '2019-06-09') & (UNION_ST['DATE'] < '2019-06-11')]"
      ],
      "execution_count": 39,
      "outputs": []
    },
    {
      "cell_type": "code",
      "metadata": {
        "id": "tlXMi1oPrw5X"
      },
      "source": [
        "Start=Day3_UNION_ST.groupby(\"SCP\").first()\n",
        "Last = Day3_UNION_ST.groupby(\"SCP\").last()\n",
        "main = pd.merge(Last,Start, left_index=True,right_index=True)\n",
        "main[\"Diff\"] = main.ENTRIES_x-main.ENTRIES_y\n",
        "ENTRIES_Day3_UNION_ST=main.Diff.sum()"
      ],
      "execution_count": 40,
      "outputs": []
    },
    {
      "cell_type": "markdown",
      "metadata": {
        "id": "DiIkeaYsswyb"
      },
      "source": [
        ""
      ]
    },
    {
      "cell_type": "code",
      "metadata": {
        "colab": {
          "base_uri": "https://localhost:8080/"
        },
        "id": "s2Vyi8wsr4G6",
        "outputId": "325c9292-5189-4569-c05a-53e35601e923"
      },
      "source": [
        "ENTRIES_Day3_UNION_ST"
      ],
      "execution_count": 41,
      "outputs": [
        {
          "output_type": "execute_result",
          "data": {
            "text/plain": [
              "6696.0"
            ]
          },
          "metadata": {},
          "execution_count": 41
        }
      ]
    },
    {
      "cell_type": "code",
      "metadata": {
        "id": "yIn_Fi4T2crI"
      },
      "source": [
        "main.rename(columns={'EXITS                                                               _x':'EXITS_x','EXITS                                                               _y':'EXITS_y' },inplace=True)\n",
        "main[\"Diff1\"] = main.EXITS_x-main.EXITS_y\n",
        "Exits_Day3_UNION_ST=main.Diff1.sum()"
      ],
      "execution_count": 42,
      "outputs": []
    },
    {
      "cell_type": "code",
      "metadata": {
        "colab": {
          "base_uri": "https://localhost:8080/"
        },
        "id": "tmkDFAEh2kOn",
        "outputId": "128f4528-d7df-406a-b78d-c4d9fc4983cd"
      },
      "source": [
        "Exits_Day3_UNION_ST"
      ],
      "execution_count": 43,
      "outputs": [
        {
          "output_type": "execute_result",
          "data": {
            "text/plain": [
              "4529.0"
            ]
          },
          "metadata": {},
          "execution_count": 43
        }
      ]
    },
    {
      "cell_type": "markdown",
      "metadata": {
        "id": "5DqbEJI8r6fR"
      },
      "source": [
        "#Day4 UNION ST entries"
      ]
    },
    {
      "cell_type": "code",
      "metadata": {
        "id": "J4pdf6pD2s0W"
      },
      "source": [
        ""
      ],
      "execution_count": 43,
      "outputs": []
    },
    {
      "cell_type": "code",
      "metadata": {
        "id": "1KWC51gNtwM8"
      },
      "source": [
        "Day4_UNION_ST= UNION_ST[(UNION_ST['DATE'] > '2019-06-10') & (UNION_ST['DATE'] < '2019-06-12')]"
      ],
      "execution_count": 44,
      "outputs": []
    },
    {
      "cell_type": "code",
      "metadata": {
        "id": "zhe9HcjIvqyd"
      },
      "source": [
        "Start=Day4_UNION_ST.groupby(\"SCP\").first()\n",
        "Last = Day4_UNION_ST.groupby(\"SCP\").last()\n",
        "main = pd.merge(Last,Start, left_index=True,right_index=True)\n",
        "main[\"Diff\"] = main.ENTRIES_x-main.ENTRIES_y\n",
        "ENTRIES_Day4_UNION_ST=main.Diff.sum()"
      ],
      "execution_count": 45,
      "outputs": []
    },
    {
      "cell_type": "code",
      "metadata": {
        "colab": {
          "base_uri": "https://localhost:8080/"
        },
        "id": "Ephv4IHMvzwN",
        "outputId": "b64f4a81-a2f4-4992-f81d-d55bfed2cf3e"
      },
      "source": [
        "ENTRIES_Day4_UNION_ST"
      ],
      "execution_count": 46,
      "outputs": [
        {
          "output_type": "execute_result",
          "data": {
            "text/plain": [
              "6835.0"
            ]
          },
          "metadata": {},
          "execution_count": 46
        }
      ]
    },
    {
      "cell_type": "code",
      "metadata": {
        "id": "apNbYQMx2ubE"
      },
      "source": [
        "main.rename(columns={'EXITS                                                               _x':'EXITS_x','EXITS                                                               _y':'EXITS_y' },inplace=True)\n",
        "main[\"Diff1\"] = main.EXITS_x-main.EXITS_y\n",
        "Exits_Day4_UNION_ST=main.Diff1.sum()"
      ],
      "execution_count": 47,
      "outputs": []
    },
    {
      "cell_type": "code",
      "metadata": {
        "colab": {
          "base_uri": "https://localhost:8080/"
        },
        "id": "YE0U32Hd2u62",
        "outputId": "64849da5-0429-4cc4-9f87-10e930d7e734"
      },
      "source": [
        "Exits_Day4_UNION_ST"
      ],
      "execution_count": 48,
      "outputs": [
        {
          "output_type": "execute_result",
          "data": {
            "text/plain": [
              "4577.0"
            ]
          },
          "metadata": {},
          "execution_count": 48
        }
      ]
    },
    {
      "cell_type": "markdown",
      "metadata": {
        "id": "93gURaM-v2F6"
      },
      "source": [
        "#Day5 UNION ST entries"
      ]
    },
    {
      "cell_type": "code",
      "metadata": {
        "id": "pJWBrp2lv6s_"
      },
      "source": [
        "Day5_UNION_ST= UNION_ST[(UNION_ST['DATE'] > '2019-06-11') & (UNION_ST['DATE'] < '2019-06-13')]"
      ],
      "execution_count": 49,
      "outputs": []
    },
    {
      "cell_type": "code",
      "metadata": {
        "id": "8FrwasmOwJxW"
      },
      "source": [
        "Start=Day5_UNION_ST.groupby(\"SCP\").first()\n",
        "Last = Day5_UNION_ST.groupby(\"SCP\").last()\n",
        "main = pd.merge(Last,Start, left_index=True,right_index=True)\n",
        "main[\"Diff\"] = main.ENTRIES_x-main.ENTRIES_y\n",
        "ENTRIES_Day5_UNION_ST=main.Diff.sum()"
      ],
      "execution_count": 50,
      "outputs": []
    },
    {
      "cell_type": "code",
      "metadata": {
        "colab": {
          "base_uri": "https://localhost:8080/"
        },
        "id": "P5Xt_8SVwQUw",
        "outputId": "93392bc1-0957-451d-bfeb-3bbda37ea9ff"
      },
      "source": [
        "ENTRIES_Day5_UNION_ST"
      ],
      "execution_count": 51,
      "outputs": [
        {
          "output_type": "execute_result",
          "data": {
            "text/plain": [
              "7099.0"
            ]
          },
          "metadata": {},
          "execution_count": 51
        }
      ]
    },
    {
      "cell_type": "code",
      "metadata": {
        "id": "Gh_yY0Tm23Nc"
      },
      "source": [
        "main.rename(columns={'EXITS                                                               _x':'EXITS_x','EXITS                                                               _y':'EXITS_y' },inplace=True)\n",
        "main[\"Diff1\"] = main.EXITS_x-main.EXITS_y\n",
        "Exits_Day5_UNION_ST=main.Diff1.sum()"
      ],
      "execution_count": 52,
      "outputs": []
    },
    {
      "cell_type": "code",
      "metadata": {
        "colab": {
          "base_uri": "https://localhost:8080/"
        },
        "id": "zoiPXekQ23lE",
        "outputId": "aea807aa-0ee8-4c34-8ca4-b7598d0c4df9"
      },
      "source": [
        "Exits_Day5_UNION_ST"
      ],
      "execution_count": 53,
      "outputs": [
        {
          "output_type": "execute_result",
          "data": {
            "text/plain": [
              "4932.0"
            ]
          },
          "metadata": {},
          "execution_count": 53
        }
      ]
    },
    {
      "cell_type": "markdown",
      "metadata": {
        "id": "V1PG2GjWwRMy"
      },
      "source": [
        "#Day6 UNION ST entries"
      ]
    },
    {
      "cell_type": "code",
      "metadata": {
        "id": "VZQG-T73wZHk"
      },
      "source": [
        "Day6_UNION_ST= UNION_ST[(UNION_ST['DATE'] > '2019-06-12') & (UNION_ST['DATE'] < '2019-06-14')]"
      ],
      "execution_count": 54,
      "outputs": []
    },
    {
      "cell_type": "code",
      "metadata": {
        "id": "5U17MeeIwZeX"
      },
      "source": [
        "Start=Day6_UNION_ST.groupby(\"SCP\").first()\n",
        "Last = Day6_UNION_ST.groupby(\"SCP\").last()\n",
        "main = pd.merge(Last,Start, left_index=True,right_index=True)\n",
        "main[\"Diff\"] = main.ENTRIES_x-main.ENTRIES_y\n",
        "ENTRIES_Day6_UNION_ST=main.Diff.sum()"
      ],
      "execution_count": 55,
      "outputs": []
    },
    {
      "cell_type": "code",
      "metadata": {
        "colab": {
          "base_uri": "https://localhost:8080/"
        },
        "id": "GInL--TOwZma",
        "outputId": "2fb70f5b-500c-41bf-d593-0f439b35d8b9"
      },
      "source": [
        "ENTRIES_Day6_UNION_ST"
      ],
      "execution_count": 56,
      "outputs": [
        {
          "output_type": "execute_result",
          "data": {
            "text/plain": [
              "7264.0"
            ]
          },
          "metadata": {},
          "execution_count": 56
        }
      ]
    },
    {
      "cell_type": "code",
      "metadata": {
        "id": "7NIcO9Tj3J8e"
      },
      "source": [
        "main.rename(columns={'EXITS                                                               _x':'EXITS_x','EXITS                                                               _y':'EXITS_y' },inplace=True)\n",
        "main[\"Diff1\"] = main.EXITS_x-main.EXITS_y\n",
        "Exits_Day6_UNION_ST=main.Diff1.sum()"
      ],
      "execution_count": 57,
      "outputs": []
    },
    {
      "cell_type": "code",
      "metadata": {
        "colab": {
          "base_uri": "https://localhost:8080/"
        },
        "id": "qfxCcuOo3KEu",
        "outputId": "5aeef5c4-3156-4ff2-84fd-598c1f9d892d"
      },
      "source": [
        "Exits_Day6_UNION_ST"
      ],
      "execution_count": 58,
      "outputs": [
        {
          "output_type": "execute_result",
          "data": {
            "text/plain": [
              "5028.0"
            ]
          },
          "metadata": {},
          "execution_count": 58
        }
      ]
    },
    {
      "cell_type": "markdown",
      "metadata": {
        "id": "cgDktbChw1Cg"
      },
      "source": [
        "#Day7 UNION ST entries"
      ]
    },
    {
      "cell_type": "code",
      "metadata": {
        "id": "10t27ALcw29f"
      },
      "source": [
        "Day7_UNION_ST= UNION_ST[(UNION_ST['DATE'] > '2019-06-13') & (UNION_ST['DATE'] < '2019-06-15')]"
      ],
      "execution_count": 59,
      "outputs": []
    },
    {
      "cell_type": "code",
      "metadata": {
        "id": "Jhip3Kzgw-Uz"
      },
      "source": [
        "Start=Day7_UNION_ST.groupby(\"SCP\").first()\n",
        "Last = Day7_UNION_ST.groupby(\"SCP\").last()\n",
        "main = pd.merge(Last,Start, left_index=True,right_index=True)\n",
        "main[\"Diff\"] = main.ENTRIES_x-main.ENTRIES_y\n",
        "ENTRIES_Day7_UNION_ST=main.Diff.sum()"
      ],
      "execution_count": 60,
      "outputs": []
    },
    {
      "cell_type": "code",
      "metadata": {
        "colab": {
          "base_uri": "https://localhost:8080/"
        },
        "id": "hNvTd5fww-a5",
        "outputId": "e0d8fcfb-9a64-436c-a3ba-ccbf08e9b7d6"
      },
      "source": [
        "ENTRIES_Day7_UNION_ST"
      ],
      "execution_count": 61,
      "outputs": [
        {
          "output_type": "execute_result",
          "data": {
            "text/plain": [
              "6629.0"
            ]
          },
          "metadata": {},
          "execution_count": 61
        }
      ]
    },
    {
      "cell_type": "code",
      "metadata": {
        "id": "lkFn6hT83ZIw"
      },
      "source": [
        "main.rename(columns={'EXITS                                                               _x':'EXITS_x','EXITS                                                               _y':'EXITS_y' },inplace=True)\n",
        "main[\"Diff1\"] = main.EXITS_x-main.EXITS_y\n",
        "Exits_Day7_UNION_ST=main.Diff1.sum()"
      ],
      "execution_count": 62,
      "outputs": []
    },
    {
      "cell_type": "code",
      "metadata": {
        "colab": {
          "base_uri": "https://localhost:8080/"
        },
        "id": "U3BF6EEL3ZW3",
        "outputId": "60839b11-e402-4e01-8a4a-3d3aeacf9f4f"
      },
      "source": [
        "Exits_Day7_UNION_ST"
      ],
      "execution_count": 63,
      "outputs": [
        {
          "output_type": "execute_result",
          "data": {
            "text/plain": [
              "4847.0"
            ]
          },
          "metadata": {},
          "execution_count": 63
        }
      ]
    },
    {
      "cell_type": "markdown",
      "metadata": {
        "id": "i7uSg4H3xWLN"
      },
      "source": [
        "#Day1 GRAHAM_AV"
      ]
    },
    {
      "cell_type": "code",
      "metadata": {
        "id": "PxVlKtlE0rH4"
      },
      "source": [
        ""
      ],
      "execution_count": 63,
      "outputs": []
    },
    {
      "cell_type": "code",
      "metadata": {
        "id": "9gnKwYyd4XpM"
      },
      "source": [
        "Day1_GRAHAM_AV= GRAHAM_AV[(GRAHAM_AV['DATE'] > '2019-06-07') & (GRAHAM_AV['DATE'] < '2019-06-09')]"
      ],
      "execution_count": 64,
      "outputs": []
    },
    {
      "cell_type": "code",
      "metadata": {
        "id": "7tGeekDD435i"
      },
      "source": [
        "Start=Day1_GRAHAM_AV.groupby(\"SCP\").first()\n",
        "Last =Day1_GRAHAM_AV.groupby(\"SCP\").last()\n",
        "main = pd.merge(Last,Start, left_index=True,right_index=True)\n",
        "main[\"Diff\"] = main.ENTRIES_x-main.ENTRIES_y\n",
        "ENTRIES_Day1_GRAHAM_AV=main.Diff.sum()"
      ],
      "execution_count": 65,
      "outputs": []
    },
    {
      "cell_type": "code",
      "metadata": {
        "colab": {
          "base_uri": "https://localhost:8080/"
        },
        "id": "J3XbApaZ5J9K",
        "outputId": "9f5d25d8-3810-408e-f79c-936abfdbd827"
      },
      "source": [
        "ENTRIES_Day1_GRAHAM_AV"
      ],
      "execution_count": 66,
      "outputs": [
        {
          "output_type": "execute_result",
          "data": {
            "text/plain": [
              "3954.0"
            ]
          },
          "metadata": {},
          "execution_count": 66
        }
      ]
    },
    {
      "cell_type": "code",
      "metadata": {
        "id": "VMHbX-QM3m0N"
      },
      "source": [
        "main.rename(columns={'EXITS                                                               _x':'EXITS_x','EXITS                                                               _y':'EXITS_y' },inplace=True)\n",
        "main[\"Diff1\"] = main.EXITS_x-main.EXITS_y\n",
        "Exits_Day1_GRAHAM_AV=main.Diff1.sum()"
      ],
      "execution_count": 67,
      "outputs": []
    },
    {
      "cell_type": "code",
      "metadata": {
        "colab": {
          "base_uri": "https://localhost:8080/"
        },
        "id": "ynh0B69o3tPt",
        "outputId": "38c4cf0e-4dba-47f4-9f5d-7fda6ec99ec5"
      },
      "source": [
        "Exits_Day1_GRAHAM_AV"
      ],
      "execution_count": 68,
      "outputs": [
        {
          "output_type": "execute_result",
          "data": {
            "text/plain": [
              "2564.0"
            ]
          },
          "metadata": {},
          "execution_count": 68
        }
      ]
    },
    {
      "cell_type": "markdown",
      "metadata": {
        "id": "gKvhQjWn5Lvu"
      },
      "source": [
        "#Day2 GRAHAM_AV"
      ]
    },
    {
      "cell_type": "code",
      "metadata": {
        "id": "ovVxjzvK5QsU"
      },
      "source": [
        "Day2_GRAHAM_AV= GRAHAM_AV[(GRAHAM_AV['DATE'] > '2019-06-08') & (GRAHAM_AV['DATE'] < '2019-06-10')]"
      ],
      "execution_count": 69,
      "outputs": []
    },
    {
      "cell_type": "code",
      "metadata": {
        "id": "1ean_Fx-5Q3d"
      },
      "source": [
        "Start=Day2_GRAHAM_AV.groupby(\"SCP\").first()\n",
        "Last =Day2_GRAHAM_AV.groupby(\"SCP\").last()\n",
        "main = pd.merge(Last,Start, left_index=True,right_index=True)\n",
        "main[\"Diff\"] = main.ENTRIES_x-main.ENTRIES_y\n",
        "ENTRIES_Day2_GRAHAM_AV=main.Diff.sum()"
      ],
      "execution_count": 70,
      "outputs": []
    },
    {
      "cell_type": "code",
      "metadata": {
        "colab": {
          "base_uri": "https://localhost:8080/"
        },
        "id": "LkdlDkPi5RC4",
        "outputId": "84a74cec-f067-4b37-c07b-fad05d842a8b"
      },
      "source": [
        "ENTRIES_Day2_GRAHAM_AV"
      ],
      "execution_count": 71,
      "outputs": [
        {
          "output_type": "execute_result",
          "data": {
            "text/plain": [
              "2702.0"
            ]
          },
          "metadata": {},
          "execution_count": 71
        }
      ]
    },
    {
      "cell_type": "code",
      "metadata": {
        "id": "oRYA1oLV3_Dp"
      },
      "source": [
        "main.rename(columns={'EXITS                                                               _x':'EXITS_x','EXITS                                                               _y':'EXITS_y' },inplace=True)\n",
        "main[\"Diff1\"] = main.EXITS_x-main.EXITS_y\n",
        "Exits_Day2_GRAHAM_AV=main.Diff1.sum()"
      ],
      "execution_count": 72,
      "outputs": []
    },
    {
      "cell_type": "code",
      "metadata": {
        "colab": {
          "base_uri": "https://localhost:8080/"
        },
        "id": "tYXHF3683-wH",
        "outputId": "a76dc03f-9ea9-4512-bcb4-22b3d0ab8cc5"
      },
      "source": [
        "Exits_Day2_GRAHAM_AV"
      ],
      "execution_count": 73,
      "outputs": [
        {
          "output_type": "execute_result",
          "data": {
            "text/plain": [
              "2103.0"
            ]
          },
          "metadata": {},
          "execution_count": 73
        }
      ]
    },
    {
      "cell_type": "markdown",
      "metadata": {
        "id": "cbsnuWPL5inr"
      },
      "source": [
        "#Day3 GRAHAM_AV"
      ]
    },
    {
      "cell_type": "code",
      "metadata": {
        "id": "JYh-mpAF68jJ"
      },
      "source": [
        "Day3_GRAHAM_AV= GRAHAM_AV[(GRAHAM_AV['DATE'] > '2019-06-09') & (GRAHAM_AV['DATE'] < '2019-06-11')]"
      ],
      "execution_count": 74,
      "outputs": []
    },
    {
      "cell_type": "code",
      "metadata": {
        "id": "K1pYZZNC68l7"
      },
      "source": [
        "Start=Day3_GRAHAM_AV.groupby(\"SCP\").first()\n",
        "Last =Day3_GRAHAM_AV.groupby(\"SCP\").last()\n",
        "main = pd.merge(Last,Start, left_index=True,right_index=True)\n",
        "main[\"Diff\"] = main.ENTRIES_x-main.ENTRIES_y\n",
        "ENTRIES_Day3_GRAHAM_AV=main.Diff.sum()"
      ],
      "execution_count": 75,
      "outputs": []
    },
    {
      "cell_type": "code",
      "metadata": {
        "colab": {
          "base_uri": "https://localhost:8080/"
        },
        "id": "wGuuf7Hx68pU",
        "outputId": "c576cfc6-2ac4-4fda-dfcd-df4ec1452c4d"
      },
      "source": [
        "ENTRIES_Day3_GRAHAM_AV"
      ],
      "execution_count": 76,
      "outputs": [
        {
          "output_type": "execute_result",
          "data": {
            "text/plain": [
              "8420.0"
            ]
          },
          "metadata": {},
          "execution_count": 76
        }
      ]
    },
    {
      "cell_type": "code",
      "metadata": {
        "id": "gTrZFxf94MEA"
      },
      "source": [
        "main.rename(columns={'EXITS                                                               _x':'EXITS_x','EXITS                                                               _y':'EXITS_y' },inplace=True)\n",
        "main[\"Diff1\"] = main.EXITS_x-main.EXITS_y\n",
        "Exits_Day3_GRAHAM_AV=main.Diff1.sum()"
      ],
      "execution_count": 77,
      "outputs": []
    },
    {
      "cell_type": "code",
      "metadata": {
        "colab": {
          "base_uri": "https://localhost:8080/"
        },
        "id": "nCYRNWNM4MYi",
        "outputId": "b3b20872-2877-4b8a-aaac-33627e0a9281"
      },
      "source": [
        "Exits_Day3_GRAHAM_AV"
      ],
      "execution_count": 78,
      "outputs": [
        {
          "output_type": "execute_result",
          "data": {
            "text/plain": [
              "5205.0"
            ]
          },
          "metadata": {},
          "execution_count": 78
        }
      ]
    },
    {
      "cell_type": "markdown",
      "metadata": {
        "id": "gmh-2sb07O4G"
      },
      "source": [
        "#Day4 GRAHAM_AV"
      ]
    },
    {
      "cell_type": "code",
      "metadata": {
        "id": "JtarxnlV7SHG"
      },
      "source": [
        "Day4_GRAHAM_AV= GRAHAM_AV[(GRAHAM_AV['DATE'] > '2019-06-10') & (GRAHAM_AV['DATE'] < '2019-06-12')]"
      ],
      "execution_count": 79,
      "outputs": []
    },
    {
      "cell_type": "code",
      "metadata": {
        "id": "GBioRtI27SKB"
      },
      "source": [
        "Start=Day4_GRAHAM_AV.groupby(\"SCP\").first()\n",
        "Last =Day4_GRAHAM_AV.groupby(\"SCP\").last()\n",
        "main = pd.merge(Last,Start, left_index=True,right_index=True)\n",
        "main[\"Diff\"] = main.ENTRIES_x-main.ENTRIES_y\n",
        "ENTRIES_Day4_GRAHAM_AV=main.Diff.sum()"
      ],
      "execution_count": 80,
      "outputs": []
    },
    {
      "cell_type": "code",
      "metadata": {
        "colab": {
          "base_uri": "https://localhost:8080/"
        },
        "id": "_Q7s_M8r7SN_",
        "outputId": "f491d089-7f5b-4d46-e389-89f90f24c892"
      },
      "source": [
        "ENTRIES_Day4_GRAHAM_AV"
      ],
      "execution_count": 81,
      "outputs": [
        {
          "output_type": "execute_result",
          "data": {
            "text/plain": [
              "8861.0"
            ]
          },
          "metadata": {},
          "execution_count": 81
        }
      ]
    },
    {
      "cell_type": "code",
      "metadata": {
        "id": "vgfNIK3s4Y9d"
      },
      "source": [
        "main.rename(columns={'EXITS                                                               _x':'EXITS_x','EXITS                                                               _y':'EXITS_y' },inplace=True)\n",
        "main[\"Diff1\"] = main.EXITS_x-main.EXITS_y\n",
        "Exits_Day4_GRAHAM_AV=main.Diff1.sum()"
      ],
      "execution_count": 82,
      "outputs": []
    },
    {
      "cell_type": "code",
      "metadata": {
        "colab": {
          "base_uri": "https://localhost:8080/"
        },
        "id": "DqLFsXVa4ZIM",
        "outputId": "d247b5f8-cf3b-4e03-e676-48cf218f2085"
      },
      "source": [
        "Exits_Day4_GRAHAM_AV"
      ],
      "execution_count": 83,
      "outputs": [
        {
          "output_type": "execute_result",
          "data": {
            "text/plain": [
              "4813.0"
            ]
          },
          "metadata": {},
          "execution_count": 83
        }
      ]
    },
    {
      "cell_type": "markdown",
      "metadata": {
        "id": "EEvh6PAI7Sm2"
      },
      "source": [
        "#Day5 GRAHAM_AV"
      ]
    },
    {
      "cell_type": "code",
      "metadata": {
        "id": "eqPrecfh7Sz0"
      },
      "source": [
        "Day5_GRAHAM_AV= GRAHAM_AV[(GRAHAM_AV['DATE'] > '2019-06-11') & (GRAHAM_AV['DATE'] < '2019-06-13')]"
      ],
      "execution_count": 84,
      "outputs": []
    },
    {
      "cell_type": "code",
      "metadata": {
        "id": "XUfr_ZO_7S2d"
      },
      "source": [
        "Start=Day5_GRAHAM_AV.groupby(\"SCP\").first()\n",
        "Last =Day5_GRAHAM_AV.groupby(\"SCP\").last()\n",
        "main = pd.merge(Last,Start, left_index=True,right_index=True)\n",
        "main[\"Diff\"] = main.ENTRIES_x-main.ENTRIES_y\n",
        "ENTRIES_Day5_GRAHAM_AV=main.Diff.sum()"
      ],
      "execution_count": 85,
      "outputs": []
    },
    {
      "cell_type": "code",
      "metadata": {
        "colab": {
          "base_uri": "https://localhost:8080/"
        },
        "id": "G_jwYtrr7S5-",
        "outputId": "4a096523-6f21-4710-a486-9b2aa3e835a3"
      },
      "source": [
        "ENTRIES_Day5_GRAHAM_AV"
      ],
      "execution_count": 86,
      "outputs": [
        {
          "output_type": "execute_result",
          "data": {
            "text/plain": [
              "9127.0"
            ]
          },
          "metadata": {},
          "execution_count": 86
        }
      ]
    },
    {
      "cell_type": "code",
      "metadata": {
        "id": "56Gu-sk94mmy"
      },
      "source": [
        "main.rename(columns={'EXITS                                                               _x':'EXITS_x','EXITS                                                               _y':'EXITS_y' },inplace=True)\n",
        "main[\"Diff1\"] = main.EXITS_x-main.EXITS_y\n",
        "Exits_Day5_GRAHAM_AV=main.Diff1.sum()"
      ],
      "execution_count": 87,
      "outputs": []
    },
    {
      "cell_type": "code",
      "metadata": {
        "colab": {
          "base_uri": "https://localhost:8080/"
        },
        "id": "zWfORCIh4mys",
        "outputId": "cd685a1b-8d5a-443a-ca4e-19f926241532"
      },
      "source": [
        "Exits_Day5_GRAHAM_AV"
      ],
      "execution_count": 88,
      "outputs": [
        {
          "output_type": "execute_result",
          "data": {
            "text/plain": [
              "5059.0"
            ]
          },
          "metadata": {},
          "execution_count": 88
        }
      ]
    },
    {
      "cell_type": "markdown",
      "metadata": {
        "id": "jyUgv5LJ7S8M"
      },
      "source": [
        "#Day6 GRAHAM_AV"
      ]
    },
    {
      "cell_type": "code",
      "metadata": {
        "id": "rPiw0TKG8Dhy"
      },
      "source": [
        "Day6_GRAHAM_AV= GRAHAM_AV[(GRAHAM_AV['DATE'] > '2019-06-12') & (GRAHAM_AV['DATE'] < '2019-06-14')]"
      ],
      "execution_count": 89,
      "outputs": []
    },
    {
      "cell_type": "code",
      "metadata": {
        "id": "0QVsHTxR8Dn4"
      },
      "source": [
        "Start=Day6_GRAHAM_AV.groupby(\"SCP\").first()\n",
        "Last =Day6_GRAHAM_AV.groupby(\"SCP\").last()\n",
        "main = pd.merge(Last,Start, left_index=True,right_index=True)\n",
        "main[\"Diff\"] = main.ENTRIES_x-main.ENTRIES_y\n",
        "ENTRIES_Day6_GRAHAM_AV=main.Diff.sum()"
      ],
      "execution_count": 90,
      "outputs": []
    },
    {
      "cell_type": "code",
      "metadata": {
        "colab": {
          "base_uri": "https://localhost:8080/"
        },
        "id": "Aq2xRq0W8DsF",
        "outputId": "a19c30dc-f97f-4292-d2a4-f8f4fbe0f1f5"
      },
      "source": [
        "ENTRIES_Day6_GRAHAM_AV"
      ],
      "execution_count": 91,
      "outputs": [
        {
          "output_type": "execute_result",
          "data": {
            "text/plain": [
              "9058.0"
            ]
          },
          "metadata": {},
          "execution_count": 91
        }
      ]
    },
    {
      "cell_type": "code",
      "metadata": {
        "id": "m2uujWbn4wOJ"
      },
      "source": [
        "main.rename(columns={'EXITS                                                               _x':'EXITS_x','EXITS                                                               _y':'EXITS_y' },inplace=True)\n",
        "main[\"Diff1\"] = main.EXITS_x-main.EXITS_y\n",
        "Exits_Day6_GRAHAM_AV=main.Diff1.sum()"
      ],
      "execution_count": 92,
      "outputs": []
    },
    {
      "cell_type": "code",
      "metadata": {
        "colab": {
          "base_uri": "https://localhost:8080/"
        },
        "id": "L63sQgHQ4we-",
        "outputId": "e89a1a52-3349-41c5-be13-6909704fc7a1"
      },
      "source": [
        "Exits_Day6_GRAHAM_AV"
      ],
      "execution_count": 93,
      "outputs": [
        {
          "output_type": "execute_result",
          "data": {
            "text/plain": [
              "4887.0"
            ]
          },
          "metadata": {},
          "execution_count": 93
        }
      ]
    },
    {
      "cell_type": "markdown",
      "metadata": {
        "id": "IlFAOJTg8D0J"
      },
      "source": [
        "#Day7 GRAHAM_AV"
      ]
    },
    {
      "cell_type": "code",
      "metadata": {
        "id": "tk5HYBW_8Ydi"
      },
      "source": [
        "Day7_GRAHAM_AV= GRAHAM_AV[(GRAHAM_AV['DATE'] > '2019-06-13') & (GRAHAM_AV['DATE'] < '2019-06-15')]"
      ],
      "execution_count": 94,
      "outputs": []
    },
    {
      "cell_type": "code",
      "metadata": {
        "id": "aXspFirl8YhD"
      },
      "source": [
        "Start=Day7_GRAHAM_AV.groupby(\"SCP\").first()\n",
        "Last =Day7_GRAHAM_AV.groupby(\"SCP\").last()\n",
        "main = pd.merge(Last,Start, left_index=True,right_index=True)\n",
        "main[\"Diff\"] = main.ENTRIES_x-main.ENTRIES_y\n",
        "ENTRIES_Day7_GRAHAM_AV=main.Diff.sum()"
      ],
      "execution_count": 95,
      "outputs": []
    },
    {
      "cell_type": "code",
      "metadata": {
        "colab": {
          "base_uri": "https://localhost:8080/"
        },
        "id": "FeOGii6B8YlF",
        "outputId": "fc08da93-55df-422d-d3fa-c255237f6966"
      },
      "source": [
        "ENTRIES_Day7_GRAHAM_AV"
      ],
      "execution_count": 96,
      "outputs": [
        {
          "output_type": "execute_result",
          "data": {
            "text/plain": [
              "8926.0"
            ]
          },
          "metadata": {},
          "execution_count": 96
        }
      ]
    },
    {
      "cell_type": "code",
      "metadata": {
        "id": "cp1oOGRE44lV"
      },
      "source": [
        "main.rename(columns={'EXITS                                                               _x':'EXITS_x','EXITS                                                               _y':'EXITS_y' },inplace=True)\n",
        "main[\"Diff1\"] = main.EXITS_x-main.EXITS_y\n",
        "Exits_Day7_GRAHAM_AV=main.Diff1.sum()"
      ],
      "execution_count": 97,
      "outputs": []
    },
    {
      "cell_type": "code",
      "metadata": {
        "colab": {
          "base_uri": "https://localhost:8080/"
        },
        "id": "b64uIKrU44uP",
        "outputId": "ca9fd10d-b318-482c-8f95-13ec1c482ce3"
      },
      "source": [
        "Exits_Day7_GRAHAM_AV"
      ],
      "execution_count": 98,
      "outputs": [
        {
          "output_type": "execute_result",
          "data": {
            "text/plain": [
              "5183.0"
            ]
          },
          "metadata": {},
          "execution_count": 98
        }
      ]
    },
    {
      "cell_type": "markdown",
      "metadata": {
        "id": "WerD5OvE8YqE"
      },
      "source": [
        "#Day1 RALPH_AV"
      ]
    },
    {
      "cell_type": "code",
      "metadata": {
        "id": "hYy30cj88YyF"
      },
      "source": [
        "Day1_RALPH_AV= RALPH_AV[(RALPH_AV['DATE'] > '2019-06-07') & (RALPH_AV['DATE'] < '2019-06-09')]"
      ],
      "execution_count": 99,
      "outputs": []
    },
    {
      "cell_type": "code",
      "metadata": {
        "id": "gbc-QXQs8Y0d"
      },
      "source": [
        "Start=Day1_RALPH_AV.groupby(\"SCP\").first()\n",
        "Last =Day1_RALPH_AV.groupby(\"SCP\").last()\n",
        "main = pd.merge(Last,Start, left_index=True,right_index=True)\n",
        "main[\"Diff\"] = main.ENTRIES_x-main.ENTRIES_y\n",
        "ENTRIES_Day1_RALPH_AV=main.Diff.sum()"
      ],
      "execution_count": 100,
      "outputs": []
    },
    {
      "cell_type": "code",
      "metadata": {
        "colab": {
          "base_uri": "https://localhost:8080/"
        },
        "id": "uhMcm6z08Y4b",
        "outputId": "c28f27f8-db74-42fe-8f02-6465297a88b5"
      },
      "source": [
        "ENTRIES_Day1_RALPH_AV"
      ],
      "execution_count": 101,
      "outputs": [
        {
          "output_type": "execute_result",
          "data": {
            "text/plain": [
              "3891.0"
            ]
          },
          "metadata": {},
          "execution_count": 101
        }
      ]
    },
    {
      "cell_type": "code",
      "metadata": {
        "id": "ZZjPdCRc4_pF"
      },
      "source": [
        "main.rename(columns={'EXITS                                                               _x':'EXITS_x','EXITS                                                               _y':'EXITS_y' },inplace=True)\n",
        "main[\"Diff1\"] = main.EXITS_x-main.EXITS_y\n",
        "Exits_Day1_RALPH_AV=main.Diff1.sum()"
      ],
      "execution_count": 102,
      "outputs": []
    },
    {
      "cell_type": "code",
      "metadata": {
        "colab": {
          "base_uri": "https://localhost:8080/"
        },
        "id": "i55ZudIk4_81",
        "outputId": "5142ee1f-7901-4bff-a7c3-90e9f29240e1"
      },
      "source": [
        "Exits_Day1_RALPH_AV"
      ],
      "execution_count": 103,
      "outputs": [
        {
          "output_type": "execute_result",
          "data": {
            "text/plain": [
              "1694.0"
            ]
          },
          "metadata": {},
          "execution_count": 103
        }
      ]
    },
    {
      "cell_type": "markdown",
      "metadata": {
        "id": "bJrYIt4x8Y6r"
      },
      "source": [
        "#Day2 RALPH_AV"
      ]
    },
    {
      "cell_type": "code",
      "metadata": {
        "id": "tQkMYQ9P9rWl"
      },
      "source": [
        "Day2_RALPH_AV= RALPH_AV[(RALPH_AV['DATE'] > '2019-06-08') & (RALPH_AV['DATE'] < '2019-06-10')]"
      ],
      "execution_count": 104,
      "outputs": []
    },
    {
      "cell_type": "code",
      "metadata": {
        "id": "Ghd4u1sq9rZI"
      },
      "source": [
        "Start=Day2_RALPH_AV.groupby(\"SCP\").first()\n",
        "Last =Day2_RALPH_AV.groupby(\"SCP\").last()\n",
        "main = pd.merge(Last,Start, left_index=True,right_index=True)\n",
        "main[\"Diff\"] = main.ENTRIES_x-main.ENTRIES_y\n",
        "ENTRIES_Day2_RALPH_AV=main.Diff.sum()"
      ],
      "execution_count": 105,
      "outputs": []
    },
    {
      "cell_type": "code",
      "metadata": {
        "colab": {
          "base_uri": "https://localhost:8080/"
        },
        "id": "f6K1qZCw9reK",
        "outputId": "8425b20d-5242-410e-f0b5-5283fd26431c"
      },
      "source": [
        "ENTRIES_Day2_RALPH_AV"
      ],
      "execution_count": 106,
      "outputs": [
        {
          "output_type": "execute_result",
          "data": {
            "text/plain": [
              "3123.0"
            ]
          },
          "metadata": {},
          "execution_count": 106
        }
      ]
    },
    {
      "cell_type": "code",
      "metadata": {
        "colab": {
          "base_uri": "https://localhost:8080/"
        },
        "id": "g2veOAvd5QGf",
        "outputId": "29594a60-ac61-4960-d948-fd105fed60ae"
      },
      "source": [
        "main.rename(columns={'EXITS                                                               _x':'EXITS_x','EXITS                                                               _y':'EXITS_y' },inplace=True)\n",
        "main[\"Diff1\"] = main.EXITS_x-main.EXITS_y\n",
        "Exits_Day2_RALPH_AV=main.Diff1.sum()\n",
        "Exits_Day2_RALPH_AV"
      ],
      "execution_count": 107,
      "outputs": [
        {
          "output_type": "execute_result",
          "data": {
            "text/plain": [
              "1491.0"
            ]
          },
          "metadata": {},
          "execution_count": 107
        }
      ]
    },
    {
      "cell_type": "code",
      "metadata": {
        "id": "C8484Dvu5QXx"
      },
      "source": [
        ""
      ],
      "execution_count": 107,
      "outputs": []
    },
    {
      "cell_type": "markdown",
      "metadata": {
        "id": "Sy5At8SB9rgn"
      },
      "source": [
        "#Day3 RALPH_AV"
      ]
    },
    {
      "cell_type": "code",
      "metadata": {
        "id": "0RVfxwpD9rjG"
      },
      "source": [
        "Day3_RALPH_AV= RALPH_AV[(RALPH_AV['DATE'] > '2019-06-09') & (RALPH_AV['DATE'] < '2019-06-11')]"
      ],
      "execution_count": 108,
      "outputs": []
    },
    {
      "cell_type": "code",
      "metadata": {
        "id": "ATvKCE_K9rla"
      },
      "source": [
        "Start=Day3_RALPH_AV.groupby(\"SCP\").first()\n",
        "Last =Day3_RALPH_AV.groupby(\"SCP\").last()\n",
        "main = pd.merge(Last,Start, left_index=True,right_index=True)\n",
        "main[\"Diff\"] = main.ENTRIES_x-main.ENTRIES_y\n",
        "ENTRIES_Day3_RALPH_AV=main.Diff.sum()"
      ],
      "execution_count": 109,
      "outputs": []
    },
    {
      "cell_type": "code",
      "metadata": {
        "colab": {
          "base_uri": "https://localhost:8080/"
        },
        "id": "NihFd-6h9rnu",
        "outputId": "d044bc4a-f68b-4eb3-aaeb-f3653a712e50"
      },
      "source": [
        "ENTRIES_Day3_RALPH_AV"
      ],
      "execution_count": 110,
      "outputs": [
        {
          "output_type": "execute_result",
          "data": {
            "text/plain": [
              "5345.0"
            ]
          },
          "metadata": {},
          "execution_count": 110
        }
      ]
    },
    {
      "cell_type": "code",
      "metadata": {
        "colab": {
          "base_uri": "https://localhost:8080/"
        },
        "id": "2LGLFolt52Tu",
        "outputId": "4af27be1-c511-4c5e-b371-c93c915d4739"
      },
      "source": [
        "main.rename(columns={'EXITS                                                               _x':'EXITS_x','EXITS                                                               _y':'EXITS_y' },inplace=True)\n",
        "main[\"Diff1\"] = main.EXITS_x-main.EXITS_y\n",
        "Exits_Day3_RALPH_AV=main.Diff1.sum()\n",
        "Exits_Day3_RALPH_AV\n"
      ],
      "execution_count": 111,
      "outputs": [
        {
          "output_type": "execute_result",
          "data": {
            "text/plain": [
              "2570.0"
            ]
          },
          "metadata": {},
          "execution_count": 111
        }
      ]
    },
    {
      "cell_type": "code",
      "metadata": {
        "id": "m-C82x4452hx"
      },
      "source": [
        ""
      ],
      "execution_count": 111,
      "outputs": []
    },
    {
      "cell_type": "markdown",
      "metadata": {
        "id": "YHgMBUP29rsR"
      },
      "source": [
        "#Day4 RALPH_AV"
      ]
    },
    {
      "cell_type": "code",
      "metadata": {
        "id": "uBmWr3HP-kZ0"
      },
      "source": [
        "Day4_RALPH_AV= RALPH_AV[(RALPH_AV['DATE'] > '2019-06-10') & (RALPH_AV['DATE'] < '2019-06-12')]"
      ],
      "execution_count": 112,
      "outputs": []
    },
    {
      "cell_type": "code",
      "metadata": {
        "id": "rNJwrSaY-laP"
      },
      "source": [
        "Start=Day4_RALPH_AV.groupby(\"SCP\").first()\n",
        "Last =Day4_RALPH_AV.groupby(\"SCP\").last()\n",
        "main = pd.merge(Last,Start, left_index=True,right_index=True)\n",
        "main[\"Diff\"] = main.ENTRIES_x-main.ENTRIES_y\n",
        "ENTRIES_Day4_RALPH_AV=main.Diff.sum()"
      ],
      "execution_count": 113,
      "outputs": []
    },
    {
      "cell_type": "code",
      "metadata": {
        "colab": {
          "base_uri": "https://localhost:8080/"
        },
        "id": "ZmfaG0ev-leC",
        "outputId": "b9f45e53-dd2d-4ae0-b86b-9822755bea38"
      },
      "source": [
        "ENTRIES_Day4_RALPH_AV"
      ],
      "execution_count": 114,
      "outputs": [
        {
          "output_type": "execute_result",
          "data": {
            "text/plain": [
              "5586.0"
            ]
          },
          "metadata": {},
          "execution_count": 114
        }
      ]
    },
    {
      "cell_type": "code",
      "metadata": {
        "colab": {
          "base_uri": "https://localhost:8080/"
        },
        "id": "gLtXeQrF6CKe",
        "outputId": "3bfd00d6-840f-4bbf-9b3b-041733cc9f5a"
      },
      "source": [
        "main.rename(columns={'EXITS                                                               _x':'EXITS_x','EXITS                                                               _y':'EXITS_y' },inplace=True)\n",
        "main[\"Diff1\"] = main.EXITS_x-main.EXITS_y\n",
        "Exits_Day4_RALPH_AV=main.Diff1.sum()\n",
        "Exits_Day4_RALPH_AV"
      ],
      "execution_count": 115,
      "outputs": [
        {
          "output_type": "execute_result",
          "data": {
            "text/plain": [
              "2326.0"
            ]
          },
          "metadata": {},
          "execution_count": 115
        }
      ]
    },
    {
      "cell_type": "markdown",
      "metadata": {
        "id": "eF-3_O0X-ljy"
      },
      "source": [
        "#Day5 RALPH_AV"
      ]
    },
    {
      "cell_type": "code",
      "metadata": {
        "id": "mNvsWnG1-lqI"
      },
      "source": [
        "Day5_RALPH_AV= RALPH_AV[(RALPH_AV['DATE'] > '2019-06-11') & (RALPH_AV['DATE'] < '2019-06-13')]"
      ],
      "execution_count": 116,
      "outputs": []
    },
    {
      "cell_type": "code",
      "metadata": {
        "id": "AsQOWPZp-ltl"
      },
      "source": [
        "Start=Day5_RALPH_AV.groupby(\"SCP\").first()\n",
        "Last =Day5_RALPH_AV.groupby(\"SCP\").last()\n",
        "main = pd.merge(Last,Start, left_index=True,right_index=True)\n",
        "main[\"Diff\"] = main.ENTRIES_x-main.ENTRIES_y\n",
        "ENTRIES_Day5_RALPH_AV=main.Diff.sum()"
      ],
      "execution_count": 117,
      "outputs": []
    },
    {
      "cell_type": "code",
      "metadata": {
        "colab": {
          "base_uri": "https://localhost:8080/"
        },
        "id": "vK1YM759-lxZ",
        "outputId": "a1d01d65-7526-4ca8-f671-49c4b5008432"
      },
      "source": [
        "ENTRIES_Day5_RALPH_AV"
      ],
      "execution_count": 118,
      "outputs": [
        {
          "output_type": "execute_result",
          "data": {
            "text/plain": [
              "5846.0"
            ]
          },
          "metadata": {},
          "execution_count": 118
        }
      ]
    },
    {
      "cell_type": "code",
      "metadata": {
        "colab": {
          "base_uri": "https://localhost:8080/"
        },
        "id": "91waFGgz6Kjw",
        "outputId": "e888fa65-9962-4d8a-ca29-72b1540a3467"
      },
      "source": [
        "main.rename(columns={'EXITS                                                               _x':'EXITS_x','EXITS                                                               _y':'EXITS_y' },inplace=True)\n",
        "main[\"Diff1\"] = main.EXITS_x-main.EXITS_y\n",
        "Exits_Day5_RALPH_AV=main.Diff1.sum()\n",
        "Exits_Day5_RALPH_AV"
      ],
      "execution_count": 119,
      "outputs": [
        {
          "output_type": "execute_result",
          "data": {
            "text/plain": [
              "2681.0"
            ]
          },
          "metadata": {},
          "execution_count": 119
        }
      ]
    },
    {
      "cell_type": "code",
      "metadata": {
        "id": "Pfr6rEh36Kva"
      },
      "source": [
        ""
      ],
      "execution_count": 119,
      "outputs": []
    },
    {
      "cell_type": "markdown",
      "metadata": {
        "id": "cmuXkaaB_LOL"
      },
      "source": [
        "#Day6 RALPH_AV"
      ]
    },
    {
      "cell_type": "code",
      "metadata": {
        "id": "el-nn_ku_Low"
      },
      "source": [
        "Day6_RALPH_AV= RALPH_AV[(RALPH_AV['DATE'] > '2019-06-12') & (RALPH_AV['DATE'] < '2019-06-14')]"
      ],
      "execution_count": 120,
      "outputs": []
    },
    {
      "cell_type": "code",
      "metadata": {
        "id": "GurZqXda_LrT"
      },
      "source": [
        "Start=Day6_RALPH_AV.groupby(\"SCP\").first()\n",
        "Last =Day6_RALPH_AV.groupby(\"SCP\").last()\n",
        "main = pd.merge(Last,Start, left_index=True,right_index=True)\n",
        "main[\"Diff\"] = main.ENTRIES_x-main.ENTRIES_y\n",
        "ENTRIES_Day6_RALPH_AV=main.Diff.sum()"
      ],
      "execution_count": 121,
      "outputs": []
    },
    {
      "cell_type": "code",
      "metadata": {
        "colab": {
          "base_uri": "https://localhost:8080/"
        },
        "id": "uzkHg2Ev_LuB",
        "outputId": "4fac6771-67c5-4cfc-cd4f-2c97e62aee85"
      },
      "source": [
        "ENTRIES_Day6_RALPH_AV"
      ],
      "execution_count": 122,
      "outputs": [
        {
          "output_type": "execute_result",
          "data": {
            "text/plain": [
              "5612.0"
            ]
          },
          "metadata": {},
          "execution_count": 122
        }
      ]
    },
    {
      "cell_type": "code",
      "metadata": {
        "colab": {
          "base_uri": "https://localhost:8080/"
        },
        "id": "7BhvM1EH6TTi",
        "outputId": "fc0c9531-c094-4ce0-8e40-a23bfe118425"
      },
      "source": [
        "main.rename(columns={'EXITS                                                               _x':'EXITS_x','EXITS                                                               _y':'EXITS_y' },inplace=True)\n",
        "main[\"Diff1\"] = main.EXITS_x-main.EXITS_y\n",
        "Exits_Day6_RALPH_AV=main.Diff1.sum()\n",
        "Exits_Day6_RALPH_AV"
      ],
      "execution_count": 123,
      "outputs": [
        {
          "output_type": "execute_result",
          "data": {
            "text/plain": [
              "2451.0"
            ]
          },
          "metadata": {},
          "execution_count": 123
        }
      ]
    },
    {
      "cell_type": "code",
      "metadata": {
        "id": "zOJaQJhi6TfF"
      },
      "source": [
        ""
      ],
      "execution_count": 123,
      "outputs": []
    },
    {
      "cell_type": "markdown",
      "metadata": {
        "id": "wHAShpTr_LyW"
      },
      "source": [
        "#Day7 RALPH_AV"
      ]
    },
    {
      "cell_type": "code",
      "metadata": {
        "id": "i8t8KURS_L0_"
      },
      "source": [
        "Day7_RALPH_AV= RALPH_AV[(RALPH_AV['DATE'] > '2019-06-13') & (RALPH_AV['DATE'] < '2019-06-15')]"
      ],
      "execution_count": 124,
      "outputs": []
    },
    {
      "cell_type": "code",
      "metadata": {
        "id": "EiMKPk1z_L3k"
      },
      "source": [
        "Start=Day7_RALPH_AV.groupby(\"SCP\").first()\n",
        "Last =Day7_RALPH_AV.groupby(\"SCP\").last()\n",
        "main = pd.merge(Last,Start, left_index=True,right_index=True)\n",
        "main[\"Diff\"] = main.ENTRIES_x-main.ENTRIES_y\n",
        "ENTRIES_Day7_RALPH_AV=main.Diff.sum()"
      ],
      "execution_count": 125,
      "outputs": []
    },
    {
      "cell_type": "code",
      "metadata": {
        "colab": {
          "base_uri": "https://localhost:8080/"
        },
        "id": "xRoYwy_e_L6Y",
        "outputId": "934f2589-7c02-4d9e-c25f-43d2969af42f"
      },
      "source": [
        "ENTRIES_Day7_RALPH_AV"
      ],
      "execution_count": 126,
      "outputs": [
        {
          "output_type": "execute_result",
          "data": {
            "text/plain": [
              "5729.0"
            ]
          },
          "metadata": {},
          "execution_count": 126
        }
      ]
    },
    {
      "cell_type": "code",
      "metadata": {
        "colab": {
          "base_uri": "https://localhost:8080/"
        },
        "id": "koV01VKl6beu",
        "outputId": "a2d944c8-a1ed-4a1f-e3a6-9198540d2b19"
      },
      "source": [
        "main.rename(columns={'EXITS                                                               _x':'EXITS_x','EXITS                                                               _y':'EXITS_y' },inplace=True)\n",
        "main[\"Diff1\"] = main.EXITS_x-main.EXITS_y\n",
        "Exits_Day7_RALPH_AV=main.Diff1.sum()\n",
        "Exits_Day7_RALPH_AV"
      ],
      "execution_count": 127,
      "outputs": [
        {
          "output_type": "execute_result",
          "data": {
            "text/plain": [
              "2621.0"
            ]
          },
          "metadata": {},
          "execution_count": 127
        }
      ]
    },
    {
      "cell_type": "code",
      "metadata": {
        "id": "bRzFRsNh6boj"
      },
      "source": [
        ""
      ],
      "execution_count": 127,
      "outputs": []
    },
    {
      "cell_type": "markdown",
      "metadata": {
        "id": "fMIy_PlM_L9m"
      },
      "source": [
        "#ENTER (ALL STATIONS)"
      ]
    },
    {
      "cell_type": "code",
      "metadata": {
        "id": "fWMaox1mAWmc"
      },
      "source": [
        "d1 = {\"DAY\":[\"1\",'2','3','4','5','6','7'], \"UNION ST\":[ENTRIES_Day1_UNION_ST,ENTRIES_Day2_UNION_ST,ENTRIES_Day3_UNION_ST,ENTRIES_Day4_UNION_ST,ENTRIES_Day5_UNION_ST,ENTRIES_Day6_UNION_ST,ENTRIES_Day7_UNION_ST],'GRAHAM AV':[ENTRIES_Day1_GRAHAM_AV,ENTRIES_Day2_GRAHAM_AV,ENTRIES_Day3_GRAHAM_AV,ENTRIES_Day4_GRAHAM_AV,ENTRIES_Day5_GRAHAM_AV,ENTRIES_Day6_GRAHAM_AV,ENTRIES_Day7_GRAHAM_AV],'RALPH AV':[ENTRIES_Day1_RALPH_AV,ENTRIES_Day2_RALPH_AV,ENTRIES_Day3_RALPH_AV,ENTRIES_Day4_RALPH_AV,ENTRIES_Day5_RALPH_AV,ENTRIES_Day6_RALPH_AV,ENTRIES_Day7_RALPH_AV] }\n",
        "Entries = pd.DataFrame(d1)"
      ],
      "execution_count": 128,
      "outputs": []
    },
    {
      "cell_type": "code",
      "metadata": {
        "colab": {
          "base_uri": "https://localhost:8080/",
          "height": 263
        },
        "id": "GQCepo1pDsIV",
        "outputId": "7d7d0ec5-33d6-457b-bfbf-be655f4c9ea1"
      },
      "source": [
        "Entries"
      ],
      "execution_count": 129,
      "outputs": [
        {
          "output_type": "execute_result",
          "data": {
            "text/html": [
              "<div>\n",
              "<style scoped>\n",
              "    .dataframe tbody tr th:only-of-type {\n",
              "        vertical-align: middle;\n",
              "    }\n",
              "\n",
              "    .dataframe tbody tr th {\n",
              "        vertical-align: top;\n",
              "    }\n",
              "\n",
              "    .dataframe thead th {\n",
              "        text-align: right;\n",
              "    }\n",
              "</style>\n",
              "<table border=\"1\" class=\"dataframe\">\n",
              "  <thead>\n",
              "    <tr style=\"text-align: right;\">\n",
              "      <th></th>\n",
              "      <th>DAY</th>\n",
              "      <th>UNION ST</th>\n",
              "      <th>GRAHAM AV</th>\n",
              "      <th>RALPH AV</th>\n",
              "    </tr>\n",
              "  </thead>\n",
              "  <tbody>\n",
              "    <tr>\n",
              "      <th>0</th>\n",
              "      <td>1</td>\n",
              "      <td>4202.0</td>\n",
              "      <td>3954.0</td>\n",
              "      <td>3891.0</td>\n",
              "    </tr>\n",
              "    <tr>\n",
              "      <th>1</th>\n",
              "      <td>2</td>\n",
              "      <td>3257.0</td>\n",
              "      <td>2702.0</td>\n",
              "      <td>3123.0</td>\n",
              "    </tr>\n",
              "    <tr>\n",
              "      <th>2</th>\n",
              "      <td>3</td>\n",
              "      <td>6696.0</td>\n",
              "      <td>8420.0</td>\n",
              "      <td>5345.0</td>\n",
              "    </tr>\n",
              "    <tr>\n",
              "      <th>3</th>\n",
              "      <td>4</td>\n",
              "      <td>6835.0</td>\n",
              "      <td>8861.0</td>\n",
              "      <td>5586.0</td>\n",
              "    </tr>\n",
              "    <tr>\n",
              "      <th>4</th>\n",
              "      <td>5</td>\n",
              "      <td>7099.0</td>\n",
              "      <td>9127.0</td>\n",
              "      <td>5846.0</td>\n",
              "    </tr>\n",
              "    <tr>\n",
              "      <th>5</th>\n",
              "      <td>6</td>\n",
              "      <td>7264.0</td>\n",
              "      <td>9058.0</td>\n",
              "      <td>5612.0</td>\n",
              "    </tr>\n",
              "    <tr>\n",
              "      <th>6</th>\n",
              "      <td>7</td>\n",
              "      <td>6629.0</td>\n",
              "      <td>8926.0</td>\n",
              "      <td>5729.0</td>\n",
              "    </tr>\n",
              "  </tbody>\n",
              "</table>\n",
              "</div>"
            ],
            "text/plain": [
              "  DAY  UNION ST  GRAHAM AV  RALPH AV\n",
              "0   1    4202.0     3954.0    3891.0\n",
              "1   2    3257.0     2702.0    3123.0\n",
              "2   3    6696.0     8420.0    5345.0\n",
              "3   4    6835.0     8861.0    5586.0\n",
              "4   5    7099.0     9127.0    5846.0\n",
              "5   6    7264.0     9058.0    5612.0\n",
              "6   7    6629.0     8926.0    5729.0"
            ]
          },
          "metadata": {},
          "execution_count": 129
        }
      ]
    },
    {
      "cell_type": "code",
      "metadata": {
        "id": "JTbzEj05DuFu"
      },
      "source": [
        ""
      ],
      "execution_count": 129,
      "outputs": []
    },
    {
      "cell_type": "code",
      "metadata": {
        "colab": {
          "base_uri": "https://localhost:8080/"
        },
        "id": "yFIllEUCJc-G",
        "outputId": "1676b92e-b020-477c-f2f9-9bc082cbf216"
      },
      "source": [
        "Entries['UNION ST'].sum()"
      ],
      "execution_count": 130,
      "outputs": [
        {
          "output_type": "execute_result",
          "data": {
            "text/plain": [
              "41982.0"
            ]
          },
          "metadata": {},
          "execution_count": 130
        }
      ]
    },
    {
      "cell_type": "code",
      "metadata": {
        "colab": {
          "base_uri": "https://localhost:8080/",
          "height": 526
        },
        "id": "alnL5DwAApUS",
        "outputId": "d8106a2b-1362-492b-9810-509626523f3f"
      },
      "source": [
        "Entries.plot(x='DAY',kind = 'bar')\n",
        "plt.xlabel(' Days')\n",
        "plt.ylabel(' Number of passengers')\n",
        "plt.title('\"ENTER\" Passenger traffic per 7 days')\n",
        "fig = plt.gcf()\n",
        "fig.set_size_inches(15, 8)\n",
        "plt.show()\n",
        "plt.savefig('ENTER Passenger traffic per 7 days.png', dpi=100)"
      ],
      "execution_count": 160,
      "outputs": [
        {
          "output_type": "display_data",
          "data": {
            "image/png": "[encoded data removed]",
            "text/plain": [
              "<Figure size 1080x576 with 1 Axes>"
            ]
          },
          "metadata": {
            "needs_background": "light"
          }
        },
        {
          "output_type": "display_data",
          "data": {
            "text/plain": [
              "<Figure size 432x288 with 0 Axes>"
            ]
          },
          "metadata": {}
        }
      ]
    },
    {
      "cell_type": "code",
      "metadata": {
        "colab": {
          "base_uri": "https://localhost:8080/",
          "height": 513
        },
        "id": "9dGtDnHCeo4O",
        "outputId": "08a11748-cecd-43c2-d40d-4b40bfae92c1"
      },
      "source": [
        "Entries.plot(x='DAY')\n",
        "plt.xlabel(' Days')\n",
        "plt.ylabel(' Number of passengers')\n",
        "plt.title('\"ENTER\" Passenger traffic per 7 days')\n",
        "fig = plt.gcf()\n",
        "fig.set_size_inches(15, 8)\n",
        "plt.savefig('ENTER Passenger traffic per 7 days(graph).png', dpi=100)\n",
        "plt.show()"
      ],
      "execution_count": 161,
      "outputs": [
        {
          "output_type": "display_data",
          "data": {
            "image/png": "[encoded data removed]",
            "text/plain": [
              "<Figure size 1080x576 with 1 Axes>"
            ]
          },
          "metadata": {
            "needs_background": "light"
          }
        }
      ]
    },
    {
      "cell_type": "code",
      "metadata": {
        "colab": {
          "base_uri": "https://localhost:8080/",
          "height": 482
        },
        "id": "jzMZ_48cCtPK",
        "outputId": "93ec4188-adb2-4d12-b2c1-1c5b9d4ea8fb"
      },
      "source": [
        "plt.pie(Entries['UNION ST'], labels=['Saturday','Sunday','Moday','Tusday','Wensday','Thursday','Friday'],explode = [0, 0, 0, 0, 0, 0.4, 0],autopct='%1.1f%%', shadow=True, startangle=90);\n",
        "plt.title('\"ENTER\" Passenger traffic on \"UNION ST\" station ');\n",
        "fig = plt.gcf()\n",
        "fig.set_size_inches(15, 8)\n",
        "plt.savefig('ENTER Passenger traffic on \"UNION ST\" station.png', dpi=100)\n",
        "plt.show()\n",
        "\n"
      ],
      "execution_count": 162,
      "outputs": [
        {
          "output_type": "display_data",
          "data": {
            "image/png": "[encoded data removed]",
            "text/plain": [
              "<Figure size 1080x576 with 1 Axes>"
            ]
          },
          "metadata": {}
        }
      ]
    },
    {
      "cell_type": "code",
      "metadata": {
        "colab": {
          "base_uri": "https://localhost:8080/",
          "height": 513
        },
        "id": "5mRr0Mpmf3n6",
        "outputId": "95af4287-d044-4a70-967a-028dd9bde2fc"
      },
      "source": [
        "plt.pie(Entries['GRAHAM AV'], labels=['Saturday','Sunday','Moday','Tusday','Wensday','Thursday','Friday'],explode = [0, 0, 0, 0, 0.4, 0, 0],autopct='%1.1f%%', shadow=True, startangle=90);\n",
        "plt.title('\"ENTER\" Passenger traffic on \"GRAHAM AV\" station ');\n",
        "fig = plt.gcf()\n",
        "fig.set_size_inches(15, 8)\n",
        "plt.savefig('ENTER Passenger traffic on \"GRAHAM AV\" station.png', dpi=100)\n",
        "plt.show()"
      ],
      "execution_count": 163,
      "outputs": [
        {
          "output_type": "display_data",
          "data": {
            "image/png": "[encoded data removed]",
            "text/plain": [
              "<Figure size 1080x576 with 1 Axes>"
            ]
          },
          "metadata": {}
        }
      ]
    },
    {
      "cell_type": "code",
      "metadata": {
        "id": "zgJXJocKpH09",
        "colab": {
          "base_uri": "https://localhost:8080/",
          "height": 498
        },
        "outputId": "4130e113-2444-4949-e393-8d2ae1a1c919"
      },
      "source": [
        "fig = plt.gcf()\n",
        "fig.set_size_inches(15, 8)\n",
        "plt.pie(Entries['RALPH AV'], labels=['Saturday','Sunday','Moday','Tusday','Wensday','Thursday','Friday'],explode = [0, 0, 0, 0, 0.4, 0, 0],autopct='%1.1f%%', shadow=True, startangle=90);\n",
        "plt.title('\"ENTER\" Passenger traffic on \"RALPH AV\" station ');\n",
        "plt.savefig('ENTER Passenger traffic on \"RALPH AV\" station.png', dpi=100)\n",
        "plt.show()"
      ],
      "execution_count": 164,
      "outputs": [
        {
          "output_type": "display_data",
          "data": {
            "image/png": "[encoded data removed]",
            "text/plain": [
              "<Figure size 1080x576 with 1 Axes>"
            ]
          },
          "metadata": {}
        }
      ]
    },
    {
      "cell_type": "code",
      "metadata": {
        "id": "k0xrGClgwQp_"
      },
      "source": [
        ""
      ],
      "execution_count": 135,
      "outputs": []
    },
    {
      "cell_type": "markdown",
      "metadata": {
        "id": "YpT1Gqan6vP-"
      },
      "source": [
        "#Exit (All Stations)"
      ]
    },
    {
      "cell_type": "code",
      "metadata": {
        "id": "t3uChwkH65FI"
      },
      "source": [
        "d1 = {\"DAY\":[\"1\",'2','3','4','5','6','7'], \"UNION ST\":[Exits_Day1_UNION_ST,Exits_Day2_UNION_ST,Exits_Day3_UNION_ST,Exits_Day4_UNION_ST,Exits_Day5_UNION_ST,Exits_Day6_UNION_ST,Exits_Day7_UNION_ST],'GRAHAM AV':[Exits_Day1_GRAHAM_AV,Exits_Day2_GRAHAM_AV,Exits_Day3_GRAHAM_AV,Exits_Day4_GRAHAM_AV,Exits_Day5_GRAHAM_AV,Exits_Day6_GRAHAM_AV,Exits_Day7_GRAHAM_AV],'RALPH AV':[Exits_Day1_RALPH_AV,Exits_Day2_RALPH_AV,Exits_Day3_RALPH_AV,Exits_Day4_RALPH_AV,Exits_Day5_RALPH_AV,Exits_Day6_RALPH_AV,Exits_Day7_RALPH_AV] }\n",
        "Exits = pd.DataFrame(d1)"
      ],
      "execution_count": 136,
      "outputs": []
    },
    {
      "cell_type": "code",
      "metadata": {
        "colab": {
          "base_uri": "https://localhost:8080/",
          "height": 263
        },
        "id": "dH9HKJX07sMR",
        "outputId": "e0da3907-3629-4527-83fb-ea8d19b60967"
      },
      "source": [
        "Exits"
      ],
      "execution_count": 137,
      "outputs": [
        {
          "output_type": "execute_result",
          "data": {
            "text/html": [
              "<div>\n",
              "<style scoped>\n",
              "    .dataframe tbody tr th:only-of-type {\n",
              "        vertical-align: middle;\n",
              "    }\n",
              "\n",
              "    .dataframe tbody tr th {\n",
              "        vertical-align: top;\n",
              "    }\n",
              "\n",
              "    .dataframe thead th {\n",
              "        text-align: right;\n",
              "    }\n",
              "</style>\n",
              "<table border=\"1\" class=\"dataframe\">\n",
              "  <thead>\n",
              "    <tr style=\"text-align: right;\">\n",
              "      <th></th>\n",
              "      <th>DAY</th>\n",
              "      <th>UNION ST</th>\n",
              "      <th>GRAHAM AV</th>\n",
              "      <th>RALPH AV</th>\n",
              "    </tr>\n",
              "  </thead>\n",
              "  <tbody>\n",
              "    <tr>\n",
              "      <th>0</th>\n",
              "      <td>1</td>\n",
              "      <td>3612.0</td>\n",
              "      <td>2564.0</td>\n",
              "      <td>1694.0</td>\n",
              "    </tr>\n",
              "    <tr>\n",
              "      <th>1</th>\n",
              "      <td>2</td>\n",
              "      <td>2491.0</td>\n",
              "      <td>2103.0</td>\n",
              "      <td>1491.0</td>\n",
              "    </tr>\n",
              "    <tr>\n",
              "      <th>2</th>\n",
              "      <td>3</td>\n",
              "      <td>4529.0</td>\n",
              "      <td>5205.0</td>\n",
              "      <td>2570.0</td>\n",
              "    </tr>\n",
              "    <tr>\n",
              "      <th>3</th>\n",
              "      <td>4</td>\n",
              "      <td>4577.0</td>\n",
              "      <td>4813.0</td>\n",
              "      <td>2326.0</td>\n",
              "    </tr>\n",
              "    <tr>\n",
              "      <th>4</th>\n",
              "      <td>5</td>\n",
              "      <td>4932.0</td>\n",
              "      <td>5059.0</td>\n",
              "      <td>2681.0</td>\n",
              "    </tr>\n",
              "    <tr>\n",
              "      <th>5</th>\n",
              "      <td>6</td>\n",
              "      <td>5028.0</td>\n",
              "      <td>4887.0</td>\n",
              "      <td>2451.0</td>\n",
              "    </tr>\n",
              "    <tr>\n",
              "      <th>6</th>\n",
              "      <td>7</td>\n",
              "      <td>4847.0</td>\n",
              "      <td>5183.0</td>\n",
              "      <td>2621.0</td>\n",
              "    </tr>\n",
              "  </tbody>\n",
              "</table>\n",
              "</div>"
            ],
            "text/plain": [
              "  DAY  UNION ST  GRAHAM AV  RALPH AV\n",
              "0   1    3612.0     2564.0    1694.0\n",
              "1   2    2491.0     2103.0    1491.0\n",
              "2   3    4529.0     5205.0    2570.0\n",
              "3   4    4577.0     4813.0    2326.0\n",
              "4   5    4932.0     5059.0    2681.0\n",
              "5   6    5028.0     4887.0    2451.0\n",
              "6   7    4847.0     5183.0    2621.0"
            ]
          },
          "metadata": {},
          "execution_count": 137
        }
      ]
    },
    {
      "cell_type": "code",
      "metadata": {
        "colab": {
          "base_uri": "https://localhost:8080/",
          "height": 508
        },
        "id": "tLEwWlCs9U7Z",
        "outputId": "bbf81cbf-835d-4a28-81e1-32d426fa17f6"
      },
      "source": [
        "Exits.plot(x='DAY',kind = 'bar')\n",
        "plt.xlabel(' Days')\n",
        "plt.ylabel(' Number of passengers')\n",
        "plt.title('\"EXIT\" Passenger traffic per 7 days')\n",
        "fig = plt.gcf()\n",
        "fig.set_size_inches(15, 8)\n",
        "plt.savefig('ENTER Passenger traffic on \"RALPH AV\" station.png', dpi=100)\n",
        "plt.show()\n"
      ],
      "execution_count": 138,
      "outputs": [
        {
          "output_type": "display_data",
          "data": {
            "image/png": "[encoded data removed]",
            "text/plain": [
              "<Figure size 1080x576 with 1 Axes>"
            ]
          },
          "metadata": {
            "needs_background": "light"
          }
        }
      ]
    },
    {
      "cell_type": "code",
      "metadata": {
        "colab": {
          "base_uri": "https://localhost:8080/",
          "height": 513
        },
        "id": "VeKytnXGeWMb",
        "outputId": "20c2528f-6172-4012-a90b-418180fd8afe"
      },
      "source": [
        "Exits.plot(x='DAY')\n",
        "plt.xlabel(' Days')\n",
        "plt.ylabel(' Number of passengers')\n",
        "plt.title('\"EXIT\" Passenger traffic per 7 days')\n",
        "fig = plt.gcf()\n",
        "fig.set_size_inches(15, 8)\n",
        "plt.show()"
      ],
      "execution_count": 139,
      "outputs": [
        {
          "output_type": "display_data",
          "data": {
            "image/png": "[encoded data removed]",
            "text/plain": [
              "<Figure size 1080x576 with 1 Axes>"
            ]
          },
          "metadata": {
            "needs_background": "light"
          }
        }
      ]
    },
    {
      "cell_type": "code",
      "metadata": {
        "colab": {
          "base_uri": "https://localhost:8080/",
          "height": 482
        },
        "id": "9UNOVaHZ90cM",
        "outputId": "18209ce0-e46b-4b29-f941-d61960811bf8"
      },
      "source": [
        "plt.pie(Exits['UNION ST'], labels=['Saturday','Sunday','Moday','Tusday','Wensday','Thursday','Friday'],explode = [0, 0, 0, 0, 0, 0.2, 0],autopct='%1.1f%%', shadow=True, startangle=90);\n",
        "plt.title('\"Exits\" Passenger traffic on \"UNION ST\" station ');\n",
        "fig = plt.gcf()\n",
        "fig.set_size_inches(15, 8)\n",
        "plt.savefig('EXIT Passenger traffic on \"UNION ST\" station.png', dpi=100)\n",
        "plt.show()\n",
        "\n"
      ],
      "execution_count": 165,
      "outputs": [
        {
          "output_type": "display_data",
          "data": {
            "image/png": "[encoded data removed]",
            "text/plain": [
              "<Figure size 1080x576 with 1 Axes>"
            ]
          },
          "metadata": {}
        }
      ]
    },
    {
      "cell_type": "code",
      "metadata": {
        "colab": {
          "base_uri": "https://localhost:8080/",
          "height": 482
        },
        "id": "OSIjcCHHeBYB",
        "outputId": "5277fce8-deac-4805-e1f5-f73c244e2af5"
      },
      "source": [
        "plt.pie(Exits['GRAHAM AV'], labels=['Saturday','Sunday','Moday','Tusday','Wensday','Thursday','Friday'],explode = [0, 0, 0, 0, 0, 0, 0.2],autopct='%1.1f%%', shadow=True, startangle=90);\n",
        "plt.title('\"Exits\" Passenger traffic on \"GRAHAM AV\" station ');\n",
        "fig = plt.gcf()\n",
        "fig.set_size_inches(15, 8)\n",
        "plt.savefig('EXIT Passenger traffic on \"GRAHAM AV\" station.png', dpi=100)\n",
        "plt.show()"
      ],
      "execution_count": 166,
      "outputs": [
        {
          "output_type": "display_data",
          "data": {
            "image/png": "[encoded data removed]",
            "text/plain": [
              "<Figure size 1080x576 with 1 Axes>"
            ]
          },
          "metadata": {}
        }
      ]
    },
    {
      "cell_type": "code",
      "metadata": {
        "colab": {
          "base_uri": "https://localhost:8080/",
          "height": 482
        },
        "id": "DNx0etOxeFeJ",
        "outputId": "0cec2e5a-9d88-4be8-b8f4-2dbc7eba43b2"
      },
      "source": [
        "plt.pie(Exits['RALPH AV'], labels=['Saturday','Sunday','Moday','Tusday','Wensday','Thursday','Friday'],explode = [0, 0, 0, 0, 0.2, 0, 0],autopct='%1.1f%%', shadow=True, startangle=90);\n",
        "plt.title('\"Exits\" Passenger traffic on \"RALPH AV\" station ');\n",
        "fig = plt.gcf()\n",
        "fig.set_size_inches(15, 8)\n",
        "plt.savefig('EXIT Passenger traffic on \"RALPH AV\" station.png', dpi=100)\n",
        "plt.show()"
      ],
      "execution_count": 167,
      "outputs": [
        {
          "output_type": "display_data",
          "data": {
            "image/png": "[encoded data removed]",
            "text/plain": [
              "<Figure size 1080x576 with 1 Axes>"
            ]
          },
          "metadata": {}
        }
      ]
    },
    {
      "cell_type": "code",
      "metadata": {
        "id": "AZDy0mAneGLV"
      },
      "source": [
        ""
      ],
      "execution_count": 142,
      "outputs": []
    },
    {
      "cell_type": "markdown",
      "metadata": {
        "id": "nvqGMAVE9oDs"
      },
      "source": [
        "#ENTERS adn EXITS"
      ]
    },
    {
      "cell_type": "code",
      "metadata": {
        "id": "rE1acbYSeARY"
      },
      "source": [
        ""
      ],
      "execution_count": 142,
      "outputs": []
    },
    {
      "cell_type": "code",
      "metadata": {
        "colab": {
          "base_uri": "https://localhost:8080/",
          "height": 263
        },
        "id": "dm89iT_S9zaY",
        "outputId": "6609007c-9d0d-4857-da1f-0b1722351868"
      },
      "source": [
        "Exits"
      ],
      "execution_count": 143,
      "outputs": [
        {
          "output_type": "execute_result",
          "data": {
            "text/html": [
              "<div>\n",
              "<style scoped>\n",
              "    .dataframe tbody tr th:only-of-type {\n",
              "        vertical-align: middle;\n",
              "    }\n",
              "\n",
              "    .dataframe tbody tr th {\n",
              "        vertical-align: top;\n",
              "    }\n",
              "\n",
              "    .dataframe thead th {\n",
              "        text-align: right;\n",
              "    }\n",
              "</style>\n",
              "<table border=\"1\" class=\"dataframe\">\n",
              "  <thead>\n",
              "    <tr style=\"text-align: right;\">\n",
              "      <th></th>\n",
              "      <th>DAY</th>\n",
              "      <th>UNION ST</th>\n",
              "      <th>GRAHAM AV</th>\n",
              "      <th>RALPH AV</th>\n",
              "    </tr>\n",
              "  </thead>\n",
              "  <tbody>\n",
              "    <tr>\n",
              "      <th>0</th>\n",
              "      <td>1</td>\n",
              "      <td>3612.0</td>\n",
              "      <td>2564.0</td>\n",
              "      <td>1694.0</td>\n",
              "    </tr>\n",
              "    <tr>\n",
              "      <th>1</th>\n",
              "      <td>2</td>\n",
              "      <td>2491.0</td>\n",
              "      <td>2103.0</td>\n",
              "      <td>1491.0</td>\n",
              "    </tr>\n",
              "    <tr>\n",
              "      <th>2</th>\n",
              "      <td>3</td>\n",
              "      <td>4529.0</td>\n",
              "      <td>5205.0</td>\n",
              "      <td>2570.0</td>\n",
              "    </tr>\n",
              "    <tr>\n",
              "      <th>3</th>\n",
              "      <td>4</td>\n",
              "      <td>4577.0</td>\n",
              "      <td>4813.0</td>\n",
              "      <td>2326.0</td>\n",
              "    </tr>\n",
              "    <tr>\n",
              "      <th>4</th>\n",
              "      <td>5</td>\n",
              "      <td>4932.0</td>\n",
              "      <td>5059.0</td>\n",
              "      <td>2681.0</td>\n",
              "    </tr>\n",
              "    <tr>\n",
              "      <th>5</th>\n",
              "      <td>6</td>\n",
              "      <td>5028.0</td>\n",
              "      <td>4887.0</td>\n",
              "      <td>2451.0</td>\n",
              "    </tr>\n",
              "    <tr>\n",
              "      <th>6</th>\n",
              "      <td>7</td>\n",
              "      <td>4847.0</td>\n",
              "      <td>5183.0</td>\n",
              "      <td>2621.0</td>\n",
              "    </tr>\n",
              "  </tbody>\n",
              "</table>\n",
              "</div>"
            ],
            "text/plain": [
              "  DAY  UNION ST  GRAHAM AV  RALPH AV\n",
              "0   1    3612.0     2564.0    1694.0\n",
              "1   2    2491.0     2103.0    1491.0\n",
              "2   3    4529.0     5205.0    2570.0\n",
              "3   4    4577.0     4813.0    2326.0\n",
              "4   5    4932.0     5059.0    2681.0\n",
              "5   6    5028.0     4887.0    2451.0\n",
              "6   7    4847.0     5183.0    2621.0"
            ]
          },
          "metadata": {},
          "execution_count": 143
        }
      ]
    },
    {
      "cell_type": "code",
      "metadata": {
        "id": "onYa3l2WPBXa",
        "colab": {
          "base_uri": "https://localhost:8080/",
          "height": 263
        },
        "outputId": "6b789717-013d-4345-d5f2-95011d19d6d4"
      },
      "source": [
        "Entries\n"
      ],
      "execution_count": 144,
      "outputs": [
        {
          "output_type": "execute_result",
          "data": {
            "text/html": [
              "<div>\n",
              "<style scoped>\n",
              "    .dataframe tbody tr th:only-of-type {\n",
              "        vertical-align: middle;\n",
              "    }\n",
              "\n",
              "    .dataframe tbody tr th {\n",
              "        vertical-align: top;\n",
              "    }\n",
              "\n",
              "    .dataframe thead th {\n",
              "        text-align: right;\n",
              "    }\n",
              "</style>\n",
              "<table border=\"1\" class=\"dataframe\">\n",
              "  <thead>\n",
              "    <tr style=\"text-align: right;\">\n",
              "      <th></th>\n",
              "      <th>DAY</th>\n",
              "      <th>UNION ST</th>\n",
              "      <th>GRAHAM AV</th>\n",
              "      <th>RALPH AV</th>\n",
              "    </tr>\n",
              "  </thead>\n",
              "  <tbody>\n",
              "    <tr>\n",
              "      <th>0</th>\n",
              "      <td>1</td>\n",
              "      <td>4202.0</td>\n",
              "      <td>3954.0</td>\n",
              "      <td>3891.0</td>\n",
              "    </tr>\n",
              "    <tr>\n",
              "      <th>1</th>\n",
              "      <td>2</td>\n",
              "      <td>3257.0</td>\n",
              "      <td>2702.0</td>\n",
              "      <td>3123.0</td>\n",
              "    </tr>\n",
              "    <tr>\n",
              "      <th>2</th>\n",
              "      <td>3</td>\n",
              "      <td>6696.0</td>\n",
              "      <td>8420.0</td>\n",
              "      <td>5345.0</td>\n",
              "    </tr>\n",
              "    <tr>\n",
              "      <th>3</th>\n",
              "      <td>4</td>\n",
              "      <td>6835.0</td>\n",
              "      <td>8861.0</td>\n",
              "      <td>5586.0</td>\n",
              "    </tr>\n",
              "    <tr>\n",
              "      <th>4</th>\n",
              "      <td>5</td>\n",
              "      <td>7099.0</td>\n",
              "      <td>9127.0</td>\n",
              "      <td>5846.0</td>\n",
              "    </tr>\n",
              "    <tr>\n",
              "      <th>5</th>\n",
              "      <td>6</td>\n",
              "      <td>7264.0</td>\n",
              "      <td>9058.0</td>\n",
              "      <td>5612.0</td>\n",
              "    </tr>\n",
              "    <tr>\n",
              "      <th>6</th>\n",
              "      <td>7</td>\n",
              "      <td>6629.0</td>\n",
              "      <td>8926.0</td>\n",
              "      <td>5729.0</td>\n",
              "    </tr>\n",
              "  </tbody>\n",
              "</table>\n",
              "</div>"
            ],
            "text/plain": [
              "  DAY  UNION ST  GRAHAM AV  RALPH AV\n",
              "0   1    4202.0     3954.0    3891.0\n",
              "1   2    3257.0     2702.0    3123.0\n",
              "2   3    6696.0     8420.0    5345.0\n",
              "3   4    6835.0     8861.0    5586.0\n",
              "4   5    7099.0     9127.0    5846.0\n",
              "5   6    7264.0     9058.0    5612.0\n",
              "6   7    6629.0     8926.0    5729.0"
            ]
          },
          "metadata": {},
          "execution_count": 144
        }
      ]
    },
    {
      "cell_type": "code",
      "metadata": {
        "id": "tMAMNJyHRtQT"
      },
      "source": [
        "unst1 = pd.concat([Exits[\"DAY\"],Exits[\"UNION ST\"],Entries[\"UNION ST\"],Exits[\"GRAHAM AV\"],Entries[\"GRAHAM AV\"],Exits[\"RALPH AV\"],Entries[\"RALPH AV\"]], axis=1)\n"
      ],
      "execution_count": 145,
      "outputs": []
    },
    {
      "cell_type": "code",
      "metadata": {
        "colab": {
          "base_uri": "https://localhost:8080/",
          "height": 263
        },
        "id": "gPW2OtQRTyXd",
        "outputId": "6dbd43c9-61e9-41b0-e71d-8b601e433291"
      },
      "source": [
        "unst1"
      ],
      "execution_count": 146,
      "outputs": [
        {
          "output_type": "execute_result",
          "data": {
            "text/html": [
              "<div>\n",
              "<style scoped>\n",
              "    .dataframe tbody tr th:only-of-type {\n",
              "        vertical-align: middle;\n",
              "    }\n",
              "\n",
              "    .dataframe tbody tr th {\n",
              "        vertical-align: top;\n",
              "    }\n",
              "\n",
              "    .dataframe thead th {\n",
              "        text-align: right;\n",
              "    }\n",
              "</style>\n",
              "<table border=\"1\" class=\"dataframe\">\n",
              "  <thead>\n",
              "    <tr style=\"text-align: right;\">\n",
              "      <th></th>\n",
              "      <th>DAY</th>\n",
              "      <th>UNION ST</th>\n",
              "      <th>UNION ST</th>\n",
              "      <th>GRAHAM AV</th>\n",
              "      <th>GRAHAM AV</th>\n",
              "      <th>RALPH AV</th>\n",
              "      <th>RALPH AV</th>\n",
              "    </tr>\n",
              "  </thead>\n",
              "  <tbody>\n",
              "    <tr>\n",
              "      <th>0</th>\n",
              "      <td>1</td>\n",
              "      <td>3612.0</td>\n",
              "      <td>4202.0</td>\n",
              "      <td>2564.0</td>\n",
              "      <td>3954.0</td>\n",
              "      <td>1694.0</td>\n",
              "      <td>3891.0</td>\n",
              "    </tr>\n",
              "    <tr>\n",
              "      <th>1</th>\n",
              "      <td>2</td>\n",
              "      <td>2491.0</td>\n",
              "      <td>3257.0</td>\n",
              "      <td>2103.0</td>\n",
              "      <td>2702.0</td>\n",
              "      <td>1491.0</td>\n",
              "      <td>3123.0</td>\n",
              "    </tr>\n",
              "    <tr>\n",
              "      <th>2</th>\n",
              "      <td>3</td>\n",
              "      <td>4529.0</td>\n",
              "      <td>6696.0</td>\n",
              "      <td>5205.0</td>\n",
              "      <td>8420.0</td>\n",
              "      <td>2570.0</td>\n",
              "      <td>5345.0</td>\n",
              "    </tr>\n",
              "    <tr>\n",
              "      <th>3</th>\n",
              "      <td>4</td>\n",
              "      <td>4577.0</td>\n",
              "      <td>6835.0</td>\n",
              "      <td>4813.0</td>\n",
              "      <td>8861.0</td>\n",
              "      <td>2326.0</td>\n",
              "      <td>5586.0</td>\n",
              "    </tr>\n",
              "    <tr>\n",
              "      <th>4</th>\n",
              "      <td>5</td>\n",
              "      <td>4932.0</td>\n",
              "      <td>7099.0</td>\n",
              "      <td>5059.0</td>\n",
              "      <td>9127.0</td>\n",
              "      <td>2681.0</td>\n",
              "      <td>5846.0</td>\n",
              "    </tr>\n",
              "    <tr>\n",
              "      <th>5</th>\n",
              "      <td>6</td>\n",
              "      <td>5028.0</td>\n",
              "      <td>7264.0</td>\n",
              "      <td>4887.0</td>\n",
              "      <td>9058.0</td>\n",
              "      <td>2451.0</td>\n",
              "      <td>5612.0</td>\n",
              "    </tr>\n",
              "    <tr>\n",
              "      <th>6</th>\n",
              "      <td>7</td>\n",
              "      <td>4847.0</td>\n",
              "      <td>6629.0</td>\n",
              "      <td>5183.0</td>\n",
              "      <td>8926.0</td>\n",
              "      <td>2621.0</td>\n",
              "      <td>5729.0</td>\n",
              "    </tr>\n",
              "  </tbody>\n",
              "</table>\n",
              "</div>"
            ],
            "text/plain": [
              "  DAY  UNION ST  UNION ST  GRAHAM AV  GRAHAM AV  RALPH AV  RALPH AV\n",
              "0   1    3612.0    4202.0     2564.0     3954.0    1694.0    3891.0\n",
              "1   2    2491.0    3257.0     2103.0     2702.0    1491.0    3123.0\n",
              "2   3    4529.0    6696.0     5205.0     8420.0    2570.0    5345.0\n",
              "3   4    4577.0    6835.0     4813.0     8861.0    2326.0    5586.0\n",
              "4   5    4932.0    7099.0     5059.0     9127.0    2681.0    5846.0\n",
              "5   6    5028.0    7264.0     4887.0     9058.0    2451.0    5612.0\n",
              "6   7    4847.0    6629.0     5183.0     8926.0    2621.0    5729.0"
            ]
          },
          "metadata": {},
          "execution_count": 146
        }
      ]
    },
    {
      "cell_type": "code",
      "metadata": {
        "id": "rVVg4AaiT92n"
      },
      "source": [
        "unst1.columns = ['DAY','UNION ST EXIT', 'UNION ST ENTER','GRAHAM AV EXIT','GRAHAM AV ENTER','RALPH AV EXIT','RALPH AV ENTER']"
      ],
      "execution_count": 147,
      "outputs": []
    },
    {
      "cell_type": "code",
      "metadata": {
        "colab": {
          "base_uri": "https://localhost:8080/",
          "height": 52
        },
        "id": "Jhw_laAFatm9",
        "outputId": "d3e596b6-c66a-4eef-b9a7-2931692686f3"
      },
      "source": [
        "from matplotlib.pyplot import figure\n",
        "\n",
        "figure(figsize=(8, 6), dpi=80)"
      ],
      "execution_count": 148,
      "outputs": [
        {
          "output_type": "execute_result",
          "data": {
            "text/plain": [
              "<Figure size 640x480 with 0 Axes>"
            ]
          },
          "metadata": {},
          "execution_count": 148
        },
        {
          "output_type": "display_data",
          "data": {
            "text/plain": [
              "<Figure size 640x480 with 0 Axes>"
            ]
          },
          "metadata": {}
        }
      ]
    },
    {
      "cell_type": "code",
      "metadata": {
        "colab": {
          "base_uri": "https://localhost:8080/",
          "height": 493
        },
        "id": "SxhSU6RkUeqY",
        "outputId": "65ea4dfd-3590-4ff2-a495-38932834f146"
      },
      "source": [
        "\n",
        "unst1.plot(x='DAY',kind = 'bar')\n",
        "fig = plt.gcf()\n",
        "fig.set_size_inches(15, 8)\n",
        "plt.savefig('1.png', dpi=100)"
      ],
      "execution_count": 149,
      "outputs": [
        {
          "output_type": "display_data",
          "data": {
            "image/png": "[encoded data removed]",
            "text/plain": [
              "<Figure size 1080x576 with 1 Axes>"
            ]
          },
          "metadata": {
            "needs_background": "light"
          }
        }
      ]
    },
    {
      "cell_type": "code",
      "metadata": {
        "colab": {
          "base_uri": "https://localhost:8080/",
          "height": 508
        },
        "id": "Gmi2JdTtV5Wx",
        "outputId": "a92d909a-1d1b-47c0-b227-0fb24a78cb44"
      },
      "source": [
        "unst1[['DAY','UNION ST EXIT','UNION ST ENTER']].plot(x='DAY',kind = 'bar')\n",
        "plt.xlabel(' Days')\n",
        "plt.ylabel(' Number of passengers')\n",
        "plt.title('Passenger traffic on \"UNION ST\" station per 7 days')\n",
        "fig = plt.gcf()\n",
        "fig.set_size_inches(15, 8)\n",
        "plt.show()"
      ],
      "execution_count": 150,
      "outputs": [
        {
          "output_type": "display_data",
          "data": {
            "image/png": "[encoded data removed]",
            "text/plain": [
              "<Figure size 1080x576 with 1 Axes>"
            ]
          },
          "metadata": {
            "needs_background": "light"
          }
        }
      ]
    },
    {
      "cell_type": "code",
      "metadata": {
        "colab": {
          "base_uri": "https://localhost:8080/",
          "height": 508
        },
        "id": "l32-5Ky0V8ut",
        "outputId": "88cf7e5a-3beb-4fbe-880f-d9e62d373fa8"
      },
      "source": [
        "unst1[['DAY','GRAHAM AV EXIT','GRAHAM AV ENTER']].plot(x='DAY',kind = 'bar')\n",
        "plt.xlabel(' Days')\n",
        "plt.ylabel(' Number of passengers')\n",
        "plt.title('Passenger traffic on \"GRAHAM AV\" station per 7 days')\n",
        "fig = plt.gcf()\n",
        "fig.set_size_inches(15, 8)\n",
        "plt.show()"
      ],
      "execution_count": 151,
      "outputs": [
        {
          "output_type": "display_data",
          "data": {
            "image/png": "[encoded data removed]",
            "text/plain": [
              "<Figure size 1080x576 with 1 Axes>"
            ]
          },
          "metadata": {
            "needs_background": "light"
          }
        }
      ]
    },
    {
      "cell_type": "code",
      "metadata": {
        "colab": {
          "base_uri": "https://localhost:8080/",
          "height": 508
        },
        "id": "JReVtCCZgWiy",
        "outputId": "1160f65f-5436-428d-cb52-9f5fc06461cf"
      },
      "source": [
        "unst1[['DAY','RALPH AV EXIT','RALPH AV ENTER']].plot(x='DAY',kind = 'bar')\n",
        "plt.xlabel(' Days')\n",
        "plt.ylabel(' Number of passengers')\n",
        "plt.title('Passenger traffic on \"RALPH AV\" station per 7 days')\n",
        "fig = plt.gcf()\n",
        "fig.set_size_inches(15, 8)\n",
        "plt.show()"
      ],
      "execution_count": 152,
      "outputs": [
        {
          "output_type": "display_data",
          "data": {
            "image/png": "[encoded data removed]",
            "text/plain": [
              "<Figure size 1080x576 with 1 Axes>"
            ]
          },
          "metadata": {
            "needs_background": "light"
          }
        }
      ]
    },
    {
      "cell_type": "code",
      "metadata": {
        "id": "5PNZx1IggjUF"
      },
      "source": [
        "all_pass1= (unst1['UNION ST EXIT'].sum())+(unst1['UNION ST ENTER'].sum())\n",
        "all_pass2= (unst1['GRAHAM AV EXIT'].sum())+(unst1['GRAHAM AV ENTER'].sum())\n",
        "all_pass3= (unst1['RALPH AV EXIT'].sum())+(unst1['RALPH AV ENTER'].sum())\n"
      ],
      "execution_count": 153,
      "outputs": []
    },
    {
      "cell_type": "code",
      "metadata": {
        "id": "FBOUDaAKiwSR"
      },
      "source": [
        ""
      ],
      "execution_count": 159,
      "outputs": []
    },
    {
      "cell_type": "code",
      "metadata": {
        "colab": {
          "base_uri": "https://localhost:8080/",
          "height": 414
        },
        "id": "fM2lwRviv-o1",
        "outputId": "c4e744c1-0fa6-488b-f974-dcd08dcb8157"
      },
      "source": [
        "stations_load"
      ],
      "execution_count": 159,
      "outputs": [
        {
          "output_type": "execute_result",
          "data": {
            "text/html": [
              "<div>\n",
              "<style scoped>\n",
              "    .dataframe tbody tr th:only-of-type {\n",
              "        vertical-align: middle;\n",
              "    }\n",
              "\n",
              "    .dataframe tbody tr th {\n",
              "        vertical-align: top;\n",
              "    }\n",
              "\n",
              "    .dataframe thead th {\n",
              "        text-align: right;\n",
              "    }\n",
              "</style>\n",
              "<table border=\"1\" class=\"dataframe\">\n",
              "  <thead>\n",
              "    <tr style=\"text-align: right;\">\n",
              "      <th></th>\n",
              "      <th>Station</th>\n",
              "      <th>Passengers</th>\n",
              "    </tr>\n",
              "  </thead>\n",
              "  <tbody>\n",
              "    <tr>\n",
              "      <th>0</th>\n",
              "      <td>NaN</td>\n",
              "      <td>NaN</td>\n",
              "    </tr>\n",
              "    <tr>\n",
              "      <th>1</th>\n",
              "      <td>NaN</td>\n",
              "      <td>NaN</td>\n",
              "    </tr>\n",
              "    <tr>\n",
              "      <th>2</th>\n",
              "      <td>NaN</td>\n",
              "      <td>NaN</td>\n",
              "    </tr>\n",
              "    <tr>\n",
              "      <th>3</th>\n",
              "      <td>NaN</td>\n",
              "      <td>NaN</td>\n",
              "    </tr>\n",
              "    <tr>\n",
              "      <th>4</th>\n",
              "      <td>NaN</td>\n",
              "      <td>NaN</td>\n",
              "    </tr>\n",
              "    <tr>\n",
              "      <th>...</th>\n",
              "      <td>...</td>\n",
              "      <td>...</td>\n",
              "    </tr>\n",
              "    <tr>\n",
              "      <th>112744</th>\n",
              "      <td>NaN</td>\n",
              "      <td>NaN</td>\n",
              "    </tr>\n",
              "    <tr>\n",
              "      <th>112745</th>\n",
              "      <td>NaN</td>\n",
              "      <td>NaN</td>\n",
              "    </tr>\n",
              "    <tr>\n",
              "      <th>112746</th>\n",
              "      <td>NaN</td>\n",
              "      <td>NaN</td>\n",
              "    </tr>\n",
              "    <tr>\n",
              "      <th>112747</th>\n",
              "      <td>NaN</td>\n",
              "      <td>NaN</td>\n",
              "    </tr>\n",
              "    <tr>\n",
              "      <th>112748</th>\n",
              "      <td>NaN</td>\n",
              "      <td>NaN</td>\n",
              "    </tr>\n",
              "  </tbody>\n",
              "</table>\n",
              "<p>112749 rows × 2 columns</p>\n",
              "</div>"
            ],
            "text/plain": [
              "        Station  Passengers\n",
              "0           NaN         NaN\n",
              "1           NaN         NaN\n",
              "2           NaN         NaN\n",
              "3           NaN         NaN\n",
              "4           NaN         NaN\n",
              "...         ...         ...\n",
              "112744      NaN         NaN\n",
              "112745      NaN         NaN\n",
              "112746      NaN         NaN\n",
              "112747      NaN         NaN\n",
              "112748      NaN         NaN\n",
              "\n",
              "[112749 rows x 2 columns]"
            ]
          },
          "metadata": {},
          "execution_count": 159
        }
      ]
    }
  ]
}